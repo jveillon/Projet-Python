{
 "cells": [
  {
   "cell_type": "code",
   "execution_count": 1,
   "metadata": {},
   "outputs": [
    {
     "name": "stdout",
     "output_type": "stream",
     "text": [
      "Collecting twitter==2.0a2\n",
      "  Downloading twitter-2.0a2-py2.py3-none-any.whl (53 kB)\n",
      "\u001b[2K     \u001b[90m━━━━━━━━━━━━━━━━━━━━━━━━━━━━━━━━━━━━━━━━\u001b[0m \u001b[32m53.3/53.3 kB\u001b[0m \u001b[31m4.0 MB/s\u001b[0m eta \u001b[36m0:00:00\u001b[0m\n",
      "\u001b[?25hRequirement already satisfied: certifi in /opt/mamba/lib/python3.10/site-packages (from twitter==2.0a2) (2022.9.24)\n",
      "Installing collected packages: twitter\n",
      "Successfully installed twitter-2.0a2\n"
     ]
    }
   ],
   "source": [
    "!pip install twitter==2.0a2"
   ]
  },
  {
   "cell_type": "code",
   "execution_count": 2,
   "metadata": {
    "tags": []
   },
   "outputs": [],
   "source": [
    "import pandas as pd\n",
    "import twitter\n",
    "import json\n",
    "import numpy as np\n",
    "import time\n",
    "from twitter import OAuth2\n",
    "from urllib.request import urlopen"
   ]
  },
  {
   "cell_type": "code",
   "execution_count": 3,
   "metadata": {},
   "outputs": [
    {
     "ename": "HTTPError",
     "evalue": "HTTP Error 404: Not Found",
     "output_type": "error",
     "traceback": [
      "\u001b[0;31m---------------------------------------------------------------------------\u001b[0m",
      "\u001b[0;31mHTTPError\u001b[0m                                 Traceback (most recent call last)",
      "Cell \u001b[0;32mIn [3], line 4\u001b[0m\n\u001b[1;32m      1\u001b[0m \u001b[38;5;66;03m# l'url change régulièrement, taper l'url après avoir download sur Github\u001b[39;00m\n\u001b[1;32m      2\u001b[0m url \u001b[38;5;241m=\u001b[39m \u001b[38;5;124m\"\u001b[39m\u001b[38;5;124mhttps://raw.githubusercontent.com/jveillon/Projet-Python/FixedScrapping/users.json?token=GHSAT0AAAAAAB4CFFVCHKMESFVFDLO5YYP6Y4277HA\u001b[39m\u001b[38;5;124m\"\u001b[39m\n\u001b[0;32m----> 4\u001b[0m response \u001b[38;5;241m=\u001b[39m \u001b[43murlopen\u001b[49m\u001b[43m(\u001b[49m\u001b[43murl\u001b[49m\u001b[43m)\u001b[49m\n\u001b[1;32m      6\u001b[0m data_json \u001b[38;5;241m=\u001b[39m json\u001b[38;5;241m.\u001b[39mloads(response\u001b[38;5;241m.\u001b[39mread())\n\u001b[1;32m      8\u001b[0m ids \u001b[38;5;241m=\u001b[39m data_json[\u001b[38;5;124m'\u001b[39m\u001b[38;5;124mid\u001b[39m\u001b[38;5;124m'\u001b[39m]\n",
      "File \u001b[0;32m/opt/mamba/lib/python3.10/urllib/request.py:216\u001b[0m, in \u001b[0;36murlopen\u001b[0;34m(url, data, timeout, cafile, capath, cadefault, context)\u001b[0m\n\u001b[1;32m    214\u001b[0m \u001b[38;5;28;01melse\u001b[39;00m:\n\u001b[1;32m    215\u001b[0m     opener \u001b[38;5;241m=\u001b[39m _opener\n\u001b[0;32m--> 216\u001b[0m \u001b[38;5;28;01mreturn\u001b[39;00m \u001b[43mopener\u001b[49m\u001b[38;5;241;43m.\u001b[39;49m\u001b[43mopen\u001b[49m\u001b[43m(\u001b[49m\u001b[43murl\u001b[49m\u001b[43m,\u001b[49m\u001b[43m \u001b[49m\u001b[43mdata\u001b[49m\u001b[43m,\u001b[49m\u001b[43m \u001b[49m\u001b[43mtimeout\u001b[49m\u001b[43m)\u001b[49m\n",
      "File \u001b[0;32m/opt/mamba/lib/python3.10/urllib/request.py:525\u001b[0m, in \u001b[0;36mOpenerDirector.open\u001b[0;34m(self, fullurl, data, timeout)\u001b[0m\n\u001b[1;32m    523\u001b[0m \u001b[38;5;28;01mfor\u001b[39;00m processor \u001b[38;5;129;01min\u001b[39;00m \u001b[38;5;28mself\u001b[39m\u001b[38;5;241m.\u001b[39mprocess_response\u001b[38;5;241m.\u001b[39mget(protocol, []):\n\u001b[1;32m    524\u001b[0m     meth \u001b[38;5;241m=\u001b[39m \u001b[38;5;28mgetattr\u001b[39m(processor, meth_name)\n\u001b[0;32m--> 525\u001b[0m     response \u001b[38;5;241m=\u001b[39m \u001b[43mmeth\u001b[49m\u001b[43m(\u001b[49m\u001b[43mreq\u001b[49m\u001b[43m,\u001b[49m\u001b[43m \u001b[49m\u001b[43mresponse\u001b[49m\u001b[43m)\u001b[49m\n\u001b[1;32m    527\u001b[0m \u001b[38;5;28;01mreturn\u001b[39;00m response\n",
      "File \u001b[0;32m/opt/mamba/lib/python3.10/urllib/request.py:634\u001b[0m, in \u001b[0;36mHTTPErrorProcessor.http_response\u001b[0;34m(self, request, response)\u001b[0m\n\u001b[1;32m    631\u001b[0m \u001b[38;5;66;03m# According to RFC 2616, \"2xx\" code indicates that the client's\u001b[39;00m\n\u001b[1;32m    632\u001b[0m \u001b[38;5;66;03m# request was successfully received, understood, and accepted.\u001b[39;00m\n\u001b[1;32m    633\u001b[0m \u001b[38;5;28;01mif\u001b[39;00m \u001b[38;5;129;01mnot\u001b[39;00m (\u001b[38;5;241m200\u001b[39m \u001b[38;5;241m<\u001b[39m\u001b[38;5;241m=\u001b[39m code \u001b[38;5;241m<\u001b[39m \u001b[38;5;241m300\u001b[39m):\n\u001b[0;32m--> 634\u001b[0m     response \u001b[38;5;241m=\u001b[39m \u001b[38;5;28;43mself\u001b[39;49m\u001b[38;5;241;43m.\u001b[39;49m\u001b[43mparent\u001b[49m\u001b[38;5;241;43m.\u001b[39;49m\u001b[43merror\u001b[49m\u001b[43m(\u001b[49m\n\u001b[1;32m    635\u001b[0m \u001b[43m        \u001b[49m\u001b[38;5;124;43m'\u001b[39;49m\u001b[38;5;124;43mhttp\u001b[39;49m\u001b[38;5;124;43m'\u001b[39;49m\u001b[43m,\u001b[49m\u001b[43m \u001b[49m\u001b[43mrequest\u001b[49m\u001b[43m,\u001b[49m\u001b[43m \u001b[49m\u001b[43mresponse\u001b[49m\u001b[43m,\u001b[49m\u001b[43m \u001b[49m\u001b[43mcode\u001b[49m\u001b[43m,\u001b[49m\u001b[43m \u001b[49m\u001b[43mmsg\u001b[49m\u001b[43m,\u001b[49m\u001b[43m \u001b[49m\u001b[43mhdrs\u001b[49m\u001b[43m)\u001b[49m\n\u001b[1;32m    637\u001b[0m \u001b[38;5;28;01mreturn\u001b[39;00m response\n",
      "File \u001b[0;32m/opt/mamba/lib/python3.10/urllib/request.py:563\u001b[0m, in \u001b[0;36mOpenerDirector.error\u001b[0;34m(self, proto, *args)\u001b[0m\n\u001b[1;32m    561\u001b[0m \u001b[38;5;28;01mif\u001b[39;00m http_err:\n\u001b[1;32m    562\u001b[0m     args \u001b[38;5;241m=\u001b[39m (\u001b[38;5;28mdict\u001b[39m, \u001b[38;5;124m'\u001b[39m\u001b[38;5;124mdefault\u001b[39m\u001b[38;5;124m'\u001b[39m, \u001b[38;5;124m'\u001b[39m\u001b[38;5;124mhttp_error_default\u001b[39m\u001b[38;5;124m'\u001b[39m) \u001b[38;5;241m+\u001b[39m orig_args\n\u001b[0;32m--> 563\u001b[0m     \u001b[38;5;28;01mreturn\u001b[39;00m \u001b[38;5;28;43mself\u001b[39;49m\u001b[38;5;241;43m.\u001b[39;49m\u001b[43m_call_chain\u001b[49m\u001b[43m(\u001b[49m\u001b[38;5;241;43m*\u001b[39;49m\u001b[43margs\u001b[49m\u001b[43m)\u001b[49m\n",
      "File \u001b[0;32m/opt/mamba/lib/python3.10/urllib/request.py:496\u001b[0m, in \u001b[0;36mOpenerDirector._call_chain\u001b[0;34m(self, chain, kind, meth_name, *args)\u001b[0m\n\u001b[1;32m    494\u001b[0m \u001b[38;5;28;01mfor\u001b[39;00m handler \u001b[38;5;129;01min\u001b[39;00m handlers:\n\u001b[1;32m    495\u001b[0m     func \u001b[38;5;241m=\u001b[39m \u001b[38;5;28mgetattr\u001b[39m(handler, meth_name)\n\u001b[0;32m--> 496\u001b[0m     result \u001b[38;5;241m=\u001b[39m \u001b[43mfunc\u001b[49m\u001b[43m(\u001b[49m\u001b[38;5;241;43m*\u001b[39;49m\u001b[43margs\u001b[49m\u001b[43m)\u001b[49m\n\u001b[1;32m    497\u001b[0m     \u001b[38;5;28;01mif\u001b[39;00m result \u001b[38;5;129;01mis\u001b[39;00m \u001b[38;5;129;01mnot\u001b[39;00m \u001b[38;5;28;01mNone\u001b[39;00m:\n\u001b[1;32m    498\u001b[0m         \u001b[38;5;28;01mreturn\u001b[39;00m result\n",
      "File \u001b[0;32m/opt/mamba/lib/python3.10/urllib/request.py:643\u001b[0m, in \u001b[0;36mHTTPDefaultErrorHandler.http_error_default\u001b[0;34m(self, req, fp, code, msg, hdrs)\u001b[0m\n\u001b[1;32m    642\u001b[0m \u001b[38;5;28;01mdef\u001b[39;00m \u001b[38;5;21mhttp_error_default\u001b[39m(\u001b[38;5;28mself\u001b[39m, req, fp, code, msg, hdrs):\n\u001b[0;32m--> 643\u001b[0m     \u001b[38;5;28;01mraise\u001b[39;00m HTTPError(req\u001b[38;5;241m.\u001b[39mfull_url, code, msg, hdrs, fp)\n",
      "\u001b[0;31mHTTPError\u001b[0m: HTTP Error 404: Not Found"
     ]
    }
   ],
   "source": [
    "# l'url change régulièrement, taper l'url après avoir download sur Github\n",
    "url = \"https://raw.githubusercontent.com/jveillon/Projet-Python/FixedScrapping/users.json?token=GHSAT0AAAAAAB4CFFVCHKMESFVFDLO5YYP6Y4277HA\"\n",
    "\n",
    "response = urlopen(url)\n",
    "\n",
    "data_json = json.loads(response.read())\n",
    "\n",
    "ids = data_json['id']\n",
    "liste_id = [ids[str(i)] for i in range(len(ids))]\n",
    "\n",
    "print(liste_id)"
   ]
  },
  {
   "cell_type": "code",
   "execution_count": 24,
   "metadata": {
    "collapsed": true,
    "jupyter": {
     "outputs_hidden": true
    }
   },
   "outputs": [],
   "source": [
    "dictionnaire_following = {}"
   ]
  },
  {
   "cell_type": "code",
   "execution_count": 25,
   "metadata": {},
   "outputs": [
    {
     "name": "stdout",
     "output_type": "stream",
     "text": [
      "8910\n"
     ]
    }
   ],
   "source": [
    "n_requete = len(liste_id)\n",
    "print(n_requete)"
   ]
  },
  {
   "cell_type": "code",
   "execution_count": 30,
   "metadata": {
    "collapsed": true,
    "jupyter": {
     "outputs_hidden": true
    }
   },
   "outputs": [],
   "source": [
    "def construction_dictionnaire(bearer,i) :\n",
    "    '''\n",
    "    Le but de cette fonction est de construire dictionnaire_following en utilisant plusieurs bearer différents, car\n",
    "    chaque bearer est limité en termes de nombre de requêtes toutes les 15 minutes\n",
    "    \n",
    "    Entrée :\n",
    "    \n",
    "    bearer : str\n",
    "    i : int : indice dans la boucle, pour pouvoir construire le dictionnaire sur de nouveaux utilisateurs\n",
    "    --------------------\n",
    "    Sortie :\n",
    "    \n",
    "    None\n",
    "    --------------------\n",
    "    Modifie par effet de bord dictionnaire_following\n",
    "    \n",
    "    '''\n",
    "    # avec le compte, on ne peut faire que 13 demandes de listes de followers\n",
    "    for j in range (i,i+13) :\n",
    "        \n",
    "        auth = OAuth2(bearer_token=bearer)\n",
    "        api = twitter.Twitter(auth=auth,api_version=\"2\",format=\"\")\n",
    "        \n",
    "        id_user = liste_id[j]\n",
    "        \n",
    "        # la liste des dictionnaires correspondant aux résultats de chaque requête\n",
    "        following = api.users._id.following(_id= id_user,max_results=1000)['data']\n",
    "        ids_following = [following[i]['id'] for i in range(len(following))]\n",
    "        dictionnaire_following.update({id_user : ids_following})\n",
    "        print(j)"
   ]
  },
  {
   "cell_type": "code",
   "execution_count": 27,
   "metadata": {
    "collapsed": true,
    "jupyter": {
     "outputs_hidden": true
    }
   },
   "outputs": [],
   "source": [
    "bearer_florent = 'AAAAAAAAAAAAAAAAAAAAACYpkQEAAAAAXEAZh5Grz9%2FdDc%2FAnqZmf%2BEsQqA%3Dz3k2j6XQA3M9XVp4yswCtj8gcd1Yi29sv1AER7YE9hEtqUZgSu'\n",
    "bearer_ambroise = 'AAAAAAAAAAAAAAAAAAAAANXkXgEAAAAA9btVv9h0f4Gx8r3D8bE7Mto0C84%3DvqFXOjroHrNOVZwxQUyOBtuo9M7hCgcmR3IMOZTBhi1oIaHyeV'\n",
    "bearer_florent2 = 'AAAAAAAAAAAAAAAAAAAAACrYkQEAAAAAjM1pHm9dab%2FXSJSm3V7NIkj8Rvk%3DTXHTMG9hgEuBax6g4w7zWH0dzCfR3VcqggeJMJU4yr03LG3uZ0'\n",
    "bearer_florent3 = 'AAAAAAAAAAAAAAAAAAAAAIHYkQEAAAAAXWTfErOqO1gdiogRNk28XuHKsXE%3DoooFseB0tDcIM9v4DNQ6HDuP5zZZl4rZ9Xxrm9X5wnKtqFtGSM'\n",
    "bearer_florent4 = 'AAAAAAAAAAAAAAAAAAAAAPbYkQEAAAAAoNVzBIY7RpXfu3aXsg3oqrHOKzw%3DbHKCEFRS3SUYRpahfwAM4jcD8mKRixUgDU2ohvheZuvrDD81BM'\n",
    "bearer_florent5 = 'AAAAAAAAAAAAAAAAAAAAADrZkQEAAAAAz7qAPtcp5EqGZrwSja2070mQd6Y%3DlBQKfbpqjfdmkPDVDVybeWZUHk3X2VpCRMWFsQMtadPGTz81gU'\n",
    "bearer_florent6 = 'AAAAAAAAAAAAAAAAAAAAAJrZkQEAAAAAzo8uJ4z03w8RIKj87APUPsEWfsk%3Dc9PxyfBThkJWisa9tebcoAlQ2d7DntnqzDP4ATmy6MGuEspIba'\n",
    "bearer_xavier = 'AAAAAAAAAAAAAAAAAAAAAIvZkQEAAAAAJ8DFFWNxJwqfyjlRo3ibEzWXLLs%3DVf55ZgTYRp0HJmyekQRtaGBwm7ymyCONpcNFDIJa8o4Rwhs9v9'\n",
    "bearer_juliette1 = 'AAAAAAAAAAAAAAAAAAAAAFiEjQEAAAAA6626vtqrbtrHkoIZ8x3XFJQWz6g%3DBYaIyb7sKLrOnlK02O3sbzUSYbF4rfigGpPScK4dflcGVDyDw4'\n",
    "bearer_juliette2 = 'AAAAAAAAAAAAAAAAAAAAAD%2FdkQEAAAAABpVGLzCZXxT6Jm%2FY5Xw8DCQlamI%3Dyf8EylbyIbbLiZrsnOYfXVANirxBrl2K63JkjecH9bmtLNJPsh'\n",
    "bearer_juliette3 = 'AAAAAAAAAAAAAAAAAAAAAHTdkQEAAAAAejnB8%2Bf89VPal%2FMQuaGEyKBbvlk%3DjNFRQtWJVPEHv9bUNVNNJ3IpJAuE9gN81dKvVKnCPSmqRxCLWL'"
   ]
  },
  {
   "cell_type": "code",
   "execution_count": 28,
   "metadata": {
    "collapsed": true,
    "jupyter": {
     "outputs_hidden": true
    }
   },
   "outputs": [],
   "source": [
    "bearers = [bearer_florent,\n",
    "           bearer_ambroise,\n",
    "           bearer_florent2,\n",
    "           bearer_florent3,\n",
    "           bearer_florent4,\n",
    "           bearer_florent5,\n",
    "           bearer_florent6,\n",
    "           bearer_xavier,\n",
    "           bearer_juliette1,\n",
    "           bearer_juliette2,\n",
    "           bearer_juliette3]"
   ]
  },
  {
   "cell_type": "code",
   "execution_count": 29,
   "metadata": {},
   "outputs": [
    {
     "name": "stdout",
     "output_type": "stream",
     "text": [
      "AAAAAAAAAAAAAAAAAAAAACYpkQEAAAAAXEAZh5Grz9%2FdDc%2FAnqZmf%2BEsQqA%3Dz3k2j6XQA3M9XVp4yswCtj8gcd1Yi29sv1AER7YE9hEtqUZgSu 0\n",
      "AAAAAAAAAAAAAAAAAAAAANXkXgEAAAAA9btVv9h0f4Gx8r3D8bE7Mto0C84%3DvqFXOjroHrNOVZwxQUyOBtuo9M7hCgcmR3IMOZTBhi1oIaHyeV 13\n",
      "AAAAAAAAAAAAAAAAAAAAACrYkQEAAAAAjM1pHm9dab%2FXSJSm3V7NIkj8Rvk%3DTXHTMG9hgEuBax6g4w7zWH0dzCfR3VcqggeJMJU4yr03LG3uZ0 26\n",
      "AAAAAAAAAAAAAAAAAAAAAIHYkQEAAAAAXWTfErOqO1gdiogRNk28XuHKsXE%3DoooFseB0tDcIM9v4DNQ6HDuP5zZZl4rZ9Xxrm9X5wnKtqFtGSM 39\n",
      "AAAAAAAAAAAAAAAAAAAAAPbYkQEAAAAAoNVzBIY7RpXfu3aXsg3oqrHOKzw%3DbHKCEFRS3SUYRpahfwAM4jcD8mKRixUgDU2ohvheZuvrDD81BM 52\n",
      "AAAAAAAAAAAAAAAAAAAAADrZkQEAAAAAz7qAPtcp5EqGZrwSja2070mQd6Y%3DlBQKfbpqjfdmkPDVDVybeWZUHk3X2VpCRMWFsQMtadPGTz81gU 65\n",
      "AAAAAAAAAAAAAAAAAAAAAJrZkQEAAAAAzo8uJ4z03w8RIKj87APUPsEWfsk%3Dc9PxyfBThkJWisa9tebcoAlQ2d7DntnqzDP4ATmy6MGuEspIba 78\n",
      "AAAAAAAAAAAAAAAAAAAAAIvZkQEAAAAAJ8DFFWNxJwqfyjlRo3ibEzWXLLs%3DVf55ZgTYRp0HJmyekQRtaGBwm7ymyCONpcNFDIJa8o4Rwhs9v9 91\n"
     ]
    },
    {
     "ename": "KeyError",
     "evalue": "'data'",
     "output_type": "error",
     "traceback": [
      "\u001b[1;31m---------------------------------------------------------------------------\u001b[0m",
      "\u001b[1;31mKeyError\u001b[0m                                  Traceback (most recent call last)",
      "\u001b[1;32m<ipython-input-29-a858170717f6>\u001b[0m in \u001b[0;36m<module>\u001b[1;34m()\u001b[0m\n\u001b[0;32m      4\u001b[0m     \u001b[1;32mfor\u001b[0m \u001b[0mbearer\u001b[0m \u001b[1;32min\u001b[0m \u001b[0mbearers\u001b[0m \u001b[1;33m:\u001b[0m\u001b[1;33m\u001b[0m\u001b[0m\n\u001b[0;32m      5\u001b[0m         \u001b[0mprint\u001b[0m\u001b[1;33m(\u001b[0m\u001b[0mbearer\u001b[0m\u001b[1;33m,\u001b[0m\u001b[0mi\u001b[0m\u001b[1;33m)\u001b[0m\u001b[1;33m\u001b[0m\u001b[0m\n\u001b[1;32m----> 6\u001b[1;33m         \u001b[0mconstruction_dictionnaire\u001b[0m\u001b[1;33m(\u001b[0m\u001b[0mbearer\u001b[0m\u001b[1;33m,\u001b[0m\u001b[0mi\u001b[0m\u001b[1;33m)\u001b[0m\u001b[1;33m\u001b[0m\u001b[0m\n\u001b[0m\u001b[0;32m      7\u001b[0m         \u001b[0mi\u001b[0m \u001b[1;33m+=\u001b[0m \u001b[1;36m13\u001b[0m\u001b[1;33m\u001b[0m\u001b[0m\n\u001b[0;32m      8\u001b[0m \u001b[1;33m\u001b[0m\u001b[0m\n",
      "\u001b[1;32m<ipython-input-26-256725dee2b6>\u001b[0m in \u001b[0;36mconstruction_dictionnaire\u001b[1;34m(bearer, i)\u001b[0m\n\u001b[0;32m     25\u001b[0m \u001b[1;33m\u001b[0m\u001b[0m\n\u001b[0;32m     26\u001b[0m         \u001b[1;31m# la liste des dictionnaires correspondant aux résultats de chaque requête\u001b[0m\u001b[1;33m\u001b[0m\u001b[1;33m\u001b[0m\u001b[0m\n\u001b[1;32m---> 27\u001b[1;33m         \u001b[0mfollowing\u001b[0m \u001b[1;33m=\u001b[0m \u001b[0mapi\u001b[0m\u001b[1;33m.\u001b[0m\u001b[0musers\u001b[0m\u001b[1;33m.\u001b[0m\u001b[0m_id\u001b[0m\u001b[1;33m.\u001b[0m\u001b[0mfollowing\u001b[0m\u001b[1;33m(\u001b[0m\u001b[0m_id\u001b[0m\u001b[1;33m=\u001b[0m \u001b[0mid_user\u001b[0m\u001b[1;33m,\u001b[0m\u001b[0mmax_results\u001b[0m\u001b[1;33m=\u001b[0m\u001b[1;36m1000\u001b[0m\u001b[1;33m)\u001b[0m\u001b[1;33m[\u001b[0m\u001b[1;34m'data'\u001b[0m\u001b[1;33m]\u001b[0m\u001b[1;33m\u001b[0m\u001b[0m\n\u001b[0m\u001b[0;32m     28\u001b[0m         \u001b[0mids_following\u001b[0m \u001b[1;33m=\u001b[0m \u001b[1;33m[\u001b[0m\u001b[0mfollowing\u001b[0m\u001b[1;33m[\u001b[0m\u001b[0mi\u001b[0m\u001b[1;33m]\u001b[0m\u001b[1;33m[\u001b[0m\u001b[1;34m'id'\u001b[0m\u001b[1;33m]\u001b[0m \u001b[1;32mfor\u001b[0m \u001b[0mi\u001b[0m \u001b[1;32min\u001b[0m \u001b[0mrange\u001b[0m\u001b[1;33m(\u001b[0m\u001b[0mlen\u001b[0m\u001b[1;33m(\u001b[0m\u001b[0mfollowing\u001b[0m\u001b[1;33m)\u001b[0m\u001b[1;33m)\u001b[0m\u001b[1;33m]\u001b[0m\u001b[1;33m\u001b[0m\u001b[0m\n\u001b[0;32m     29\u001b[0m         \u001b[0mdictionnaire_following\u001b[0m\u001b[1;33m.\u001b[0m\u001b[0mupdate\u001b[0m\u001b[1;33m(\u001b[0m\u001b[1;33m{\u001b[0m\u001b[0mid_user\u001b[0m \u001b[1;33m:\u001b[0m \u001b[0mids_following\u001b[0m\u001b[1;33m}\u001b[0m\u001b[1;33m)\u001b[0m\u001b[1;33m\u001b[0m\u001b[0m\n",
      "\u001b[1;31mKeyError\u001b[0m: 'data'"
     ]
    }
   ],
   "source": [
    "i = 0\n",
    "while i < n_requete :\n",
    "    \n",
    "    for bearer in bearers :\n",
    "        print(bearer,i)\n",
    "        construction_dictionnaire(bearer,i)\n",
    "        i += 13\n",
    "    \n",
    "    # on sauvegarde le dictionnaire mis à jour\n",
    "    with open('dictionnaire_following.json', 'w') as fp:\n",
    "        json.dump(dictionnaire_following, fp)\n",
    "    \n",
    "    break\n",
    "    \n",
    "    # on doit attendre 15 minutes avant de pouvoir faire de nouvelles requêtes\n",
    "    time.sleep(903)"
   ]
  },
  {
   "cell_type": "code",
   "execution_count": 12,
   "metadata": {},
   "outputs": [
    {
     "name": "stdout",
     "output_type": "stream",
     "text": [
      "{}\n"
     ]
    }
   ],
   "source": [
    "print(dictionnaire_following)"
   ]
  },
  {
   "cell_type": "code",
   "execution_count": 17,
   "metadata": {},
   "outputs": [
    {
     "name": "stdout",
     "output_type": "stream",
     "text": [
      "dict_keys(['523849904', '1546342369385226242', '1600649374022995968', '491271694', '1088810623465590784', '1379055842', '962673658119557121', '1570515228768587776', '629486394', '1536397663', '1488444267223830533', '1450128309044514821', '606358173', '1096814022333210624', '4122132033', '1093721244678144001', '1260975226298535937', '1488076079340400641'])\n"
     ]
    }
   ],
   "source": [
    "with open('dictionnaire_following.json', 'r') as fp:\n",
    "    data = json.load(fp)\n",
    "print(data.keys())"
   ]
  },
  {
   "cell_type": "code",
   "execution_count": 20,
   "metadata": {},
   "outputs": [
    {
     "name": "stdout",
     "output_type": "stream",
     "text": [
      "{'data': [{'id': '2515649934', 'name': 'Valouzz 👁\\u200d🗨', 'username': 'valouzz_'}, {'id': '158487331', 'name': 'Neymar Jr', 'username': 'neymarjr'}, {'id': '892898632244101122', 'name': 'NeymarFR', 'username': 'NeymarFr_'}, {'id': '950341134', 'name': 'Antoine Griezmann', 'username': 'AntoGriezmann'}, {'id': '35856249', 'name': 'CBF Futebol', 'username': 'CBF_Futebol'}, {'id': '2155215398', 'name': 'Equipe de France ⭐⭐', 'username': 'equipedefrance'}], 'meta': {'result_count': 6}}\n"
     ]
    }
   ],
   "source": [
    "bearer = bearer_xavier\n",
    "auth = OAuth2(bearer_token=bearer)\n",
    "api = twitter.Twitter(auth=auth,api_version=\"2\",format=\"\")\n",
    "\n",
    "# la liste des dictionnaires correspondant aux résultats de chaque requête\n",
    "following = api.users._id.following(_id= '1560442651',max_results=1000)#['data']\n",
    "print(following)"
   ]
  }
 ],
 "metadata": {
  "kernelspec": {
   "display_name": "Python 3 (ipykernel)",
   "language": "python",
   "name": "python3"
  },
  "language_info": {
   "codemirror_mode": {
    "name": "ipython",
    "version": 3
   },
   "file_extension": ".py",
   "mimetype": "text/x-python",
   "name": "python",
   "nbconvert_exporter": "python",
   "pygments_lexer": "ipython3",
   "version": "3.10.4"
  }
 },
 "nbformat": 4,
 "nbformat_minor": 4
}
