{
 "cells": [
  {
   "cell_type": "code",
   "execution_count": 1,
   "metadata": {},
   "outputs": [
    {
     "name": "stdout",
     "output_type": "stream",
     "text": [
      "Defaulting to user installation because normal site-packages is not writeable\n",
      "Requirement already satisfied: twitter==2.0a2 in c:\\users\\florent\\appdata\\roaming\\python\\python36\\site-packages (2.0a2)\n",
      "Requirement already satisfied: certifi in c:\\program files (x86)\\microsoft visual studio\\shared\\anaconda3_64\\lib\\site-packages (from twitter==2.0a2) (2017.7.27.1)\n"
     ]
    }
   ],
   "source": [
    "!pip install twitter==2.0a2"
   ]
  },
  {
   "cell_type": "code",
   "execution_count": 22,
   "metadata": {
    "collapsed": true
   },
   "outputs": [],
   "source": [
    "import pandas as pd\n",
    "import twitter\n",
    "import json\n",
    "import numpy as np\n",
    "import time\n",
    "from twitter import OAuth2\n",
    "from urllib.request import urlopen"
   ]
  },
  {
   "cell_type": "code",
   "execution_count": 23,
   "metadata": {},
   "outputs": [
    {
     "ename": "HTTPError",
     "evalue": "HTTP Error 404: Not Found",
     "output_type": "error",
     "traceback": [
      "\u001b[1;31m---------------------------------------------------------------------------\u001b[0m",
      "\u001b[1;31mHTTPError\u001b[0m                                 Traceback (most recent call last)",
      "\u001b[1;32m<ipython-input-23-3211e421dc07>\u001b[0m in \u001b[0;36m<module>\u001b[1;34m()\u001b[0m\n\u001b[0;32m      2\u001b[0m \u001b[0murl\u001b[0m \u001b[1;33m=\u001b[0m \u001b[1;34m\"https://raw.githubusercontent.com/jveillon/Projet-Python/FixedScrapping/users.json?token=GHSAT0AAAAAAB4CFFVCHKMESFVFDLO5YYP6Y4277HA\"\u001b[0m\u001b[1;33m\u001b[0m\u001b[0m\n\u001b[0;32m      3\u001b[0m \u001b[1;33m\u001b[0m\u001b[0m\n\u001b[1;32m----> 4\u001b[1;33m \u001b[0mresponse\u001b[0m \u001b[1;33m=\u001b[0m \u001b[0murlopen\u001b[0m\u001b[1;33m(\u001b[0m\u001b[0murl\u001b[0m\u001b[1;33m)\u001b[0m\u001b[1;33m\u001b[0m\u001b[0m\n\u001b[0m\u001b[0;32m      5\u001b[0m \u001b[1;33m\u001b[0m\u001b[0m\n\u001b[0;32m      6\u001b[0m \u001b[0mdata_json\u001b[0m \u001b[1;33m=\u001b[0m \u001b[0mjson\u001b[0m\u001b[1;33m.\u001b[0m\u001b[0mloads\u001b[0m\u001b[1;33m(\u001b[0m\u001b[0mresponse\u001b[0m\u001b[1;33m.\u001b[0m\u001b[0mread\u001b[0m\u001b[1;33m(\u001b[0m\u001b[1;33m)\u001b[0m\u001b[1;33m)\u001b[0m\u001b[1;33m\u001b[0m\u001b[0m\n",
      "\u001b[1;32mC:\\Program Files (x86)\\Microsoft Visual Studio\\Shared\\Anaconda3_64\\lib\\urllib\\request.py\u001b[0m in \u001b[0;36murlopen\u001b[1;34m(url, data, timeout, cafile, capath, cadefault, context)\u001b[0m\n\u001b[0;32m    221\u001b[0m     \u001b[1;32melse\u001b[0m\u001b[1;33m:\u001b[0m\u001b[1;33m\u001b[0m\u001b[0m\n\u001b[0;32m    222\u001b[0m         \u001b[0mopener\u001b[0m \u001b[1;33m=\u001b[0m \u001b[0m_opener\u001b[0m\u001b[1;33m\u001b[0m\u001b[0m\n\u001b[1;32m--> 223\u001b[1;33m     \u001b[1;32mreturn\u001b[0m \u001b[0mopener\u001b[0m\u001b[1;33m.\u001b[0m\u001b[0mopen\u001b[0m\u001b[1;33m(\u001b[0m\u001b[0murl\u001b[0m\u001b[1;33m,\u001b[0m \u001b[0mdata\u001b[0m\u001b[1;33m,\u001b[0m \u001b[0mtimeout\u001b[0m\u001b[1;33m)\u001b[0m\u001b[1;33m\u001b[0m\u001b[0m\n\u001b[0m\u001b[0;32m    224\u001b[0m \u001b[1;33m\u001b[0m\u001b[0m\n\u001b[0;32m    225\u001b[0m \u001b[1;32mdef\u001b[0m \u001b[0minstall_opener\u001b[0m\u001b[1;33m(\u001b[0m\u001b[0mopener\u001b[0m\u001b[1;33m)\u001b[0m\u001b[1;33m:\u001b[0m\u001b[1;33m\u001b[0m\u001b[0m\n",
      "\u001b[1;32mC:\\Program Files (x86)\\Microsoft Visual Studio\\Shared\\Anaconda3_64\\lib\\urllib\\request.py\u001b[0m in \u001b[0;36mopen\u001b[1;34m(self, fullurl, data, timeout)\u001b[0m\n\u001b[0;32m    530\u001b[0m         \u001b[1;32mfor\u001b[0m \u001b[0mprocessor\u001b[0m \u001b[1;32min\u001b[0m \u001b[0mself\u001b[0m\u001b[1;33m.\u001b[0m\u001b[0mprocess_response\u001b[0m\u001b[1;33m.\u001b[0m\u001b[0mget\u001b[0m\u001b[1;33m(\u001b[0m\u001b[0mprotocol\u001b[0m\u001b[1;33m,\u001b[0m \u001b[1;33m[\u001b[0m\u001b[1;33m]\u001b[0m\u001b[1;33m)\u001b[0m\u001b[1;33m:\u001b[0m\u001b[1;33m\u001b[0m\u001b[0m\n\u001b[0;32m    531\u001b[0m             \u001b[0mmeth\u001b[0m \u001b[1;33m=\u001b[0m \u001b[0mgetattr\u001b[0m\u001b[1;33m(\u001b[0m\u001b[0mprocessor\u001b[0m\u001b[1;33m,\u001b[0m \u001b[0mmeth_name\u001b[0m\u001b[1;33m)\u001b[0m\u001b[1;33m\u001b[0m\u001b[0m\n\u001b[1;32m--> 532\u001b[1;33m             \u001b[0mresponse\u001b[0m \u001b[1;33m=\u001b[0m \u001b[0mmeth\u001b[0m\u001b[1;33m(\u001b[0m\u001b[0mreq\u001b[0m\u001b[1;33m,\u001b[0m \u001b[0mresponse\u001b[0m\u001b[1;33m)\u001b[0m\u001b[1;33m\u001b[0m\u001b[0m\n\u001b[0m\u001b[0;32m    533\u001b[0m \u001b[1;33m\u001b[0m\u001b[0m\n\u001b[0;32m    534\u001b[0m         \u001b[1;32mreturn\u001b[0m \u001b[0mresponse\u001b[0m\u001b[1;33m\u001b[0m\u001b[0m\n",
      "\u001b[1;32mC:\\Program Files (x86)\\Microsoft Visual Studio\\Shared\\Anaconda3_64\\lib\\urllib\\request.py\u001b[0m in \u001b[0;36mhttp_response\u001b[1;34m(self, request, response)\u001b[0m\n\u001b[0;32m    640\u001b[0m         \u001b[1;32mif\u001b[0m \u001b[1;32mnot\u001b[0m \u001b[1;33m(\u001b[0m\u001b[1;36m200\u001b[0m \u001b[1;33m<=\u001b[0m \u001b[0mcode\u001b[0m \u001b[1;33m<\u001b[0m \u001b[1;36m300\u001b[0m\u001b[1;33m)\u001b[0m\u001b[1;33m:\u001b[0m\u001b[1;33m\u001b[0m\u001b[0m\n\u001b[0;32m    641\u001b[0m             response = self.parent.error(\n\u001b[1;32m--> 642\u001b[1;33m                 'http', request, response, code, msg, hdrs)\n\u001b[0m\u001b[0;32m    643\u001b[0m \u001b[1;33m\u001b[0m\u001b[0m\n\u001b[0;32m    644\u001b[0m         \u001b[1;32mreturn\u001b[0m \u001b[0mresponse\u001b[0m\u001b[1;33m\u001b[0m\u001b[0m\n",
      "\u001b[1;32mC:\\Program Files (x86)\\Microsoft Visual Studio\\Shared\\Anaconda3_64\\lib\\urllib\\request.py\u001b[0m in \u001b[0;36merror\u001b[1;34m(self, proto, *args)\u001b[0m\n\u001b[0;32m    568\u001b[0m         \u001b[1;32mif\u001b[0m \u001b[0mhttp_err\u001b[0m\u001b[1;33m:\u001b[0m\u001b[1;33m\u001b[0m\u001b[0m\n\u001b[0;32m    569\u001b[0m             \u001b[0margs\u001b[0m \u001b[1;33m=\u001b[0m \u001b[1;33m(\u001b[0m\u001b[0mdict\u001b[0m\u001b[1;33m,\u001b[0m \u001b[1;34m'default'\u001b[0m\u001b[1;33m,\u001b[0m \u001b[1;34m'http_error_default'\u001b[0m\u001b[1;33m)\u001b[0m \u001b[1;33m+\u001b[0m \u001b[0morig_args\u001b[0m\u001b[1;33m\u001b[0m\u001b[0m\n\u001b[1;32m--> 570\u001b[1;33m             \u001b[1;32mreturn\u001b[0m \u001b[0mself\u001b[0m\u001b[1;33m.\u001b[0m\u001b[0m_call_chain\u001b[0m\u001b[1;33m(\u001b[0m\u001b[1;33m*\u001b[0m\u001b[0margs\u001b[0m\u001b[1;33m)\u001b[0m\u001b[1;33m\u001b[0m\u001b[0m\n\u001b[0m\u001b[0;32m    571\u001b[0m \u001b[1;33m\u001b[0m\u001b[0m\n\u001b[0;32m    572\u001b[0m \u001b[1;31m# XXX probably also want an abstract factory that knows when it makes\u001b[0m\u001b[1;33m\u001b[0m\u001b[1;33m\u001b[0m\u001b[0m\n",
      "\u001b[1;32mC:\\Program Files (x86)\\Microsoft Visual Studio\\Shared\\Anaconda3_64\\lib\\urllib\\request.py\u001b[0m in \u001b[0;36m_call_chain\u001b[1;34m(self, chain, kind, meth_name, *args)\u001b[0m\n\u001b[0;32m    502\u001b[0m         \u001b[1;32mfor\u001b[0m \u001b[0mhandler\u001b[0m \u001b[1;32min\u001b[0m \u001b[0mhandlers\u001b[0m\u001b[1;33m:\u001b[0m\u001b[1;33m\u001b[0m\u001b[0m\n\u001b[0;32m    503\u001b[0m             \u001b[0mfunc\u001b[0m \u001b[1;33m=\u001b[0m \u001b[0mgetattr\u001b[0m\u001b[1;33m(\u001b[0m\u001b[0mhandler\u001b[0m\u001b[1;33m,\u001b[0m \u001b[0mmeth_name\u001b[0m\u001b[1;33m)\u001b[0m\u001b[1;33m\u001b[0m\u001b[0m\n\u001b[1;32m--> 504\u001b[1;33m             \u001b[0mresult\u001b[0m \u001b[1;33m=\u001b[0m \u001b[0mfunc\u001b[0m\u001b[1;33m(\u001b[0m\u001b[1;33m*\u001b[0m\u001b[0margs\u001b[0m\u001b[1;33m)\u001b[0m\u001b[1;33m\u001b[0m\u001b[0m\n\u001b[0m\u001b[0;32m    505\u001b[0m             \u001b[1;32mif\u001b[0m \u001b[0mresult\u001b[0m \u001b[1;32mis\u001b[0m \u001b[1;32mnot\u001b[0m \u001b[1;32mNone\u001b[0m\u001b[1;33m:\u001b[0m\u001b[1;33m\u001b[0m\u001b[0m\n\u001b[0;32m    506\u001b[0m                 \u001b[1;32mreturn\u001b[0m \u001b[0mresult\u001b[0m\u001b[1;33m\u001b[0m\u001b[0m\n",
      "\u001b[1;32mC:\\Program Files (x86)\\Microsoft Visual Studio\\Shared\\Anaconda3_64\\lib\\urllib\\request.py\u001b[0m in \u001b[0;36mhttp_error_default\u001b[1;34m(self, req, fp, code, msg, hdrs)\u001b[0m\n\u001b[0;32m    648\u001b[0m \u001b[1;32mclass\u001b[0m \u001b[0mHTTPDefaultErrorHandler\u001b[0m\u001b[1;33m(\u001b[0m\u001b[0mBaseHandler\u001b[0m\u001b[1;33m)\u001b[0m\u001b[1;33m:\u001b[0m\u001b[1;33m\u001b[0m\u001b[0m\n\u001b[0;32m    649\u001b[0m     \u001b[1;32mdef\u001b[0m \u001b[0mhttp_error_default\u001b[0m\u001b[1;33m(\u001b[0m\u001b[0mself\u001b[0m\u001b[1;33m,\u001b[0m \u001b[0mreq\u001b[0m\u001b[1;33m,\u001b[0m \u001b[0mfp\u001b[0m\u001b[1;33m,\u001b[0m \u001b[0mcode\u001b[0m\u001b[1;33m,\u001b[0m \u001b[0mmsg\u001b[0m\u001b[1;33m,\u001b[0m \u001b[0mhdrs\u001b[0m\u001b[1;33m)\u001b[0m\u001b[1;33m:\u001b[0m\u001b[1;33m\u001b[0m\u001b[0m\n\u001b[1;32m--> 650\u001b[1;33m         \u001b[1;32mraise\u001b[0m \u001b[0mHTTPError\u001b[0m\u001b[1;33m(\u001b[0m\u001b[0mreq\u001b[0m\u001b[1;33m.\u001b[0m\u001b[0mfull_url\u001b[0m\u001b[1;33m,\u001b[0m \u001b[0mcode\u001b[0m\u001b[1;33m,\u001b[0m \u001b[0mmsg\u001b[0m\u001b[1;33m,\u001b[0m \u001b[0mhdrs\u001b[0m\u001b[1;33m,\u001b[0m \u001b[0mfp\u001b[0m\u001b[1;33m)\u001b[0m\u001b[1;33m\u001b[0m\u001b[0m\n\u001b[0m\u001b[0;32m    651\u001b[0m \u001b[1;33m\u001b[0m\u001b[0m\n\u001b[0;32m    652\u001b[0m \u001b[1;32mclass\u001b[0m \u001b[0mHTTPRedirectHandler\u001b[0m\u001b[1;33m(\u001b[0m\u001b[0mBaseHandler\u001b[0m\u001b[1;33m)\u001b[0m\u001b[1;33m:\u001b[0m\u001b[1;33m\u001b[0m\u001b[0m\n",
      "\u001b[1;31mHTTPError\u001b[0m: HTTP Error 404: Not Found"
     ]
    }
   ],
   "source": [
    "# l'url change régulièrement, taper l'url après avoir download sur Github\n",
    "url = \"https://raw.githubusercontent.com/jveillon/Projet-Python/FixedScrapping/users.json?token=GHSAT0AAAAAAB4CFFVCHKMESFVFDLO5YYP6Y4277HA\"\n",
    "\n",
    "response = urlopen(url)\n",
    "\n",
    "data_json = json.loads(response.read())\n",
    "\n",
    "ids = data_json['id']\n",
    "liste_id = [ids[str(i)] for i in range(len(ids))]\n",
    "\n",
    "print(liste_id)"
   ]
  },
  {
   "cell_type": "code",
   "execution_count": 24,
   "metadata": {
    "collapsed": true
   },
   "outputs": [],
   "source": [
    "dictionnaire_following = {}"
   ]
  },
  {
   "cell_type": "code",
   "execution_count": 25,
   "metadata": {},
   "outputs": [
    {
     "name": "stdout",
     "output_type": "stream",
     "text": [
      "8910\n"
     ]
    }
   ],
   "source": [
    "n_requete = len(liste_id)\n",
    "print(n_requete)"
   ]
  },
  {
   "cell_type": "code",
   "execution_count": 30,
   "metadata": {
    "collapsed": true
   },
   "outputs": [],
   "source": [
    "def construction_dictionnaire(bearer,i) :\n",
    "    '''\n",
    "    Le but de cette fonction est de construire dictionnaire_following en utilisant plusieurs bearer différents, car\n",
    "    chaque bearer est limité en termes de nombre de requêtes toutes les 15 minutes\n",
    "    \n",
    "    Entrée :\n",
    "    \n",
    "    bearer : str\n",
    "    i : int : indice dans la boucle, pour pouvoir construire le dictionnaire sur de nouveaux utilisateurs\n",
    "    --------------------\n",
    "    Sortie :\n",
    "    \n",
    "    None\n",
    "    --------------------\n",
    "    Modifie par effet de bord dictionnaire_following\n",
    "    \n",
    "    '''\n",
    "    # avec le compte, on ne peut faire que 13 demandes de listes de followers\n",
    "    for j in range (i,i+13) :\n",
    "        \n",
    "        auth = OAuth2(bearer_token=bearer)\n",
    "        api = twitter.Twitter(auth=auth,api_version=\"2\",format=\"\")\n",
    "        \n",
    "        id_user = liste_id[j]\n",
    "        \n",
    "        # la liste des dictionnaires correspondant aux résultats de chaque requête\n",
    "        following = api.users._id.following(_id= id_user,max_results=1000)['data']\n",
    "        ids_following = [following[i]['id'] for i in range(len(following))]\n",
    "        dictionnaire_following.update({id_user : ids_following})\n",
    "        print(j)"
   ]
  },
  {
   "cell_type": "code",
   "execution_count": 27,
   "metadata": {
    "collapsed": true
   },
   "outputs": [],
   "source": [
    "bearer_florent = 'AAAAAAAAAAAAAAAAAAAAACYpkQEAAAAAXEAZh5Grz9%2FdDc%2FAnqZmf%2BEsQqA%3Dz3k2j6XQA3M9XVp4yswCtj8gcd1Yi29sv1AER7YE9hEtqUZgSu'\n",
    "bearer_ambroise = 'AAAAAAAAAAAAAAAAAAAAANXkXgEAAAAA9btVv9h0f4Gx8r3D8bE7Mto0C84%3DvqFXOjroHrNOVZwxQUyOBtuo9M7hCgcmR3IMOZTBhi1oIaHyeV'\n",
    "bearer_florent2 = 'AAAAAAAAAAAAAAAAAAAAACrYkQEAAAAAjM1pHm9dab%2FXSJSm3V7NIkj8Rvk%3DTXHTMG9hgEuBax6g4w7zWH0dzCfR3VcqggeJMJU4yr03LG3uZ0'\n",
    "bearer_florent3 = 'AAAAAAAAAAAAAAAAAAAAAIHYkQEAAAAAXWTfErOqO1gdiogRNk28XuHKsXE%3DoooFseB0tDcIM9v4DNQ6HDuP5zZZl4rZ9Xxrm9X5wnKtqFtGSM'\n",
    "bearer_florent4 = 'AAAAAAAAAAAAAAAAAAAAAPbYkQEAAAAAoNVzBIY7RpXfu3aXsg3oqrHOKzw%3DbHKCEFRS3SUYRpahfwAM4jcD8mKRixUgDU2ohvheZuvrDD81BM'\n",
    "bearer_florent5 = 'AAAAAAAAAAAAAAAAAAAAADrZkQEAAAAAz7qAPtcp5EqGZrwSja2070mQd6Y%3DlBQKfbpqjfdmkPDVDVybeWZUHk3X2VpCRMWFsQMtadPGTz81gU'\n",
    "bearer_florent6 = 'AAAAAAAAAAAAAAAAAAAAAJrZkQEAAAAAzo8uJ4z03w8RIKj87APUPsEWfsk%3Dc9PxyfBThkJWisa9tebcoAlQ2d7DntnqzDP4ATmy6MGuEspIba'\n",
    "bearer_xavier = 'AAAAAAAAAAAAAAAAAAAAAIvZkQEAAAAAJ8DFFWNxJwqfyjlRo3ibEzWXLLs%3DVf55ZgTYRp0HJmyekQRtaGBwm7ymyCONpcNFDIJa8o4Rwhs9v9'"
   ]
  },
  {
   "cell_type": "code",
   "execution_count": 28,
   "metadata": {
    "collapsed": true
   },
   "outputs": [],
   "source": [
    "bearers = [bearer_florent,\n",
    "           bearer_ambroise,\n",
    "           bearer_florent2,\n",
    "           bearer_florent3,\n",
    "           bearer_florent4,\n",
    "           bearer_florent5,\n",
    "           bearer_florent6,\n",
    "           bearer_xavier]"
   ]
  },
  {
   "cell_type": "code",
   "execution_count": 29,
   "metadata": {},
   "outputs": [
    {
     "name": "stdout",
     "output_type": "stream",
     "text": [
      "AAAAAAAAAAAAAAAAAAAAACYpkQEAAAAAXEAZh5Grz9%2FdDc%2FAnqZmf%2BEsQqA%3Dz3k2j6XQA3M9XVp4yswCtj8gcd1Yi29sv1AER7YE9hEtqUZgSu 0\n",
      "AAAAAAAAAAAAAAAAAAAAANXkXgEAAAAA9btVv9h0f4Gx8r3D8bE7Mto0C84%3DvqFXOjroHrNOVZwxQUyOBtuo9M7hCgcmR3IMOZTBhi1oIaHyeV 13\n",
      "AAAAAAAAAAAAAAAAAAAAACrYkQEAAAAAjM1pHm9dab%2FXSJSm3V7NIkj8Rvk%3DTXHTMG9hgEuBax6g4w7zWH0dzCfR3VcqggeJMJU4yr03LG3uZ0 26\n",
      "AAAAAAAAAAAAAAAAAAAAAIHYkQEAAAAAXWTfErOqO1gdiogRNk28XuHKsXE%3DoooFseB0tDcIM9v4DNQ6HDuP5zZZl4rZ9Xxrm9X5wnKtqFtGSM 39\n",
      "AAAAAAAAAAAAAAAAAAAAAPbYkQEAAAAAoNVzBIY7RpXfu3aXsg3oqrHOKzw%3DbHKCEFRS3SUYRpahfwAM4jcD8mKRixUgDU2ohvheZuvrDD81BM 52\n",
      "AAAAAAAAAAAAAAAAAAAAADrZkQEAAAAAz7qAPtcp5EqGZrwSja2070mQd6Y%3DlBQKfbpqjfdmkPDVDVybeWZUHk3X2VpCRMWFsQMtadPGTz81gU 65\n",
      "AAAAAAAAAAAAAAAAAAAAAJrZkQEAAAAAzo8uJ4z03w8RIKj87APUPsEWfsk%3Dc9PxyfBThkJWisa9tebcoAlQ2d7DntnqzDP4ATmy6MGuEspIba 78\n",
      "AAAAAAAAAAAAAAAAAAAAAIvZkQEAAAAAJ8DFFWNxJwqfyjlRo3ibEzWXLLs%3DVf55ZgTYRp0HJmyekQRtaGBwm7ymyCONpcNFDIJa8o4Rwhs9v9 91\n"
     ]
    },
    {
     "ename": "KeyError",
     "evalue": "'data'",
     "output_type": "error",
     "traceback": [
      "\u001b[1;31m---------------------------------------------------------------------------\u001b[0m",
      "\u001b[1;31mKeyError\u001b[0m                                  Traceback (most recent call last)",
      "\u001b[1;32m<ipython-input-29-a858170717f6>\u001b[0m in \u001b[0;36m<module>\u001b[1;34m()\u001b[0m\n\u001b[0;32m      4\u001b[0m     \u001b[1;32mfor\u001b[0m \u001b[0mbearer\u001b[0m \u001b[1;32min\u001b[0m \u001b[0mbearers\u001b[0m \u001b[1;33m:\u001b[0m\u001b[1;33m\u001b[0m\u001b[0m\n\u001b[0;32m      5\u001b[0m         \u001b[0mprint\u001b[0m\u001b[1;33m(\u001b[0m\u001b[0mbearer\u001b[0m\u001b[1;33m,\u001b[0m\u001b[0mi\u001b[0m\u001b[1;33m)\u001b[0m\u001b[1;33m\u001b[0m\u001b[0m\n\u001b[1;32m----> 6\u001b[1;33m         \u001b[0mconstruction_dictionnaire\u001b[0m\u001b[1;33m(\u001b[0m\u001b[0mbearer\u001b[0m\u001b[1;33m,\u001b[0m\u001b[0mi\u001b[0m\u001b[1;33m)\u001b[0m\u001b[1;33m\u001b[0m\u001b[0m\n\u001b[0m\u001b[0;32m      7\u001b[0m         \u001b[0mi\u001b[0m \u001b[1;33m+=\u001b[0m \u001b[1;36m13\u001b[0m\u001b[1;33m\u001b[0m\u001b[0m\n\u001b[0;32m      8\u001b[0m \u001b[1;33m\u001b[0m\u001b[0m\n",
      "\u001b[1;32m<ipython-input-26-256725dee2b6>\u001b[0m in \u001b[0;36mconstruction_dictionnaire\u001b[1;34m(bearer, i)\u001b[0m\n\u001b[0;32m     25\u001b[0m \u001b[1;33m\u001b[0m\u001b[0m\n\u001b[0;32m     26\u001b[0m         \u001b[1;31m# la liste des dictionnaires correspondant aux résultats de chaque requête\u001b[0m\u001b[1;33m\u001b[0m\u001b[1;33m\u001b[0m\u001b[0m\n\u001b[1;32m---> 27\u001b[1;33m         \u001b[0mfollowing\u001b[0m \u001b[1;33m=\u001b[0m \u001b[0mapi\u001b[0m\u001b[1;33m.\u001b[0m\u001b[0musers\u001b[0m\u001b[1;33m.\u001b[0m\u001b[0m_id\u001b[0m\u001b[1;33m.\u001b[0m\u001b[0mfollowing\u001b[0m\u001b[1;33m(\u001b[0m\u001b[0m_id\u001b[0m\u001b[1;33m=\u001b[0m \u001b[0mid_user\u001b[0m\u001b[1;33m,\u001b[0m\u001b[0mmax_results\u001b[0m\u001b[1;33m=\u001b[0m\u001b[1;36m1000\u001b[0m\u001b[1;33m)\u001b[0m\u001b[1;33m[\u001b[0m\u001b[1;34m'data'\u001b[0m\u001b[1;33m]\u001b[0m\u001b[1;33m\u001b[0m\u001b[0m\n\u001b[0m\u001b[0;32m     28\u001b[0m         \u001b[0mids_following\u001b[0m \u001b[1;33m=\u001b[0m \u001b[1;33m[\u001b[0m\u001b[0mfollowing\u001b[0m\u001b[1;33m[\u001b[0m\u001b[0mi\u001b[0m\u001b[1;33m]\u001b[0m\u001b[1;33m[\u001b[0m\u001b[1;34m'id'\u001b[0m\u001b[1;33m]\u001b[0m \u001b[1;32mfor\u001b[0m \u001b[0mi\u001b[0m \u001b[1;32min\u001b[0m \u001b[0mrange\u001b[0m\u001b[1;33m(\u001b[0m\u001b[0mlen\u001b[0m\u001b[1;33m(\u001b[0m\u001b[0mfollowing\u001b[0m\u001b[1;33m)\u001b[0m\u001b[1;33m)\u001b[0m\u001b[1;33m]\u001b[0m\u001b[1;33m\u001b[0m\u001b[0m\n\u001b[0;32m     29\u001b[0m         \u001b[0mdictionnaire_following\u001b[0m\u001b[1;33m.\u001b[0m\u001b[0mupdate\u001b[0m\u001b[1;33m(\u001b[0m\u001b[1;33m{\u001b[0m\u001b[0mid_user\u001b[0m \u001b[1;33m:\u001b[0m \u001b[0mids_following\u001b[0m\u001b[1;33m}\u001b[0m\u001b[1;33m)\u001b[0m\u001b[1;33m\u001b[0m\u001b[0m\n",
      "\u001b[1;31mKeyError\u001b[0m: 'data'"
     ]
    }
   ],
   "source": [
    "i = 0\n",
    "while i < n_requete :\n",
    "    \n",
    "    for bearer in bearers :\n",
    "        print(bearer,i)\n",
    "        construction_dictionnaire(bearer,i)\n",
    "        i += 13\n",
    "    \n",
    "    # on sauvegarde le dictionnaire mis à jour\n",
    "    with open('dictionnaire_following.json', 'w') as fp:\n",
    "        json.dump(dictionnaire_following, fp)\n",
    "    \n",
    "    break\n",
    "    \n",
    "    # on doit attendre 15 minutes avant de pouvoir faire de nouvelles requêtes\n",
    "    time.sleep(903)"
   ]
  },
  {
   "cell_type": "code",
   "execution_count": 12,
   "metadata": {},
   "outputs": [
    {
     "name": "stdout",
     "output_type": "stream",
     "text": [
      "{}\n"
     ]
    }
   ],
   "source": [
    "print(dictionnaire_following)"
   ]
  },
  {
   "cell_type": "code",
   "execution_count": 17,
   "metadata": {},
   "outputs": [
    {
     "name": "stdout",
     "output_type": "stream",
     "text": [
      "dict_keys(['523849904', '1546342369385226242', '1600649374022995968', '491271694', '1088810623465590784', '1379055842', '962673658119557121', '1570515228768587776', '629486394', '1536397663', '1488444267223830533', '1450128309044514821', '606358173', '1096814022333210624', '4122132033', '1093721244678144001', '1260975226298535937', '1488076079340400641'])\n"
     ]
    }
   ],
   "source": [
    "with open('dictionnaire_following.json', 'r') as fp:\n",
    "    data = json.load(fp)\n",
    "print(data.keys())"
   ]
  },
  {
   "cell_type": "code",
   "execution_count": 20,
   "metadata": {},
   "outputs": [
    {
     "name": "stdout",
     "output_type": "stream",
     "text": [
      "{'data': [{'id': '2515649934', 'name': 'Valouzz 👁\\u200d🗨', 'username': 'valouzz_'}, {'id': '158487331', 'name': 'Neymar Jr', 'username': 'neymarjr'}, {'id': '892898632244101122', 'name': 'NeymarFR', 'username': 'NeymarFr_'}, {'id': '950341134', 'name': 'Antoine Griezmann', 'username': 'AntoGriezmann'}, {'id': '35856249', 'name': 'CBF Futebol', 'username': 'CBF_Futebol'}, {'id': '2155215398', 'name': 'Equipe de France ⭐⭐', 'username': 'equipedefrance'}], 'meta': {'result_count': 6}}\n"
     ]
    }
   ],
   "source": [
    "bearer = bearer_xavier\n",
    "auth = OAuth2(bearer_token=bearer)\n",
    "api = twitter.Twitter(auth=auth,api_version=\"2\",format=\"\")\n",
    "\n",
    "# la liste des dictionnaires correspondant aux résultats de chaque requête\n",
    "following = api.users._id.following(_id= '1560442651',max_results=1000)#['data']\n",
    "print(following)"
   ]
  }
 ],
 "metadata": {
  "kernelspec": {
   "display_name": "Python 3",
   "language": "python",
   "name": "python3"
  },
  "language_info": {
   "codemirror_mode": {
    "name": "ipython",
    "version": 3
   },
   "file_extension": ".py",
   "mimetype": "text/x-python",
   "name": "python",
   "nbconvert_exporter": "python",
   "pygments_lexer": "ipython3",
   "version": "3.6.2"
  }
 },
 "nbformat": 4,
 "nbformat_minor": 2
}
