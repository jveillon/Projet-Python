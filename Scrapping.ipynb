{
 "cells": [
  {
   "cell_type": "code",
   "execution_count": 3,
   "metadata": {},
   "outputs": [
    {
     "name": "stdout",
     "output_type": "stream",
     "text": [
      "Requirement already satisfied: twitter==2.0a2 in c:\\users\\ambro\\anaconda3\\lib\\site-packages (2.0a2)\n",
      "Requirement already satisfied: certifi in c:\\users\\ambro\\anaconda3\\lib\\site-packages (from twitter==2.0a2) (2019.6.16)\n"
     ]
    }
   ],
   "source": [
    "!pip install twitter==2.0a2\n",
    "import pandas as pd\n",
    "import twitter"
   ]
  },
  {
   "cell_type": "code",
   "execution_count": 4,
   "metadata": {},
   "outputs": [],
   "source": [
    "bearer = 'AAAAAAAAAAAAAAAAAAAAANXkXgEAAAAA9btVv9h0f4Gx8r3D8bE7Mto0C84%3DvqFXOjroHrNOVZwxQUyOBtuo9M7hCgcmR3IMOZTBhi1oIaHyeV'\n",
    "from twitter import OAuth2\n",
    "auth = OAuth2(bearer_token=bearer)\n",
    "api = twitter.Twitter(auth=auth,api_version=\"2\",format=\"\")"
   ]
  },
  {
   "cell_type": "code",
   "execution_count": 8,
   "metadata": {},
   "outputs": [],
   "source": [
    "def req_to_df(req) :\n",
    "    \"\"\"\n",
    "    Entrée : req un objet de type TwitterDictResponse de la libraire twitter venant d'une recherche de tweets\n",
    "    Sortie : \n",
    "        df_tweets : un dataframe contenant des informations sur les tweets\n",
    "        df_users : un dataframe contenant des informations sur les utilisateurs\n",
    "    \"\"\"\n",
    "    df_tweets = pd.DataFrame(req['data']) #DataFrame des tweets\n",
    "    df_users = pd.DataFrame(req['includes']['users']) #DataFrame des utilisateurs\n",
    "    return(df_tweets,df_users)"
   ]
  },
  {
   "cell_type": "code",
   "execution_count": 11,
   "metadata": {},
   "outputs": [],
   "source": [
    "def query_to_df(query,deb,fin,twitter_api) :\n",
    "    \"\"\"\n",
    "    Entrée :\n",
    "        query : un string contenant la query de la recherche pour plus d'info https://developer.twitter.com/en/docs/twitter-api/tweets/search/integrate/build-a-query\n",
    "        deb : la date de début de la recherche au format 'AAAA-MM-JJTHH:MM:SSZ'\n",
    "        fin : la date de fin de la recherche au format 'AAAA-MM-JJTHH:MM:SSZ'\n",
    "        twitter_api : un objet de type API de la libraire twitter\n",
    "    Sortie :\n",
    "        df_tweets : un dataframe des tweets (hors retweets) postés entre la date de début et de fin de la recherche selon la query indiquée\n",
    "        df_users :  un dataframe des utilisateurs ayant posté des tweets entre la date de début et de fin de la recherche selon la query indiquée\n",
    "    \"\"\"\n",
    "    request = twitter_api.tweets.search.recent(\n",
    "        query=query,\n",
    "        start_time = deb,\n",
    "        end_time = fin,\n",
    "        max_results = 100,\n",
    "        expansions = 'author_id',\n",
    "        params = {\n",
    "            'tweet.fields' : 'created_at',\n",
    "            'user.fields' : 'id,name,description,public_metrics'\n",
    "        }\n",
    "    )\n",
    "    df_tweets,df_users = req_to_df(request)\n",
    "    oldest = request['meta']['oldest_id']\n",
    "\n",
    "    #L'utilisation de l'option until_id et since_id est incompatible avec l'utilisation de start_time et end_time, on va donc délimiter les tweets entre deux id\n",
    "    request_old = twitter_api.tweets.search.recent(\n",
    "        query=query,\n",
    "        end_time = deb,\n",
    "        max_results = 100,\n",
    "    ) \n",
    "    fst = request_old['meta']['newest_id']\n",
    "\n",
    "    for k in range(400) :\n",
    "        request = twitter_api.tweets.search.recent(\n",
    "            query=query,\n",
    "            max_results = 100,\n",
    "            since_id = fst,\n",
    "            until_id = oldest,\n",
    "            expansions = 'author_id',\n",
    "            params = {\n",
    "                'tweet.fields' : 'created_at',\n",
    "                'user.fields' : 'id,name,description,public_metrics'\n",
    "                }\n",
    "        )\n",
    "        if request['meta']['result_count'] == 0 :\n",
    "            break\n",
    "        df_t,df_u = req_to_df(request)\n",
    "        df_tweets = pd.concat([df_tweets,df_t],ignore_index=True)\n",
    "        df_users = pd.concat([df_users,df_u],ignore_index= True)\n",
    "        oldest = request['meta']['oldest_id']\n",
    "\n",
    "    return(df_tweets,df_users)"
   ]
  },
  {
   "cell_type": "code",
   "execution_count": 12,
   "metadata": {},
   "outputs": [],
   "source": [
    "df1,df2 = query_to_df(\"#ARGCRO lang:fr -is:retweet\",deb = '2022-12-13T18:45:00Z',fin = '2022-12-13T21:15:00Z',twitter_api=api)"
   ]
  },
  {
   "cell_type": "code",
   "execution_count": null,
   "metadata": {},
   "outputs": [],
   "source": [
    "df1.to_json(\"tweets.json\")\n",
    "df2.to_json(\"users.json\")"
   ]
  }
 ],
 "metadata": {
  "kernelspec": {
   "display_name": "Python 3.7.3 ('base')",
   "language": "python",
   "name": "python3"
  },
  "language_info": {
   "codemirror_mode": {
    "name": "ipython",
    "version": 3
   },
   "file_extension": ".py",
   "mimetype": "text/x-python",
   "name": "python",
   "nbconvert_exporter": "python",
   "pygments_lexer": "ipython3",
   "version": "3.7.3"
  },
  "vscode": {
   "interpreter": {
    "hash": "5569e2566ce8c285b9181012249bebbdc123fb2d135dd21b1b7df4faedf42d80"
   }
  }
 },
 "nbformat": 4,
 "nbformat_minor": 4
}
