{
 "cells": [
  {
   "cell_type": "code",
   "execution_count": 3,
   "metadata": {},
   "outputs": [
    {
     "name": "stdout",
     "output_type": "stream",
     "text": [
      "Requirement already satisfied: tweepy in c:\\users\\lechatblanc\\anaconda3\\lib\\site-packages (4.12.1)\n",
      "Requirement already satisfied: requests<3,>=2.27.0 in c:\\users\\lechatblanc\\anaconda3\\lib\\site-packages (from tweepy) (2.27.1)\n",
      "Requirement already satisfied: oauthlib<4,>=3.2.0 in c:\\users\\lechatblanc\\anaconda3\\lib\\site-packages (from tweepy) (3.2.2)\n",
      "Requirement already satisfied: requests-oauthlib<2,>=1.2.0 in c:\\users\\lechatblanc\\anaconda3\\lib\\site-packages (from tweepy) (1.3.1)\n",
      "Requirement already satisfied: charset-normalizer~=2.0.0; python_version >= \"3\" in c:\\users\\lechatblanc\\anaconda3\\lib\\site-packages (from requests<3,>=2.27.0->tweepy) (2.0.12)\n",
      "Requirement already satisfied: idna<4,>=2.5; python_version >= \"3\" in c:\\users\\lechatblanc\\anaconda3\\lib\\site-packages (from requests<3,>=2.27.0->tweepy) (2.8)\n",
      "Requirement already satisfied: certifi>=2017.4.17 in c:\\users\\lechatblanc\\anaconda3\\lib\\site-packages (from requests<3,>=2.27.0->tweepy) (2019.6.16)\n",
      "Requirement already satisfied: urllib3<1.27,>=1.21.1 in c:\\users\\lechatblanc\\anaconda3\\lib\\site-packages (from requests<3,>=2.27.0->tweepy) (1.24.2)\n"
     ]
    }
   ],
   "source": [
    "!pip install tweepy\n",
    "import pandas as pd\n",
    "import tweepy"
   ]
  },
  {
   "cell_type": "code",
   "execution_count": 27,
   "metadata": {},
   "outputs": [],
   "source": [
    "bearer = 'AAAAAAAAAAAAAAAAAAAAANXkXgEAAAAA9btVv9h0f4Gx8r3D8bE7Mto0C84%3DvqFXOjroHrNOVZwxQUyOBtuo9M7hCgcmR3IMOZTBhi1oIaHyeV'\n",
    "client = tweepy.Client(bearer)"
   ]
  },
  {
   "cell_type": "code",
   "execution_count": 43,
   "metadata": {},
   "outputs": [],
   "source": [
    "request = client.search_recent_tweets(query = '#FRAPOL lang:fr -is:retweet',end_time = '2022-12-04T17:15:00Z', tweet_fields = ['created_at','text','source'],user_fields = ['name','username','location','verified','description'],max_results=100,expansions = 'author_id')"
   ]
  },
  {
   "cell_type": "code",
   "execution_count": 45,
   "metadata": {},
   "outputs": [
    {
     "data": {
      "text/plain": [
       "[<User id=833311261 name=𝕮𝖔𝖒𝖙𝖊 𝕬𝖗𝖊𝖇𝖔𝖚𝖗𝖌 🎸🕊 🌍 ن username=ComteArebourg>,\n",
       " <User id=882294001533112321 name=Jason DesRouleaux username=Pecko_14>,\n",
       " <User id=3365805142 name=𝗖𝝠𝗥𝗟𝝝 ⒻⒸ ☨🇫🇷 username=CarloMacaroni>,\n",
       " <User id=1253851682322210818 name=carla ღ username=carlaa_hours>,\n",
       " <User id=1548434632936263680 name=khalyssi username=khalyssiii>,\n",
       " <User id=2525702900 name=♡ Harry ♡ FAITH IN THE FUTURE ♡ ◟̽◞̽ 🏳️‍🌈 username=Drugof_Styles>,\n",
       " <User id=1550105866157826048 name=Filiz username=Filiz83785775>,\n",
       " <User id=1590407248517517312 name=Amélie de montachin username=Le_presseur>,\n",
       " <User id=1363943521758158855 name=Cynthia_Shabyne❤💚💛 username=CShabyne>,\n",
       " <User id=4049065493 name=Ibrahim Hamidach username=ibrahimhamidach>,\n",
       " <User id=1591567536868544517 name=La Critique Du Monde username=CritiqueDuMonde>,\n",
       " <User id=1466445260444344335 name=Nedim4040 username=Nedim40delilik>,\n",
       " <User id=1242800484320194560 name=Chichi username=Moscatdance>,\n",
       " <User id=1055081008154976257 name=𝐋𝐞𝐬𝐥𝐢𝐞 ✞ username=_lntz>,\n",
       " <User id=1587454715712966661 name=alex username=alex34crypto>,\n",
       " <User id=1227994004 name=2Zoo username=leodardour>,\n",
       " <User id=1066314572292853761 name=CSactu username=CSactu>,\n",
       " <User id=707043188 name=madkam username=Madkam2012>,\n",
       " <User id=1318105721213456384 name=Il Ad username=IlAd01265851>,\n",
       " <User id=1550765296029503489 name=Elton Benbassa username=eltonbenbassa>,\n",
       " <User id=2836215321 name=Mikaël Benillouche username=MikaBenillouche>,\n",
       " <User id=854061509185503232 name=Valentin username=ValentinHabboFR>,\n",
       " <User id=1227201805702090753 name=SINO 🏴 username=SINODAX13>,\n",
       " <User id=1597512253250625536 name=Happylife username=Happylife8898>,\n",
       " <User id=41670436 name=Meli 🐝 username=Melissa_Bee7>,\n",
       " <User id=1366449991498280968 name=🇫🇷🏆⭐️⭐️ username=l534a098>,\n",
       " <User id=1591923210987216898 name=Le Prono de Flo username=LeProno_de_Flo>,\n",
       " <User id=1058090842454409216 name=Rayan 🚬 🇫🇷🇲🇦🇦🇷 username=KC_Sanogoro>,\n",
       " <User id=603018371 name=Footballogue username=Footballogue>,\n",
       " <User id=869470732618739712 name=Olivier 🏟🔴 username=_Dropss>,\n",
       " <User id=399568626 name=Go-u username=Nesti8>,\n",
       " <User id=552673259 name=🔼ntoine sʇoƃsǝɹ⊥🌟🇺🇦 username=atresgots2>,\n",
       " <User id=1191813980018397186 name=Léa username=_xleaaaa>,\n",
       " <User id=1304084411529465856 name=Gui Ier 🏴‍☠️ username=Guillaume_TB29>,\n",
       " <User id=1587889532153876482 name=Patator 🥔 username=Patator04547382>,\n",
       " <User id=1497968908028030976 name=KIKS FAN ACCOUNT username=sh_nen1>,\n",
       " <User id=1135916365217378306 name=𝙳𝚊𝚟𝚒𝚍 | MUFCReloaded username=MUFCReloaded>,\n",
       " <User id=1155253002602766337 name=Ibn Sheikh Aziz❤👑 username=MinekaAbdoulahi>,\n",
       " <User id=3927721347 name=SAMe username=SmthngAboutMe>,\n",
       " <User id=1508185731256270857 name=HAVRE AC username=ronaldinho760>,\n",
       " <User id=373394664 name=PastoucheFm⭐️⭐️ username=gregfeoff>,\n",
       " <User id=1578730117521620994 name=Simon username=LeRiiops>,\n",
       " <User id=2965506904 name=izzy username=Mowiskn>,\n",
       " <User id=145559963 name=marie bl addict and syfy kid 🏳️‍🌈🇨🇵 username=marlislash>,\n",
       " <User id=1397478527553916933 name=Europe 1 Sport username=Europe1Sport1>,\n",
       " <User id=61757964 name=Julien Ropert username=ju_rop>,\n",
       " <User id=487871498 name=Jeency 🪐 username=jeencey>,\n",
       " <User id=1213475827385389057 name=Monnier Geronimo username=GeronimoMonnier>,\n",
       " <User id=1105596428175507457 name=Papadopoulos username=Papadop36754364>,\n",
       " <User id=1593165863477284864 name=Celal Server Kesili username=CServerKesili>,\n",
       " <User id=186385455 name=France Bleu Occitanie username=bleuoccitanie>,\n",
       " <User id=1213661064 name=▪️⁉️Giroud Phare ⁉️▪️ username=ClementDeschodt>,\n",
       " <User id=273942476 name=𝐿𝑎𝑣𝑒𝑛𝑑𝑒𝑟 ℎ𝑎𝑧𝑒 🪁 username=Drammarita>,\n",
       " <User id=3482917215 name=Fou de Picardie username=FoudePicardie>,\n",
       " <User id=3071082177 name=Krozz🇷🇺🇫🇷 username=Kr0zzer>,\n",
       " <User id=372427203 name=Jérémy username=jeremyftr>,\n",
       " <User id=231165512 name=Baptiste Barbe username=bbaba7>,\n",
       " <User id=1488604782747131906 name=Dónde está Leo Pessi ? username=22anasinho>,\n",
       " <User id=818555707 name=pizzawoman username=sallybluue>,\n",
       " <User id=1231128926115844096 name=FAMACITO_™️ username=ilyes42ccnt>,\n",
       " <User id=280177443 name=nusretozer username=nusretozer>,\n",
       " <User id=1165390659257274369 name=WaRy💧 βƒ username=onn_dog3lp>,\n",
       " <User id=1410669239543947269 name=Le Zig dans le Zag username=lezigdanslezag>,\n",
       " <User id=1342707463 name=Cyril Biaggi-Michelangeli username=CyrilBiaggi>,\n",
       " <User id=1181282317534482432 name=Jal Charlito username=charlito_jal>,\n",
       " <User id=1294282216944656389 name=François username=FB75016>,\n",
       " <User id=117412034 name=JOTHISH NAIR username=jothishnair1010>,\n",
       " <User id=214604902 name=Andy Calascione username=ACalascione>,\n",
       " <User id=1237081162633359362 name=🇨🇵🇷🇸 username=X2Sagittarius>,\n",
       " <User id=1133029291598462983 name=Sometimes username=VSopramonte>,\n",
       " <User id=2407656477 name=ElreD 🇲🇭 username=ElreD34>,\n",
       " <User id=1241894432946958341 name=Tiki_kltn username=Eren_Shigan>,\n",
       " <User id=2517754897 name=Foucauld Pérotin ❦ ⧖⃝ 🇺🇦 #нетвойне username=FoucPerotin>,\n",
       " <User id=1372621339597623297 name=El manjraoui 🇲🇦🇸🇳🇨🇲🇹🇳🇬🇭 username=NikoBellic_dead>,\n",
       " <User id=151436501 name=Grace username=soygracee_>,\n",
       " <User id=898402956 name=Français @ St. Eunan’s College username=EunansFrancais>,\n",
       " <User id=891638811834404864 name=90min 🇫🇷 username=90minFR>,\n",
       " <User id=1276988611876007936 name=Talk Foot username=taIkfoot>,\n",
       " <User id=1414911598196674565 name=Den̸ji username=cookilegro>,\n",
       " <User id=1412722256581697540 name=Prime Video Sport France username=PVSportFR>,\n",
       " <User id=3536089216 name=zpkn90 username=zpkn90>,\n",
       " <User id=1207848379797123072 name=♛ SHANNA SHAAY ♛ username=ShannaShaay>,\n",
       " <User id=811243566303416320 name=Malone 💀🖤🇨🇲🇯🇲🇳🇬 username=rochinel17>,\n",
       " <User id=1524309525859389440 name=ALi. username=kataliyaaah>,\n",
       " <User id=1085638501025148928 name=Swaaan username=SwanZanic>,\n",
       " <User id=707235956324225024 name=Mehdi Gaz username=MehdiGaz>,\n",
       " <User id=1337619978 name=A L I C I A🫧 username=Aliciaa_S92>,\n",
       " <User id=870245262589140992 name=PaulProno 💰 username=Paul26Prono>,\n",
       " <User id=1255388876300079104 name=Indikaf 🇷🇪 username=Indi_kaf>,\n",
       " <User id=712142396 name=Steven Rg 🇨🇵 🇧🇷 username=Stevy_83>,\n",
       " <User id=1308705023703093253 name=LePourfendeur username=LePourfendeur3>,\n",
       " <User id=1133845731423526914 name=Flavio Dominijanni username=FDominijanni>,\n",
       " <User id=1549460498541944834 name=supportonslaFrance username=s_lafrance>]"
      ]
     },
     "execution_count": 45,
     "metadata": {},
     "output_type": "execute_result"
    }
   ],
   "source": [
    "request.includes['users']"
   ]
  },
  {
   "cell_type": "code",
   "execution_count": 80,
   "metadata": {},
   "outputs": [],
   "source": [
    "def req_to_lst(req,cl) :\n",
    "    \"\"\"\n",
    "    Entrée : req un objet de type Response de tweepy venant d'une recherche de tweets, cl un Client de tweepy\n",
    "    Sortie : une liste des ids des personnes ayant tweeté, une liste des id des tweets ainsi qu'une liste des textes des tweets\n",
    "    \"\"\"\n",
    "    ltweet = [req.data[k].text for k in range(len(req.data))]\n",
    "    lid_tweet = [req.data[k].id for k in range(len(req.data))]\n",
    "    lid_author = [req.includes['users'][k].id for k in range(len(req.includes['users']))]\n",
    "    return ltweet,lid_tweet,lid_author\n"
   ]
  },
  {
   "cell_type": "code",
   "execution_count": null,
   "metadata": {},
   "outputs": [],
   "source": [
    "tweets,id_tweet,id_author = req_to_lst(request,client)\n",
    "zipped = list(zip(tweets,id_tweet,id_author))\n",
    "df = pd.DataFrame(zipped, columns = ['Text','Author id','Tweet id'])"
   ]
  }
 ],
 "metadata": {
  "kernelspec": {
   "display_name": "Python 3.7.3 ('base')",
   "language": "python",
   "name": "python3"
  },
  "language_info": {
   "codemirror_mode": {
    "name": "ipython",
    "version": 3
   },
   "file_extension": ".py",
   "mimetype": "text/x-python",
   "name": "python",
   "nbconvert_exporter": "python",
   "pygments_lexer": "ipython3",
   "version": "3.7.3"
  },
  "orig_nbformat": 4,
  "vscode": {
   "interpreter": {
    "hash": "35a9bc71910b4af4c9c40118b5f941d888268d6d2aaeb40b770c26825731ba48"
   }
  }
 },
 "nbformat": 4,
 "nbformat_minor": 2
}
