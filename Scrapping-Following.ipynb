{
 "cells": [
  {
   "cell_type": "code",
   "execution_count": 2,
   "metadata": {},
   "outputs": [
    {
     "name": "stdout",
     "output_type": "stream",
     "text": [
      "Requirement already satisfied: twitter==2.0a2 in c:\\users\\ambro\\anaconda3\\lib\\site-packages (2.0a2)\n",
      "Requirement already satisfied: certifi in c:\\users\\ambro\\anaconda3\\lib\\site-packages (from twitter==2.0a2) (2019.6.16)\n"
     ]
    }
   ],
   "source": [
    "!pip install twitter==2.0a2\n",
    "import pandas as pd\n",
    "import twitter\n",
    "from time import time, sleep\n",
    "import pandas as pd\n",
    "import json"
   ]
  },
  {
   "cell_type": "code",
   "execution_count": 3,
   "metadata": {},
   "outputs": [],
   "source": [
    "from twitter import OAuth2\n",
    "\n",
    "def bearers_to_apis(bearers,version) :\n",
    "    \"\"\"\n",
    "    Entrée :\n",
    "        bearers : une liste de bearers dont la structure est identique à celle de bearers.json\n",
    "        version : la version de l'api twitter voulue (au format string)\n",
    "    Sortie :\n",
    "        apis_list : une liste d'api du module twitter\n",
    "    \"\"\"\n",
    "    apis_list = []\n",
    "    for bear in bearers : \n",
    "        b_auth = OAuth2(bearer_token= bear['bearer'])\n",
    "        b_to_api = twitter.Twitter(auth=b_auth,api_version=version)\n",
    "        apis_list.append(b_to_api)\n",
    "    return(apis_list)"
   ]
  },
  {
   "cell_type": "code",
   "execution_count": 4,
   "metadata": {},
   "outputs": [],
   "source": [
    "def following_scrapper(ids_list,following_number,apis_list,save) :\n",
    "    \"\"\"\n",
    "    Entrée :\n",
    "        ids_list : la liste des ids des utilisateurs twitter dont il faut récupérer la liste des comptes following (ids au format string)\n",
    "        following_number : la liste du nombre de following d'un utilisateur selon sont indice dans ids_list\n",
    "        apis_list : la liste des apis de la librairie twitter, de version 1.1 dont on va se servir pour récupérer la liste des following\n",
    "        save : nom du fichier de sauvegarde, au format str\n",
    "    Sortie : \n",
    "        dict_following : un dictionnaire où chaque clé est l'id d'un utilisateur twitter et qui renvoie la liste de ses following \n",
    "    \"\"\"\n",
    "    n = len(apis_list) #nombre total d'apis disponibles\n",
    "    i = 0 #id de l'api utilisée\n",
    "    dict_following = dict()\n",
    "    for k in range(len(ids_list)) :\n",
    "        user = ids_list[k] #id de l'utilisateur dont on récupère les followings\n",
    "        if following_number[k] == 0 : #il n'y a tout simplement pas de following à récupérer\n",
    "            dict_following[user] = []\n",
    "            continue\n",
    "        following = [] #liste des following de l'utilisateur actuel\n",
    "        page = '-1' #page de la liste des following que l'on regarde, initialement '-1'\n",
    "        while page != '0' : #la page \"vide\" dont le numéro est 0 est celle qui conclue la liste des following\n",
    "            try :\n",
    "                f_request = apis_list[i].friends.ids(user_id = user,stringify_ids = True,cursor = page,count = 5000)\n",
    "                page = f_request['next_cursor_str'] #Changement de la page\n",
    "                following += f_request['ids'] #Ajout des followings ajoutés\n",
    "                if f_request.rate_limit_remaining == 0 : #Il n'y a plus de requêtes disponibles pour l'API\n",
    "                    print('Plus de requêtes disponibles, changement de l\\'API utilisée ['+str(i+1)+'/'+str(n)+']')\n",
    "                    i = (i+1)%n\n",
    "                    if i == 0 : #si au moment de changer d'api, on revient à l'api initiale, on attend le temps qu'il faut pour réinitialiser le nombre de requêtes disponibles\n",
    "                        print('La première API n\\'a pas eu le temps d\\'être réinitialisée, veuillez attendre 15 minutes')\n",
    "                        sleep(15*60) #les fenêtres d'utilisation des requêtes sont de 15 minutes\n",
    "            except Exception as e : #Dans le cas d'une erreur\n",
    "                if e.e.code == 401 : #Cette erreur arrive souvent dans le cas où l'utilisateur recherché a été suspendu\n",
    "                    print('Le compte de cet utilisateur a été suspendu')\n",
    "                    break\n",
    "                if e.e.code == 404 : #Cette erreur arrive souvent dans le cas où l'utilisateur n'existe plus\n",
    "                    print('Le compte a été supprimé')\n",
    "                    break\n",
    "                #Dans le doute on change d'api\n",
    "                print('Il y a eu une erreur dans l\\'utilisation de l\\'API, changement de l\\'API ['+str(i+1)+'/'+str(n)+']' + ' ('+ str(e)+')')\n",
    "                i = (i+1)%n\n",
    "                if i == 0 : #si au moment de changer d'api, on revient à l'api initiale, on attend le temps qu'il faut pour réinitialiser le nombre de requêtes disponibles \n",
    "                    print('La première API n\\'a pas eu le temps d\\'être réinitialisée, veuillez attendre 15 minutes')\n",
    "                    sleep(15*60) #les fenêtres d'utilisation des requêtes sont de 15 minutes\n",
    "                continue\n",
    "        dict_following[user] = following #Mise à jour du dictionnaire\n",
    "        print('Avancement : '+str(k+1)+'/'+str(len(ids_list))+' terminé')\n",
    "        if k%100 == 0 : #On sauvegarde tout les 100 utilisateurs\n",
    "            with open(save + '.json', 'w') as fp:\n",
    "                json.dump(dict_following, fp)\n",
    "    with open(save+'.json', 'w') as fp: #enregistrement final\n",
    "                json.dump(dict_following, fp)\n",
    "    return(dict_following)\n"
   ]
  },
  {
   "cell_type": "code",
   "execution_count": 5,
   "metadata": {},
   "outputs": [],
   "source": [
    "f = open('bearers.json')\n",
    "data = json.load(f)\n",
    "f.close()\n",
    "apis = bearers_to_apis(bearers = data,version = \"1.1\")\n",
    "\n",
    "f = open('users.json')\n",
    "users = json.load(f)\n",
    "f.close()"
   ]
  },
  {
   "cell_type": "code",
   "execution_count": 6,
   "metadata": {},
   "outputs": [],
   "source": [
    "ids_users = [users['id'][str(k)] for k in list(users['id'].keys())]\n",
    "nb_following = [users['public_metrics'][str(k)]['following_count'] for k in list(users['id'].keys())]"
   ]
  },
  {
   "cell_type": "code",
   "execution_count": null,
   "metadata": {},
   "outputs": [],
   "source": [
    "followings = following_scrapper(ids_list=ids_users,following_number=nb_following,apis_list=apis,save = 'lst_following')"
   ]
  }
 ],
 "metadata": {
  "kernelspec": {
   "display_name": "base",
   "language": "python",
   "name": "python3"
  },
  "language_info": {
   "codemirror_mode": {
    "name": "ipython",
    "version": 3
   },
   "file_extension": ".py",
   "mimetype": "text/x-python",
   "name": "python",
   "nbconvert_exporter": "python",
   "pygments_lexer": "ipython3",
   "version": "3.7.3 (default, Apr 24 2019, 15:29:51) [MSC v.1915 64 bit (AMD64)]"
  },
  "orig_nbformat": 4,
  "vscode": {
   "interpreter": {
    "hash": "5569e2566ce8c285b9181012249bebbdc123fb2d135dd21b1b7df4faedf42d80"
   }
  }
 },
 "nbformat": 4,
 "nbformat_minor": 2
}
