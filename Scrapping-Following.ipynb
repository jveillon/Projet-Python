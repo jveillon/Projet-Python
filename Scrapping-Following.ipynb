{
 "cells": [
  {
   "cell_type": "code",
   "execution_count": 1,
   "metadata": {},
   "outputs": [
    {
     "name": "stdout",
     "output_type": "stream",
     "text": [
      "Requirement already satisfied: twitter==2.0a2 in c:\\users\\ambro\\anaconda3\\lib\\site-packages (2.0a2)\n",
      "Requirement already satisfied: certifi in c:\\users\\ambro\\anaconda3\\lib\\site-packages (from twitter==2.0a2) (2019.6.16)\n"
     ]
    }
   ],
   "source": [
    "!pip install twitter==2.0a2\n",
    "import pandas as pd\n",
    "import twitter\n",
    "from time import time, sleep"
   ]
  },
  {
   "cell_type": "code",
   "execution_count": 2,
   "metadata": {},
   "outputs": [],
   "source": [
    "from twitter import OAuth2\n",
    "\n",
    "def bearers_to_apis(bearers,version) :\n",
    "    \"\"\"\n",
    "    Entrée :\n",
    "        bearers : une liste de bearers d'authentification twitter (au format string)\n",
    "        version : la version de l'api twitter voulue (au format string)\n",
    "    Sortie :\n",
    "        apis_list : une liste d'api du module twitter\n",
    "    \"\"\"\n",
    "    apis_list = []\n",
    "    for bear in bearers : \n",
    "        b_auth = OAuth2(bearer_token=bear)\n",
    "        b_to_api = twitter.Twitter(auth=b_auth,api_version=version)\n",
    "        apis_list.append()\n",
    "    return(apis_list)"
   ]
  },
  {
   "cell_type": "code",
   "execution_count": 58,
   "metadata": {},
   "outputs": [],
   "source": [
    "def following_scrapper(ids_list,following_number,apis_list) :\n",
    "    \"\"\"\n",
    "    Entrée :\n",
    "        ids_list : la liste des ids des utilisateurs twitter dont il faut récupérer la liste des comptes following (ids au format string)\n",
    "        following_number : la liste du nombre de following d'un utilisateur selon sont indice dans ids_list\n",
    "        apis_list : la liste des apis de la librairie twitter, de version 1.1 dont on va se servir pour récupérer la liste des following\n",
    "    Sortie : \n",
    "        dict_following : un dictionnaire où chaque clé est l'id d'un utilisateur twitter et qui renvoie la liste de ses following \n",
    "    \"\"\"\n",
    "    n = len(apis_list) #nombre total d'apis disponibles\n",
    "    i = 0 #id de l'api utilisée\n",
    "    dict_following = dict()\n",
    "    for k in range(len(ids_list)) :\n",
    "        if following_number[k] == 0 : #il n'y a tout simplement pas de following à récupérer\n",
    "            continue\n",
    "        following = [] #liste des following de l'utilisateur actuel\n",
    "        page = '-1' #page de la liste des following que l'on regarde, initialement '-1'\n",
    "        while page != '0' : #la page \"vide\" dont le numéro est 0 est celle qui conclue la liste des following\n",
    "            try :\n",
    "                f_request = apis_list[i].friends.ids(user_id = ids_list[k])\n",
    "                if i == 0 and f_request.rate_limite_remaining == 14 : #on sauvegarde la date de la première utilisation de la première api utilisée\n",
    "                    t1 = time()\n",
    "                if f_request.rate_limit_remaining == 0 :\n",
    "                    i = i%n + 1\n",
    "                    if i == 0 : #si au moment de changer d'api, on revient à l'api initiale, on attend le temps qu'il faut pour réinitialiser le nombre de requêtes disponibles\n",
    "                        t2 = time()\n",
    "                        if (t2-t1) < 15*60 : #la première api n'a pas eu le temps de se réinitialiser, il va falloir attendre un peu\n",
    "                            sleep(15*60 - (t2-t1)) #les fenêtres d'utilisation des requêtes sont de 15 minutes, on retranche donc le temps qu'on a déjà passé\n",
    "            except : #si il y a une quelconque erreur, dans le doute on passe à l'api suivante\n",
    "                i = i%n + 1\n",
    "                continue\n",
    "            page = f_request['next_cursor_str']\n",
    "        dict_following[ids_list[k]] = following #mise à jour du dictionnaire\n",
    "    return(dict_following)\n",
    "\n"
   ]
  },
  {
   "cell_type": "code",
   "execution_count": 28,
   "metadata": {},
   "outputs": [],
   "source": [
    "bearer = \"AAAAAAAAAAAAAAAAAAAAAK%2FKkQEAAAAABZUhkvTD68l2nJhceNyZ4alZ7qE%3Dd955XXj6P8M77bYYQjYgftta6DTUIpzovgZ5joEoVTVbdgX52U\"\n",
    "auth = OAuth2(bearer_token=bearer)\n",
    "api = twitter.Twitter(auth=auth,api_version=\"1.1\")"
   ]
  },
  {
   "cell_type": "code",
   "execution_count": 55,
   "metadata": {},
   "outputs": [],
   "source": [
    "request = api.friends.ids(user_id = \"771606164\",stringify_ids = True,count = 50,cursor = '1688908768446824893')"
   ]
  },
  {
   "cell_type": "code",
   "execution_count": 56,
   "metadata": {},
   "outputs": [
    {
     "data": {
      "text/plain": [
       "{'ids': ['553993031',\n",
       "  '2565047206',\n",
       "  '1022829308',\n",
       "  '1068132614417121281',\n",
       "  '3427817025',\n",
       "  '80847172',\n",
       "  '494247530',\n",
       "  '91781760',\n",
       "  '708124388',\n",
       "  '770736893122273281',\n",
       "  '702115496',\n",
       "  '18936161',\n",
       "  '4877776109',\n",
       "  '592946538',\n",
       "  '1449700302',\n",
       "  '2155215398',\n",
       "  '400069650',\n",
       "  '15095537',\n",
       "  '15748165',\n",
       "  '108568373',\n",
       "  '76957331',\n",
       "  '89452962',\n",
       "  '987666163',\n",
       "  '387170756',\n",
       "  '3401605678',\n",
       "  '538031518',\n",
       "  '1598355026',\n",
       "  '902674682',\n",
       "  '496832339',\n",
       "  '468198741',\n",
       "  '104105131',\n",
       "  '2535679632',\n",
       "  '440965317',\n",
       "  '1258919365',\n",
       "  '154476881',\n",
       "  '543582873',\n",
       "  '603018371',\n",
       "  '854342210',\n",
       "  '728364631',\n",
       "  '1561123663',\n",
       "  '2333988375',\n",
       "  '250650563',\n",
       "  '196432825',\n",
       "  '51172935',\n",
       "  '98414217',\n",
       "  '299780743',\n",
       "  '85121813',\n",
       "  '229178711',\n",
       "  '1097852275'],\n",
       " 'next_cursor': 0,\n",
       " 'next_cursor_str': '0',\n",
       " 'previous_cursor': -1674591143436015136,\n",
       " 'previous_cursor_str': '-1674591143436015136',\n",
       " 'total_count': None}"
      ]
     },
     "execution_count": 56,
     "metadata": {},
     "output_type": "execute_result"
    }
   ],
   "source": [
    "request"
   ]
  }
 ],
 "metadata": {
  "kernelspec": {
   "display_name": "base",
   "language": "python",
   "name": "python3"
  },
  "language_info": {
   "codemirror_mode": {
    "name": "ipython",
    "version": 3
   },
   "file_extension": ".py",
   "mimetype": "text/x-python",
   "name": "python",
   "nbconvert_exporter": "python",
   "pygments_lexer": "ipython3",
   "version": "3.7.3"
  },
  "orig_nbformat": 4,
  "vscode": {
   "interpreter": {
    "hash": "5569e2566ce8c285b9181012249bebbdc123fb2d135dd21b1b7df4faedf42d80"
   }
  }
 },
 "nbformat": 4,
 "nbformat_minor": 2
}
