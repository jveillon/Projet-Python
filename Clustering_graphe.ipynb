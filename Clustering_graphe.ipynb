{
 "cells": [
  {
   "cell_type": "code",
   "execution_count": 13,
   "metadata": {
    "colab": {
     "base_uri": "https://localhost:8080/"
    },
    "id": "Z16kMkpAXCET",
    "outputId": "284d98a2-843a-4da4-861d-138ac09742f5"
   },
   "outputs": [
    {
     "name": "stdout",
     "output_type": "stream",
     "text": [
      "Defaulting to user installation because normal site-packages is not writeable\n",
      "Requirement already satisfied: scikit-network in c:\\users\\florent\\appdata\\roaming\\python\\python36\\site-packages (0.22.0)\n",
      "Requirement already satisfied: numpy>=1.18.3 in c:\\users\\florent\\appdata\\roaming\\python\\python36\\site-packages (from scikit-network) (1.19.5)\n",
      "Requirement already satisfied: scipy>=1.4.1 in c:\\users\\florent\\appdata\\roaming\\python\\python36\\site-packages (from scikit-network) (1.5.4)\n",
      "Defaulting to user installation because normal site-packages is not writeable\n",
      "Requirement already satisfied: pyvis in c:\\users\\florent\\appdata\\roaming\\python\\python36\\site-packages (0.3.1)\n",
      "Requirement already satisfied: networkx>=1.11 in c:\\program files (x86)\\microsoft visual studio\\shared\\anaconda3_64\\lib\\site-packages (from pyvis) (1.11)\n",
      "Requirement already satisfied: jinja2>=2.9.6 in c:\\program files (x86)\\microsoft visual studio\\shared\\anaconda3_64\\lib\\site-packages (from pyvis) (2.9.6)\n",
      "Requirement already satisfied: jsonpickle>=1.4.1 in c:\\users\\florent\\appdata\\roaming\\python\\python36\\site-packages (from pyvis) (2.2.0)\n",
      "Requirement already satisfied: ipython>=5.3.0 in c:\\program files (x86)\\microsoft visual studio\\shared\\anaconda3_64\\lib\\site-packages (from pyvis) (6.1.0)\n",
      "Requirement already satisfied: setuptools>=18.5 in c:\\program files (x86)\\microsoft visual studio\\shared\\anaconda3_64\\lib\\site-packages (from ipython>=5.3.0->pyvis) (36.5.0.post20170921)\n",
      "Requirement already satisfied: jedi>=0.10 in c:\\program files (x86)\\microsoft visual studio\\shared\\anaconda3_64\\lib\\site-packages (from ipython>=5.3.0->pyvis) (0.10.2)\n",
      "Requirement already satisfied: decorator in c:\\program files (x86)\\microsoft visual studio\\shared\\anaconda3_64\\lib\\site-packages (from ipython>=5.3.0->pyvis) (4.1.2)\n",
      "Requirement already satisfied: pickleshare in c:\\program files (x86)\\microsoft visual studio\\shared\\anaconda3_64\\lib\\site-packages (from ipython>=5.3.0->pyvis) (0.7.4)\n",
      "Requirement already satisfied: simplegeneric>0.8 in c:\\program files (x86)\\microsoft visual studio\\shared\\anaconda3_64\\lib\\site-packages (from ipython>=5.3.0->pyvis) (0.8.1)\n",
      "Requirement already satisfied: traitlets>=4.2 in c:\\program files (x86)\\microsoft visual studio\\shared\\anaconda3_64\\lib\\site-packages (from ipython>=5.3.0->pyvis) (4.3.2)\n",
      "Requirement already satisfied: prompt_toolkit<2.0.0,>=1.0.4 in c:\\program files (x86)\\microsoft visual studio\\shared\\anaconda3_64\\lib\\site-packages (from ipython>=5.3.0->pyvis) (1.0.15)\n",
      "Requirement already satisfied: pygments in c:\\program files (x86)\\microsoft visual studio\\shared\\anaconda3_64\\lib\\site-packages (from ipython>=5.3.0->pyvis) (2.2.0)\n",
      "Requirement already satisfied: colorama in c:\\program files (x86)\\microsoft visual studio\\shared\\anaconda3_64\\lib\\site-packages (from ipython>=5.3.0->pyvis) (0.3.9)\n",
      "Requirement already satisfied: MarkupSafe>=0.23 in c:\\program files (x86)\\microsoft visual studio\\shared\\anaconda3_64\\lib\\site-packages (from jinja2>=2.9.6->pyvis) (1.0)\n",
      "Requirement already satisfied: importlib-metadata in c:\\users\\florent\\appdata\\roaming\\python\\python36\\site-packages (from jsonpickle>=1.4.1->pyvis) (4.8.3)\n",
      "Requirement already satisfied: six>=1.9.0 in c:\\program files (x86)\\microsoft visual studio\\shared\\anaconda3_64\\lib\\site-packages (from prompt_toolkit<2.0.0,>=1.0.4->ipython>=5.3.0->pyvis) (1.10.0)\n",
      "Requirement already satisfied: wcwidth in c:\\program files (x86)\\microsoft visual studio\\shared\\anaconda3_64\\lib\\site-packages (from prompt_toolkit<2.0.0,>=1.0.4->ipython>=5.3.0->pyvis) (0.1.7)\n",
      "Requirement already satisfied: ipython_genutils in c:\\program files (x86)\\microsoft visual studio\\shared\\anaconda3_64\\lib\\site-packages (from traitlets>=4.2->ipython>=5.3.0->pyvis) (0.2.0)\n",
      "Requirement already satisfied: zipp>=0.5 in c:\\users\\florent\\appdata\\roaming\\python\\python36\\site-packages (from importlib-metadata->jsonpickle>=1.4.1->pyvis) (3.6.0)\n",
      "Requirement already satisfied: typing-extensions>=3.6.4 in c:\\users\\florent\\appdata\\roaming\\python\\python36\\site-packages (from importlib-metadata->jsonpickle>=1.4.1->pyvis) (4.1.1)\n"
     ]
    }
   ],
   "source": [
    "# module scikit-learn spécialisé dans l'analyse de graphe\n",
    "!pip install scikit-network\n",
    "!pip install pyvis"
   ]
  },
  {
   "cell_type": "markdown",
   "metadata": {
    "id": "Enz0TShTOokT"
   },
   "source": [
    "### Import des packages nécessaires au clustering :"
   ]
  },
  {
   "cell_type": "code",
   "execution_count": 14,
   "metadata": {
    "collapsed": true,
    "id": "78BIYvIUOvva"
   },
   "outputs": [],
   "source": [
    "# permet de manipuler des matrices creuses, beaucoup plus efficace en complexité\n",
    "from scipy import sparse\n",
    "\n",
    "import numpy as np\n",
    "\n",
    "import random\n",
    "\n",
    "#le package de scikit-network spécialisé dans le clustering de graphes\n",
    "import sknetwork.clustering\n",
    "\n",
    "# méthode permettant de créer un graphe \"visuel\" à partir d'une matrice d'adjacence\n",
    "from sknetwork.visualization import svg_graph\n",
    "\n",
    "# méthode permettant d'afficher les graphes obtenus avec svg_graph\n",
    "from IPython.display import SVG\n",
    "\n",
    "# module permettant d'afficher des graphes interactifs\n",
    "from pyvis.network import Network"
   ]
  },
  {
   "cell_type": "markdown",
   "metadata": {
    "id": "uRyDjilwPmH2"
   },
   "source": [
    "### Import du graphe des profils Twitter sous la forme d'une matrice d'adjacence (scipy sparse matrix)"
   ]
  },
  {
   "cell_type": "code",
   "execution_count": 15,
   "metadata": {
    "collapsed": true,
    "id": "8oiJMpPdP8Ik"
   },
   "outputs": [],
   "source": [
    "adjacence = np.eye(11)\n",
    "random.seed = 10\n",
    "for i in range(10) :\n",
    "    adjacence[random.randint(0,9),random.randint(0,9)] = 1\n",
    "adjacence_sparse = sparse.csr_matrix(adjacence)"
   ]
  },
  {
   "cell_type": "markdown",
   "metadata": {},
   "source": [
    "### Fonction transformant une matrice d'adjacence en liste d'adjacence\n",
    "On doit créer cette fonction car pyvis construit des graphes à partir d'une liste d'adjacence, contrairement à scikit-network"
   ]
  },
  {
   "cell_type": "code",
   "execution_count": 16,
   "metadata": {
    "collapsed": true
   },
   "outputs": [],
   "source": [
    "def adjacence2liste_adjacence(adjacence) :\n",
    "    '''\n",
    "    Entrée :\n",
    "    \n",
    "    adjacence : numpy array (dim : 2) : matrice d'adjacence \n",
    "    (symétrique car on suppose le graphe non-orienté)\n",
    "    ----------------------\n",
    "    \n",
    "    Sortie : list : la liste d'adjacence déduite de adjacence\n",
    "    \n",
    "    \n",
    "    '''\n",
    "    res = []\n",
    "    n = len(adjacence)\n",
    "    for i in range(1,n) :\n",
    "        for j in range (i-1) :\n",
    "            if adjacence[i,j] : res.append((i,j))\n",
    "    return res"
   ]
  },
  {
   "cell_type": "markdown",
   "metadata": {},
   "source": [
    "### On crée deux fonctions permettant d'affecter des couleurs aléatoirement suivant les labels\n",
    "Encore une fois, scikit-network permet de faire cela, mais pas pyvis"
   ]
  },
  {
   "cell_type": "code",
   "execution_count": 17,
   "metadata": {
    "collapsed": true
   },
   "outputs": [],
   "source": [
    "def random_color () :\n",
    "    '''\n",
    "    Entrée : None\n",
    "    ----------------------\n",
    "    \n",
    "    Sortie : str : code HEX d'une couleur choisie aléatoirement\n",
    "    \n",
    "    '''\n",
    "    return (\"#%06x\" % random.randint(0, 0xFFFFFF))"
   ]
  },
  {
   "cell_type": "code",
   "execution_count": 18,
   "metadata": {
    "collapsed": true
   },
   "outputs": [],
   "source": [
    "def random_color_label(labels) :\n",
    "    '''\n",
    "    Entrée : labels : int list : la liste des labels des noeuds (des entiers)\n",
    "    ----------------------------\n",
    "    \n",
    "    Sortie : str list : couleur aléatoire pour chaque label\n",
    "    '''\n",
    "    \n",
    "    # label est une liste d'entier naturel\n",
    "    nombre_label = max(labels)+1\n",
    "    \n",
    "    colors = [random_color() for i in range(nombre_label)]\n",
    "    \n",
    "    return [colors[label] for label in labels]"
   ]
  },
  {
   "cell_type": "markdown",
   "metadata": {
    "id": "MaAAWC0Ki6-K"
   },
   "source": [
    "### Visualisation du graphe avec scikit-network :"
   ]
  },
  {
   "cell_type": "code",
   "execution_count": 19,
   "metadata": {
    "id": "yZIP6YE0i6-M",
    "outputId": "cb05818a-1d27-4478-b69e-82c329771a3f"
   },
   "outputs": [
    {
     "data": {
      "image/svg+xml": [
       "<svg height=\"340\" width=\"440\" xmlns=\"http://www.w3.org/2000/svg\">\n",
       "<path d=\"M 327 89 327 89\" stroke=\"black\" stroke-width=\"1.0\"/>\n",
       "<path d=\"M 183 119 174 93\" stroke=\"black\" stroke-width=\"1.0\"/>\n",
       "<path d=\"M 31 204 31 204\" stroke=\"black\" stroke-width=\"1.0\"/>\n",
       "<path d=\"M 163 72 163 72\" stroke=\"black\" stroke-width=\"1.0\"/>\n",
       "<path d=\"M 189 148 183 119\" stroke=\"black\" stroke-width=\"1.0\"/>\n",
       "<path d=\"M 189 148 189 148\" stroke=\"black\" stroke-width=\"1.0\"/>\n",
       "<path d=\"M 188 99 183 119\" stroke=\"black\" stroke-width=\"1.0\"/>\n",
       "<path d=\"M 183 119 183 119\" stroke=\"black\" stroke-width=\"1.0\"/>\n",
       "<path d=\"M 188 99 188 99\" stroke=\"black\" stroke-width=\"1.0\"/>\n",
       "<path d=\"M 174 93 188 99\" stroke=\"black\" stroke-width=\"1.0\"/>\n",
       "<path d=\"M 174 93 174 93\" stroke=\"black\" stroke-width=\"1.0\"/>\n",
       "<path d=\"M 195 172 189 148\" stroke=\"black\" stroke-width=\"1.0\"/>\n",
       "<path d=\"M 195 172 195 172\" stroke=\"black\" stroke-width=\"1.0\"/>\n",
       "<path d=\"M 20 20 20 20\" stroke=\"black\" stroke-width=\"1.0\"/>\n",
       "<path d=\"M 61 320 61 320\" stroke=\"black\" stroke-width=\"1.0\"/>\n",
       "<path d=\"M 174 93 163 72\" stroke=\"black\" stroke-width=\"1.0\"/>\n",
       "<path d=\"M 420 164 420 164\" stroke=\"black\" stroke-width=\"1.0\"/>\n",
       "<circle cx=\"327\" cy=\"89\" r=\"7.333333333333333\" style=\"fill:gray;stroke:black;stroke-width:1.0\"/>\n",
       "<circle cx=\"61\" cy=\"320\" r=\"7.333333333333333\" style=\"fill:gray;stroke:black;stroke-width:1.0\"/>\n",
       "<circle cx=\"20\" cy=\"20\" r=\"7.333333333333333\" style=\"fill:gray;stroke:black;stroke-width:1.0\"/>\n",
       "<circle cx=\"195\" cy=\"172\" r=\"7.333333333333333\" style=\"fill:gray;stroke:black;stroke-width:1.0\"/>\n",
       "<circle cx=\"174\" cy=\"93\" r=\"13.666666666666666\" style=\"fill:gray;stroke:black;stroke-width:1.0\"/>\n",
       "<circle cx=\"188\" cy=\"99\" r=\"13.666666666666666\" style=\"fill:gray;stroke:black;stroke-width:1.0\"/>\n",
       "<circle cx=\"189\" cy=\"148\" r=\"13.666666666666666\" style=\"fill:gray;stroke:black;stroke-width:1.0\"/>\n",
       "<circle cx=\"163\" cy=\"72\" r=\"13.666666666666666\" style=\"fill:gray;stroke:black;stroke-width:1.0\"/>\n",
       "<circle cx=\"31\" cy=\"204\" r=\"7.333333333333333\" style=\"fill:gray;stroke:black;stroke-width:1.0\"/>\n",
       "<circle cx=\"183\" cy=\"119\" r=\"20.0\" style=\"fill:gray;stroke:black;stroke-width:1.0\"/>\n",
       "<circle cx=\"420\" cy=\"164\" r=\"7.333333333333333\" style=\"fill:gray;stroke:black;stroke-width:1.0\"/>\n",
       "</svg>"
      ],
      "text/plain": [
       "<IPython.core.display.SVG object>"
      ]
     },
     "execution_count": 19,
     "metadata": {},
     "output_type": "execute_result"
    }
   ],
   "source": [
    "# Pour afficher le graphe avec scikit-network, la matrice d'adjacence doit nécessairement être une\n",
    "# sparse matrix de scipy\n",
    "image = svg_graph(adjacence_sparse,node_size=9.,display_node_weight=True)\n",
    "SVG(image)"
   ]
  },
  {
   "cell_type": "markdown",
   "metadata": {},
   "source": [
    "### Visualisation du graphe avec pyvis"
   ]
  },
  {
   "cell_type": "code",
   "execution_count": 20,
   "metadata": {},
   "outputs": [
    {
     "name": "stdout",
     "output_type": "stream",
     "text": [
      "Local cdn resources have problems on chrome/safari when used in jupyter-notebook. \n"
     ]
    },
    {
     "data": {
      "text/html": [
       "\n",
       "        <iframe\n",
       "            width=\"100%\"\n",
       "            height=\"600px\"\n",
       "            src=\"exemple-pyvis.html\"\n",
       "            frameborder=\"0\"\n",
       "            allowfullscreen\n",
       "        ></iframe>\n",
       "        "
      ],
      "text/plain": [
       "<IPython.lib.display.IFrame at 0x1d87f3b1f98>"
      ]
     },
     "execution_count": 20,
     "metadata": {},
     "output_type": "execute_result"
    }
   ],
   "source": [
    "liste_adjacence = adjacence2liste_adjacence(adjacence)\n",
    "graphe = Network(notebook=True)\n",
    "graphe.add_nodes(list(range(11)),label=[str(i) for i in range(11)])\n",
    "graphe.add_edges(liste_adjacence)\n",
    "graphe.show('exemple-pyvis.html')"
   ]
  },
  {
   "cell_type": "markdown",
   "metadata": {
    "id": "AboQAVTwSks1"
   },
   "source": [
    "# 1.   L'algorithme de Louvain\n",
    "\n",
    "## 1.1 Présentation\n",
    "\n",
    "L'algorithme de Louvain est un algorithme itératif de clustering de graphe.\n",
    "\n",
    "Le but de l'algorithme est de choisir le partitionnement de graphe qui maximise une certaine fonction de gain Q appelée modularité.\n",
    "\n",
    "Cet algorithme est composé de deux phases.\n",
    "\n",
    "(1) Dans la première phase, on assigne une communauté à chaque noeud du graphe. Puis, on parcourt chaque noeud et on le met dans la communauté qui augmente le plus la fonction de gain Q. La première phase s'arrête lorsqu'aucun mouvement d'un individu ne permet d'augmenter Q.\n",
    "\n",
    "(2) Dans la deuxième phase, on construit un nouveau réseau dans lequel les noeuds correspondent aux communautés construites précédemment.\n",
    "\n",
    "Une fois ceci fait, on réitère ces deux phases sur ce nouveau réseau, puis on arrête l'algorithme lorsqu'on ne peut plus augmenter Q.\n",
    "\n",
    "$ \\\\ $\n",
    "\n",
    "Pour plus d'information, veuillez lire le document suivant : https://arxiv.org/pdf/0803.0476v2.pdf\n",
    "\n",
    "## 1.2 Création du clustering"
   ]
  },
  {
   "cell_type": "code",
   "execution_count": 21,
   "metadata": {
    "colab": {
     "base_uri": "https://localhost:8080/",
     "height": 294
    },
    "id": "h5j-avWXWArb",
    "outputId": "b1f603b2-32a9-40ea-8a14-2d0e4225a4c8"
   },
   "outputs": [
    {
     "name": "stdout",
     "output_type": "stream",
     "text": [
      "[2 3 4 1 0 0 1 5 6 0 7]\n"
     ]
    }
   ],
   "source": [
    "from sknetwork.clustering import Louvain\n",
    "\n",
    "adjacence_louvain_sparse = adjacence_sparse.copy()\n",
    "\n",
    "louvain = Louvain(random_state=0)\n",
    "\n",
    "# louvain.fit_transform fit la matrice d'adjacence avec la méthode de Louvain et renvoie\n",
    "# les labels de clustering correspondants\n",
    "labels_louvain = louvain.fit_transform(adjacence_louvain_sparse)\n",
    "\n",
    "print(labels_louvain)"
   ]
  },
  {
   "cell_type": "markdown",
   "metadata": {},
   "source": [
    "## 1.3 Affichage des clusters obtenus\n",
    "\n",
    "### 1.3.1 Affichage avec scikit-network"
   ]
  },
  {
   "cell_type": "code",
   "execution_count": 22,
   "metadata": {
    "id": "_9MtrkUMi6-Z",
    "outputId": "2a660fe8-603c-473a-ab98-2490b05e5e54"
   },
   "outputs": [
    {
     "data": {
      "image/svg+xml": [
       "<svg height=\"340\" width=\"440\" xmlns=\"http://www.w3.org/2000/svg\">\n",
       "<path d=\"M 53 102 53 102\" stroke=\"black\" stroke-width=\"1.0\"/>\n",
       "<path d=\"M 347 194 315 204\" stroke=\"black\" stroke-width=\"1.0\"/>\n",
       "<path d=\"M 281 78 281 78\" stroke=\"black\" stroke-width=\"1.0\"/>\n",
       "<path d=\"M 291 215 291 215\" stroke=\"black\" stroke-width=\"1.0\"/>\n",
       "<path d=\"M 387 188 347 194\" stroke=\"black\" stroke-width=\"1.0\"/>\n",
       "<path d=\"M 387 188 387 188\" stroke=\"black\" stroke-width=\"1.0\"/>\n",
       "<path d=\"M 318 191 347 194\" stroke=\"black\" stroke-width=\"1.0\"/>\n",
       "<path d=\"M 347 194 347 194\" stroke=\"black\" stroke-width=\"1.0\"/>\n",
       "<path d=\"M 318 191 318 191\" stroke=\"black\" stroke-width=\"1.0\"/>\n",
       "<path d=\"M 315 204 318 191\" stroke=\"black\" stroke-width=\"1.0\"/>\n",
       "<path d=\"M 315 204 315 204\" stroke=\"black\" stroke-width=\"1.0\"/>\n",
       "<path d=\"M 420 183 387 188\" stroke=\"black\" stroke-width=\"1.0\"/>\n",
       "<path d=\"M 420 183 420 183\" stroke=\"black\" stroke-width=\"1.0\"/>\n",
       "<path d=\"M 320 320 320 320\" stroke=\"black\" stroke-width=\"1.0\"/>\n",
       "<path d=\"M 247 20 247 20\" stroke=\"black\" stroke-width=\"1.0\"/>\n",
       "<path d=\"M 315 204 291 215\" stroke=\"black\" stroke-width=\"1.0\"/>\n",
       "<path d=\"M 20 185 20 185\" stroke=\"black\" stroke-width=\"1.0\"/>\n",
       "<circle cx=\"53\" cy=\"102\" r=\"7.333333333333333\" style=\"fill:green;stroke:black;stroke-width:1.0\"/>\n",
       "<circle cx=\"247\" cy=\"20\" r=\"7.333333333333333\" style=\"fill:orange;stroke:black;stroke-width:1.0\"/>\n",
       "<circle cx=\"320\" cy=\"320\" r=\"7.333333333333333\" style=\"fill:purple;stroke:black;stroke-width:1.0\"/>\n",
       "<circle cx=\"420\" cy=\"183\" r=\"7.333333333333333\" style=\"fill:red;stroke:black;stroke-width:1.0\"/>\n",
       "<circle cx=\"315\" cy=\"204\" r=\"13.666666666666666\" style=\"fill:blue;stroke:black;stroke-width:1.0\"/>\n",
       "<circle cx=\"318\" cy=\"191\" r=\"13.666666666666666\" style=\"fill:blue;stroke:black;stroke-width:1.0\"/>\n",
       "<circle cx=\"387\" cy=\"188\" r=\"13.666666666666666\" style=\"fill:red;stroke:black;stroke-width:1.0\"/>\n",
       "<circle cx=\"291\" cy=\"215\" r=\"13.666666666666666\" style=\"fill:yellow;stroke:black;stroke-width:1.0\"/>\n",
       "<circle cx=\"281\" cy=\"78\" r=\"7.333333333333333\" style=\"fill:fuchsia;stroke:black;stroke-width:1.0\"/>\n",
       "<circle cx=\"347\" cy=\"194\" r=\"20.0\" style=\"fill:blue;stroke:black;stroke-width:1.0\"/>\n",
       "<circle cx=\"20\" cy=\"185\" r=\"7.333333333333333\" style=\"fill:olive;stroke:black;stroke-width:1.0\"/>\n",
       "</svg>"
      ],
      "text/plain": [
       "<IPython.core.display.SVG object>"
      ]
     },
     "execution_count": 22,
     "metadata": {},
     "output_type": "execute_result"
    }
   ],
   "source": [
    "image_louvain = svg_graph(adjacence_louvain_sparse,labels=labels_louvain,node_size=9.,display_node_weight=True)\n",
    "SVG(image_louvain)"
   ]
  },
  {
   "cell_type": "markdown",
   "metadata": {},
   "source": [
    "### 1.3.2 Affichage avec pyvis"
   ]
  },
  {
   "cell_type": "code",
   "execution_count": 23,
   "metadata": {
    "scrolled": false
   },
   "outputs": [
    {
     "name": "stdout",
     "output_type": "stream",
     "text": [
      "Local cdn resources have problems on chrome/safari when used in jupyter-notebook. \n"
     ]
    },
    {
     "data": {
      "text/html": [
       "\n",
       "        <iframe\n",
       "            width=\"100%\"\n",
       "            height=\"600px\"\n",
       "            src=\"louvain.html\"\n",
       "            frameborder=\"0\"\n",
       "            allowfullscreen\n",
       "        ></iframe>\n",
       "        "
      ],
      "text/plain": [
       "<IPython.lib.display.IFrame at 0x1d87f39b908>"
      ]
     },
     "execution_count": 23,
     "metadata": {},
     "output_type": "execute_result"
    }
   ],
   "source": [
    "couleurs_louvain = random_color_label(labels_louvain)\n",
    "\n",
    "# les labels utilisé avec pyvis sont des chaînes de caractères\n",
    "labels_louvain_str = [str(label) for label in labels_louvain]\n",
    "\n",
    "net = Network(notebook=True)\n",
    "\n",
    "net.add_nodes(list(range(11)), \n",
    "              label=labels_louvain_str,\n",
    "              color=couleurs_louvain)\n",
    "\n",
    "net.add_edges(liste_adjacence)\n",
    "\n",
    "net.show('louvain.html')"
   ]
  },
  {
   "cell_type": "markdown",
   "metadata": {
    "id": "vESZHnaji6-a"
   },
   "source": [
    "# 2. Clustering spectral\n",
    "\n",
    "## 2.1 Présentation\n",
    "\n",
    "L'algorithme de Clustering spectral est un algorithme de clustering de graphe utilisant la méthode des k-means.\n",
    "\n",
    "Cette méthode des k-means a été vue en cours, mais ne peut pas s'appliquer directement à un graphe, qui, contrairement à un nuage de points par exemple, n'a pas de portée géométrique.\n",
    "\n",
    "(1) Pour appliquer la méthode des k-means, on considère alors la matrice de Laplace. Pour rappel, cette matrice est définie par :\n",
    "$$ L = D-A $$\n",
    "où $A$ est la matrice d'adjacence, et $D$ est une matrice diagonale où chaque élément de la diagonale est la somme des éléments de la ligne de $A$ correspondante\n",
    "\n",
    "(2) Une fois cette matrice calculée, on détermine les vecteurs propres de cette matrice. On sélectionne alors les k vecteurs propres (où k est le nombre de clusters voulus) correspondants aux k premières valeurs propres (rangées dans par ordre croissant).\n",
    "\n",
    "(3) Enfin, il suffit d'appliquer l'algorithme des k-means à ces k vecteurs propres.\n",
    "\n",
    "\n",
    "On remarquera que dans cet algorithme, contrairement aux deux autres algorithmes présentés, on n'a pas besoin de spécifier le nombre de clusters voulus.\n",
    "\n",
    "\n",
    "$ \\\\ $\n",
    "\n",
    "Pour plus d'information, veuillez vous référer à la page Wikipédia correspondante : https://en.wikipedia.org/wiki/Spectral_clustering\n",
    "\n",
    "## 2.2 Création du clustering"
   ]
  },
  {
   "cell_type": "code",
   "execution_count": 24,
   "metadata": {
    "id": "LK5DCPzni6-c",
    "outputId": "ea8115b4-305e-4491-91c1-823c5ccbbfe5"
   },
   "outputs": [
    {
     "name": "stdout",
     "output_type": "stream",
     "text": [
      "[0 0 1 1 0 1 1 0 2 3 0]\n"
     ]
    }
   ],
   "source": [
    "# la méthode KMeans correspond bien à du clustering spectral, et non à le méthode des k-means,\n",
    "# qui n'a pas de sens pour un graphe\n",
    "from sknetwork.clustering import KMeans\n",
    "\n",
    "adjacence_spectral_sparse = adjacence_sparse.copy()\n",
    "\n",
    "kmeans = KMeans(n_clusters=4)\n",
    "\n",
    "# kmeans.fit_transform fit la matrice d'adjacence avec la méthode de clustering spectral\n",
    "# et renvoie les labels de clustering correspondants\n",
    "labels_spectral = kmeans.fit_transform(adjacence_spectral_sparse)\n",
    "\n",
    "print(labels_spectral)"
   ]
  },
  {
   "cell_type": "markdown",
   "metadata": {
    "id": "FAh2ye8Ci6-d"
   },
   "source": [
    "## 2.3 Affichage des clusters obtenus\n",
    "\n",
    "### 2.3.1 Affichage avec scikit-network"
   ]
  },
  {
   "cell_type": "code",
   "execution_count": 25,
   "metadata": {
    "id": "KXNL97IEi6-d",
    "outputId": "6fd06d00-723c-4bfe-d5de-74ef0e481810"
   },
   "outputs": [
    {
     "data": {
      "image/svg+xml": [
       "<svg height=\"340\" width=\"440\" xmlns=\"http://www.w3.org/2000/svg\">\n",
       "<path d=\"M 32 49 32 49\" stroke=\"black\" stroke-width=\"1.0\"/>\n",
       "<path d=\"M 193 234 163 243\" stroke=\"black\" stroke-width=\"1.0\"/>\n",
       "<path d=\"M 420 132 420 132\" stroke=\"black\" stroke-width=\"1.0\"/>\n",
       "<path d=\"M 139 256 139 256\" stroke=\"black\" stroke-width=\"1.0\"/>\n",
       "<path d=\"M 226 230 193 234\" stroke=\"black\" stroke-width=\"1.0\"/>\n",
       "<path d=\"M 226 230 226 230\" stroke=\"black\" stroke-width=\"1.0\"/>\n",
       "<path d=\"M 170 227 193 234\" stroke=\"black\" stroke-width=\"1.0\"/>\n",
       "<path d=\"M 193 234 193 234\" stroke=\"black\" stroke-width=\"1.0\"/>\n",
       "<path d=\"M 170 227 170 227\" stroke=\"black\" stroke-width=\"1.0\"/>\n",
       "<path d=\"M 163 243 170 227\" stroke=\"black\" stroke-width=\"1.0\"/>\n",
       "<path d=\"M 163 243 163 243\" stroke=\"black\" stroke-width=\"1.0\"/>\n",
       "<path d=\"M 254 226 226 230\" stroke=\"black\" stroke-width=\"1.0\"/>\n",
       "<path d=\"M 254 226 254 226\" stroke=\"black\" stroke-width=\"1.0\"/>\n",
       "<path d=\"M 384 320 384 320\" stroke=\"black\" stroke-width=\"1.0\"/>\n",
       "<path d=\"M 238 20 238 20\" stroke=\"black\" stroke-width=\"1.0\"/>\n",
       "<path d=\"M 163 243 139 256\" stroke=\"black\" stroke-width=\"1.0\"/>\n",
       "<path d=\"M 20 145 20 145\" stroke=\"black\" stroke-width=\"1.0\"/>\n",
       "<circle cx=\"32\" cy=\"49\" r=\"7.333333333333333\" style=\"fill:blue;stroke:black;stroke-width:1.0\"/>\n",
       "<circle cx=\"238\" cy=\"20\" r=\"7.333333333333333\" style=\"fill:blue;stroke:black;stroke-width:1.0\"/>\n",
       "<circle cx=\"384\" cy=\"320\" r=\"7.333333333333333\" style=\"fill:red;stroke:black;stroke-width:1.0\"/>\n",
       "<circle cx=\"254\" cy=\"226\" r=\"7.333333333333333\" style=\"fill:red;stroke:black;stroke-width:1.0\"/>\n",
       "<circle cx=\"163\" cy=\"243\" r=\"13.666666666666666\" style=\"fill:blue;stroke:black;stroke-width:1.0\"/>\n",
       "<circle cx=\"170\" cy=\"227\" r=\"13.666666666666666\" style=\"fill:red;stroke:black;stroke-width:1.0\"/>\n",
       "<circle cx=\"226\" cy=\"230\" r=\"13.666666666666666\" style=\"fill:red;stroke:black;stroke-width:1.0\"/>\n",
       "<circle cx=\"139\" cy=\"256\" r=\"13.666666666666666\" style=\"fill:blue;stroke:black;stroke-width:1.0\"/>\n",
       "<circle cx=\"420\" cy=\"132\" r=\"7.333333333333333\" style=\"fill:green;stroke:black;stroke-width:1.0\"/>\n",
       "<circle cx=\"193\" cy=\"234\" r=\"20.0\" style=\"fill:orange;stroke:black;stroke-width:1.0\"/>\n",
       "<circle cx=\"20\" cy=\"145\" r=\"7.333333333333333\" style=\"fill:blue;stroke:black;stroke-width:1.0\"/>\n",
       "</svg>"
      ],
      "text/plain": [
       "<IPython.core.display.SVG object>"
      ]
     },
     "execution_count": 25,
     "metadata": {},
     "output_type": "execute_result"
    }
   ],
   "source": [
    "image_spectral = svg_graph(adjacence_spectral_sparse,labels=labels_spectral,node_size=9.,display_node_weight=True)\n",
    "SVG(image_spectral)"
   ]
  },
  {
   "cell_type": "markdown",
   "metadata": {},
   "source": [
    "### 1.3.2 Affichage avec pyvis"
   ]
  },
  {
   "cell_type": "code",
   "execution_count": 26,
   "metadata": {},
   "outputs": [
    {
     "name": "stdout",
     "output_type": "stream",
     "text": [
      "Local cdn resources have problems on chrome/safari when used in jupyter-notebook. \n"
     ]
    },
    {
     "data": {
      "text/html": [
       "\n",
       "        <iframe\n",
       "            width=\"100%\"\n",
       "            height=\"600px\"\n",
       "            src=\"spectral.html\"\n",
       "            frameborder=\"0\"\n",
       "            allowfullscreen\n",
       "        ></iframe>\n",
       "        "
      ],
      "text/plain": [
       "<IPython.lib.display.IFrame at 0x1d87f3b17b8>"
      ]
     },
     "execution_count": 26,
     "metadata": {},
     "output_type": "execute_result"
    }
   ],
   "source": [
    "couleurs_spectral = random_color_label(labels_spectral)\n",
    "\n",
    "# les labels utilisé avec pyvis sont des chaînes de caractères\n",
    "labels_spectral_str = [str(label) for label in labels_spectral]\n",
    "\n",
    "net = Network(notebook=True)\n",
    "\n",
    "net.add_nodes(list(range(11)), \n",
    "              label=labels_spectral_str,\n",
    "              color=couleurs_spectral)\n",
    "\n",
    "net.add_edges(liste_adjacence)\n",
    "\n",
    "net.show('spectral.html')"
   ]
  },
  {
   "cell_type": "markdown",
   "metadata": {
    "id": "_5YZuDrki6-e"
   },
   "source": [
    "# 3. Clustering par propagation d'étiquette (\"label propagation\")\n",
    "\n",
    "## 3.1 Présentation\n",
    "\n",
    "L'algorithme de Clustering par \"label propagation\" est un algorithme itératif de clustering de graphe.\n",
    "\n",
    "Cet algorithme consiste à assigner une \"étiquette\" aux différents noeuds, puis, pour chaque noeud, à changer les différentes \"étiquettes\" en étudiant celles du voisinage de ce noeud.\n",
    "\n",
    "Vous trouverez ci-dessous les étapes de cet algorithme. Par la suite, on notera $ t $ l'itération de l'algorithme et $C_x(t) $ l'étiquette du noeud $ x $ à l'itération $ t $.\n",
    "\n",
    "(1) On initialise tout d'abord les labels de chaque noeuds en leur donnant une valeur différente : $$ \\forall x, C_x(0) = x .$$\n",
    "\n",
    "(2) On fixe $ t = 1$\n",
    "\n",
    "(3) On considère ensuite un ordre aléatoire $ X $ des noeuds du graphe.\n",
    "\n",
    "(4) Pour chaque noeud $ x $ dans l'ordre défini par $ X $, on met à jour le label du noeud $ x $. $ C_x(t) $ correspond alors au label le plus fréquent dans les voisins de $ x $. En cas d'égalité entre plusieurs labels, on en choisit un aléatoirement.\n",
    "\n",
    "(5) Enfin, si chaque noeud possède une étiquette que le nombre maximum de ses voisins possède, alors l'algorithme s'arrête. Sinon, $ t = t+1$ et on retourne en (3).\n",
    "\n",
    "$ \\\\ $\n",
    "\n",
    "Pour plus d'information, veuillez consulter le document suivant : https://arxiv.org/pdf/0709.2938.pdf\n",
    "\n",
    "## 3.2 Création du clustering"
   ]
  },
  {
   "cell_type": "code",
   "execution_count": 27,
   "metadata": {
    "id": "bnSGxzVWi6-f",
    "outputId": "e922ca07-d81b-479f-fd01-c10ec40de2bf"
   },
   "outputs": [
    {
     "name": "stdout",
     "output_type": "stream",
     "text": [
      "[0 1 2 3 4 4 4 5 6 4 7]\n"
     ]
    }
   ],
   "source": [
    "from sknetwork.clustering import PropagationClustering\n",
    "\n",
    "propagation = PropagationClustering(n_iter=-1)\n",
    "\n",
    "adjacence_propagation_sparse = adjacence_sparse.copy()\n",
    "\n",
    "# propagation.fit_transform fit la matrice d'adjacence avec la méthode de propagation\n",
    "# et renvoie les labels de clustering correspondants\n",
    "labels_propagation = propagation.fit_transform(adjacence_propagation_sparse)\n",
    "\n",
    "print(labels_propagation)"
   ]
  },
  {
   "cell_type": "markdown",
   "metadata": {
    "id": "XiPobA0_i6-g"
   },
   "source": [
    "## 3.3 Affichage des clusters obtenus\n",
    "\n",
    "### 3.3.1 Affichage avec scikit-network"
   ]
  },
  {
   "cell_type": "code",
   "execution_count": 28,
   "metadata": {
    "id": "uRJOAOcai6-g",
    "outputId": "cf2decb5-f274-43fd-b7a7-64167efcc33d"
   },
   "outputs": [
    {
     "data": {
      "image/svg+xml": [
       "<svg height=\"340\" width=\"440\" xmlns=\"http://www.w3.org/2000/svg\">\n",
       "<path d=\"M 348 126 348 126\" stroke=\"black\" stroke-width=\"1.0\"/>\n",
       "<path d=\"M 177 267 175 240\" stroke=\"black\" stroke-width=\"1.0\"/>\n",
       "<path d=\"M 420 214 420 214\" stroke=\"black\" stroke-width=\"1.0\"/>\n",
       "<path d=\"M 171 216 171 216\" stroke=\"black\" stroke-width=\"1.0\"/>\n",
       "<path d=\"M 174 296 177 267\" stroke=\"black\" stroke-width=\"1.0\"/>\n",
       "<path d=\"M 174 296 174 296\" stroke=\"black\" stroke-width=\"1.0\"/>\n",
       "<path d=\"M 188 252 177 267\" stroke=\"black\" stroke-width=\"1.0\"/>\n",
       "<path d=\"M 177 267 177 267\" stroke=\"black\" stroke-width=\"1.0\"/>\n",
       "<path d=\"M 188 252 188 252\" stroke=\"black\" stroke-width=\"1.0\"/>\n",
       "<path d=\"M 175 240 188 252\" stroke=\"black\" stroke-width=\"1.0\"/>\n",
       "<path d=\"M 175 240 175 240\" stroke=\"black\" stroke-width=\"1.0\"/>\n",
       "<path d=\"M 172 320 174 296\" stroke=\"black\" stroke-width=\"1.0\"/>\n",
       "<path d=\"M 172 320 172 320\" stroke=\"black\" stroke-width=\"1.0\"/>\n",
       "<path d=\"M 328 20 328 20\" stroke=\"black\" stroke-width=\"1.0\"/>\n",
       "<path d=\"M 359 315 359 315\" stroke=\"black\" stroke-width=\"1.0\"/>\n",
       "<path d=\"M 175 240 171 216\" stroke=\"black\" stroke-width=\"1.0\"/>\n",
       "<path d=\"M 20 179 20 179\" stroke=\"black\" stroke-width=\"1.0\"/>\n",
       "<circle cx=\"348\" cy=\"126\" r=\"7.333333333333333\" style=\"fill:blue;stroke:black;stroke-width:1.0\"/>\n",
       "<circle cx=\"359\" cy=\"315\" r=\"7.333333333333333\" style=\"fill:red;stroke:black;stroke-width:1.0\"/>\n",
       "<circle cx=\"328\" cy=\"20\" r=\"7.333333333333333\" style=\"fill:green;stroke:black;stroke-width:1.0\"/>\n",
       "<circle cx=\"172\" cy=\"320\" r=\"7.333333333333333\" style=\"fill:orange;stroke:black;stroke-width:1.0\"/>\n",
       "<circle cx=\"175\" cy=\"240\" r=\"13.666666666666666\" style=\"fill:purple;stroke:black;stroke-width:1.0\"/>\n",
       "<circle cx=\"188\" cy=\"252\" r=\"13.666666666666666\" style=\"fill:purple;stroke:black;stroke-width:1.0\"/>\n",
       "<circle cx=\"174\" cy=\"296\" r=\"13.666666666666666\" style=\"fill:purple;stroke:black;stroke-width:1.0\"/>\n",
       "<circle cx=\"171\" cy=\"216\" r=\"13.666666666666666\" style=\"fill:yellow;stroke:black;stroke-width:1.0\"/>\n",
       "<circle cx=\"420\" cy=\"214\" r=\"7.333333333333333\" style=\"fill:fuchsia;stroke:black;stroke-width:1.0\"/>\n",
       "<circle cx=\"177\" cy=\"267\" r=\"20.0\" style=\"fill:purple;stroke:black;stroke-width:1.0\"/>\n",
       "<circle cx=\"20\" cy=\"179\" r=\"7.333333333333333\" style=\"fill:olive;stroke:black;stroke-width:1.0\"/>\n",
       "</svg>"
      ],
      "text/plain": [
       "<IPython.core.display.SVG object>"
      ]
     },
     "execution_count": 28,
     "metadata": {},
     "output_type": "execute_result"
    }
   ],
   "source": [
    "image_propagation = svg_graph(adjacence_propagation_sparse,labels=labels_propagation,node_size=9.,display_node_weight=True)\n",
    "SVG(image_propagation)"
   ]
  },
  {
   "cell_type": "markdown",
   "metadata": {},
   "source": [
    "### 3.3.2 Affichage avec pyvis"
   ]
  },
  {
   "cell_type": "code",
   "execution_count": 29,
   "metadata": {},
   "outputs": [
    {
     "name": "stdout",
     "output_type": "stream",
     "text": [
      "Local cdn resources have problems on chrome/safari when used in jupyter-notebook. \n"
     ]
    },
    {
     "data": {
      "text/html": [
       "\n",
       "        <iframe\n",
       "            width=\"100%\"\n",
       "            height=\"600px\"\n",
       "            src=\"propagation.html\"\n",
       "            frameborder=\"0\"\n",
       "            allowfullscreen\n",
       "        ></iframe>\n",
       "        "
      ],
      "text/plain": [
       "<IPython.lib.display.IFrame at 0x1d87f39b828>"
      ]
     },
     "execution_count": 29,
     "metadata": {},
     "output_type": "execute_result"
    }
   ],
   "source": [
    "couleurs_propagation = random_color_label(labels_propagation)\n",
    "\n",
    "# les labels utilisé avec pyvis sont des chaînes de caractères\n",
    "labels_propagation_str = [str(label) for label in labels_spectral]\n",
    "\n",
    "net = Network(notebook=True)\n",
    "\n",
    "net.add_nodes(list(range(11)), \n",
    "              label=labels_propagation_str,\n",
    "              color=couleurs_spectral)\n",
    "\n",
    "net.add_edges(liste_adjacence)\n",
    "\n",
    "net.show('propagation.html')"
   ]
  }
 ],
 "metadata": {
  "colab": {
   "provenance": []
  },
  "kernelspec": {
   "display_name": "Python 3",
   "language": "python",
   "name": "python3"
  },
  "language_info": {
   "codemirror_mode": {
    "name": "ipython",
    "version": 3
   },
   "file_extension": ".py",
   "mimetype": "text/x-python",
   "name": "python",
   "nbconvert_exporter": "python",
   "pygments_lexer": "ipython3",
   "version": "3.6.2"
  }
 },
 "nbformat": 4,
 "nbformat_minor": 1
}
