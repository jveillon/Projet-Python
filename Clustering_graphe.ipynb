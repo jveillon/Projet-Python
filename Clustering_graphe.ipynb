{
  "cells": [
    {
      "cell_type": "code",
      "execution_count": null,
      "metadata": {
        "colab": {
          "base_uri": "https://localhost:8080/"
        },
        "id": "Z16kMkpAXCET",
        "outputId": "284d98a2-843a-4da4-861d-138ac09742f5"
      },
      "outputs": [
        {
          "name": "stdout",
          "output_type": "stream",
          "text": [
            "Defaulting to user installation because normal site-packages is not writeable\n",
            "Requirement already satisfied: scikit-network in c:\\users\\florent\\appdata\\roaming\\python\\python36\\site-packages (0.22.0)\n",
            "Requirement already satisfied: numpy>=1.18.3 in c:\\users\\florent\\appdata\\roaming\\python\\python36\\site-packages (from scikit-network) (1.19.5)\n",
            "Requirement already satisfied: scipy>=1.4.1 in c:\\users\\florent\\appdata\\roaming\\python\\python36\\site-packages (from scikit-network) (1.5.4)\n"
          ]
        }
      ],
      "source": [
        "# module scikit-learn spécialisé dans l'analyse de graphe\n",
        "!pip install scikit-network"
      ]
    },
    {
      "cell_type": "markdown",
      "metadata": {
        "id": "Enz0TShTOokT"
      },
      "source": [
        "Import des packages nécessaires au clustering :"
      ]
    },
    {
      "cell_type": "code",
      "execution_count": null,
      "metadata": {
        "id": "78BIYvIUOvva"
      },
      "outputs": [],
      "source": [
        "# permet de manipuler des matrices creuses, beaucoup plus efficace en complexité\n",
        "from scipy import sparse\n",
        "\n",
        "import numpy as np\n",
        "\n",
        "import random\n",
        "\n",
        "#le package de scikit-network spécialisé dans le clustering de graphes\n",
        "import sknetwork.clustering\n",
        "\n",
        "# méthode permettant de créer un graphe \"visuel\" à partir d'une matrice d'adjacence\n",
        "from sknetwork.visualization import svg_graph\n",
        "\n",
        "# méthode permettant d'afficher les graphes obtenus avec svg_graph\n",
        "from IPython.display import SVG"
      ]
    },
    {
      "cell_type": "markdown",
      "metadata": {
        "id": "uRyDjilwPmH2"
      },
      "source": [
        "Import du graphe des profils Twitter sous la forme d'une matrice d'adjacence (scipy sparse matrix)\n",
        "\n",
        "La matrice d'adjacence n'a besoin d'être renseignée que sur une de ses moitiés"
      ]
    },
    {
      "cell_type": "code",
      "execution_count": null,
      "metadata": {
        "id": "8oiJMpPdP8Ik"
      },
      "outputs": [],
      "source": [
        "adjacence = np.eye(10)\n",
        "random.seed = 10\n",
        "for i in range(10) :\n",
        "    adjacence[random.randint(0,9),random.randint(0,9)] = 1\n",
        "adjacence = sparse.csr_matrix(adjacence)"
      ]
    },
    {
      "cell_type": "markdown",
      "metadata": {
        "id": "MaAAWC0Ki6-K"
      },
      "source": [
        "Visualisation du graphe :"
      ]
    },
    {
      "cell_type": "code",
      "execution_count": null,
      "metadata": {
        "id": "yZIP6YE0i6-M",
        "outputId": "cb05818a-1d27-4478-b69e-82c329771a3f"
      },
      "outputs": [
        {
          "data": {
            "image/svg+xml": [
              "<svg height=\"340\" width=\"440\" xmlns=\"http://www.w3.org/2000/svg\">\n",
              "<path d=\"M 20 59 20 59\" stroke=\"black\" stroke-width=\"1.0\"/>\n",
              "<path d=\"M 110 182 99 126\" stroke=\"black\" stroke-width=\"1.0\"/>\n",
              "<path d=\"M 110 182 77 203\" stroke=\"black\" stroke-width=\"1.0\"/>\n",
              "<path d=\"M 20 114 20 114\" stroke=\"black\" stroke-width=\"1.0\"/>\n",
              "<path d=\"M 106 58 141 20\" stroke=\"black\" stroke-width=\"1.0\"/>\n",
              "<path d=\"M 106 58 106 58\" stroke=\"black\" stroke-width=\"1.0\"/>\n",
              "<path d=\"M 106 58 61 35\" stroke=\"black\" stroke-width=\"1.0\"/>\n",
              "<path d=\"M 99 126 106 58\" stroke=\"black\" stroke-width=\"1.0\"/>\n",
              "<path d=\"M 99 126 99 126\" stroke=\"black\" stroke-width=\"1.0\"/>\n",
              "<path d=\"M 77 203 77 203\" stroke=\"black\" stroke-width=\"1.0\"/>\n",
              "<path d=\"M 77 203 57 154\" stroke=\"black\" stroke-width=\"1.0\"/>\n",
              "<path d=\"M 420 320 420 320\" stroke=\"black\" stroke-width=\"1.0\"/>\n",
              "<path d=\"M 57 154 20 114\" stroke=\"black\" stroke-width=\"1.0\"/>\n",
              "<path d=\"M 57 154 99 126\" stroke=\"black\" stroke-width=\"1.0\"/>\n",
              "<path d=\"M 57 154 57 154\" stroke=\"black\" stroke-width=\"1.0\"/>\n",
              "<path d=\"M 61 35 61 35\" stroke=\"black\" stroke-width=\"1.0\"/>\n",
              "<path d=\"M 61 35 20 59\" stroke=\"black\" stroke-width=\"1.0\"/>\n",
              "<path d=\"M 20 59 20 114\" stroke=\"black\" stroke-width=\"1.0\"/>\n",
              "<path d=\"M 110 182 110 182\" stroke=\"black\" stroke-width=\"1.0\"/>\n",
              "<path d=\"M 141 20 141 20\" stroke=\"black\" stroke-width=\"1.0\"/>\n",
              "<circle cx=\"20\" cy=\"59\" r=\"7.0\" style=\"fill:gray;stroke:black;stroke-width:1.0\"/>\n",
              "<circle cx=\"61\" cy=\"35\" r=\"7.0\" style=\"fill:gray;stroke:black;stroke-width:1.0\"/>\n",
              "<circle cx=\"57\" cy=\"154\" r=\"7.0\" style=\"fill:gray;stroke:black;stroke-width:1.0\"/>\n",
              "<circle cx=\"420\" cy=\"320\" r=\"7.0\" style=\"fill:gray;stroke:black;stroke-width:1.0\"/>\n",
              "<circle cx=\"77\" cy=\"203\" r=\"7.0\" style=\"fill:gray;stroke:black;stroke-width:1.0\"/>\n",
              "<circle cx=\"99\" cy=\"126\" r=\"7.0\" style=\"fill:gray;stroke:black;stroke-width:1.0\"/>\n",
              "<circle cx=\"106\" cy=\"58\" r=\"7.0\" style=\"fill:gray;stroke:black;stroke-width:1.0\"/>\n",
              "<circle cx=\"20\" cy=\"114\" r=\"7.0\" style=\"fill:gray;stroke:black;stroke-width:1.0\"/>\n",
              "<circle cx=\"110\" cy=\"182\" r=\"7.0\" style=\"fill:gray;stroke:black;stroke-width:1.0\"/>\n",
              "<circle cx=\"141\" cy=\"20\" r=\"7.0\" style=\"fill:gray;stroke:black;stroke-width:1.0\"/>\n",
              "</svg>"
            ],
            "text/plain": [
              "<IPython.core.display.SVG object>"
            ]
          },
          "execution_count": 99,
          "metadata": {},
          "output_type": "execute_result"
        }
      ],
      "source": [
        "# Pour afficher le graphe, la matrice d'adjacence doit nécessairement être une\n",
        "# sparse matrix de scipy\n",
        "image = svg_graph(adjacence)\n",
        "SVG(image)"
      ]
    },
    {
      "cell_type": "markdown",
      "metadata": {
        "id": "AboQAVTwSks1"
      },
      "source": [
        "1.   L'algorithme de Louvain\n",
        "\n",
        "L'algorithme de Louvain est un algorithme itératif de clustering de graphe.\n",
        "\n",
        "Le but de l'algorithme est de choisir le partitionnement de graphe qui maximise une certaine fonction de gain Q appelée modularité.\n",
        "\n",
        "Cet algorithme est composé de deux phases.\n",
        "\n",
        "(1) Dans la première phase, on assigne une communauté à chaque noeud du graphe. Puis, on parcourt chaque noeud et on le met dans la communauté qui augmente le plus la fonction de gain Q. La première phase s'arrête lorsqu'aucun mouvement d'un individu ne permet d'augmenter Q.\n",
        "\n",
        "(2) Dans la deuxième phase, on construit un nouveau réseau dans lequel les noeuds correspondent aux communautés construites précédemment.\n",
        "\n",
        "Une fois ceci fait, on réitère ces deux phases sur ce nouveau réseau, puis on arrête l'algorithme lorsqu'on ne peut plus augmenter Q.\n",
        "\n",
        "\n",
        "\n",
        "Pour plus d'information, veuillez lire le document suivant : https://arxiv.org/pdf/0803.0476v2.pdf"
      ]
    },
    {
      "cell_type": "code",
      "execution_count": null,
      "metadata": {
        "colab": {
          "base_uri": "https://localhost:8080/",
          "height": 294
        },
        "id": "h5j-avWXWArb",
        "outputId": "b1f603b2-32a9-40ea-8a14-2d0e4225a4c8"
      },
      "outputs": [
        {
          "name": "stdout",
          "output_type": "stream",
          "text": [
            "[1 0 1 0 3 4 0 2 2 3]\n"
          ]
        }
      ],
      "source": [
        "from sknetwork.clustering import Louvain\n",
        "\n",
        "adjacence_louvain = adjacence.copy()\n",
        "\n",
        "louvain = Louvain(random_state=0)\n",
        "\n",
        "# louvain.fit_transform fit la matrice d'adjacence avec la méthode de Louvain et renvoie\n",
        "# les labels de clustering correspondants\n",
        "labels_louvain = louvain.fit_transform(adjacence_louvain)\n",
        "\n",
        "print(labels_louvain)"
      ]
    },
    {
      "cell_type": "markdown",
      "metadata": {
        "id": "jnCc_84Hi6-X"
      },
      "source": [
        "Affichage du graphe avec les clusters obtenus par l'algorithme de Louvain :"
      ]
    },
    {
      "cell_type": "code",
      "execution_count": null,
      "metadata": {
        "id": "_9MtrkUMi6-Z",
        "outputId": "2a660fe8-603c-473a-ab98-2490b05e5e54"
      },
      "outputs": [
        {
          "data": {
            "image/svg+xml": [
              "<svg height=\"340\" width=\"440\" xmlns=\"http://www.w3.org/2000/svg\">\n",
              "<path d=\"M 359 269 359 269\" stroke=\"black\" stroke-width=\"1.0\"/>\n",
              "<path d=\"M 20 153 20 153\" stroke=\"black\" stroke-width=\"1.0\"/>\n",
              "<path d=\"M 20 153 20 82\" stroke=\"black\" stroke-width=\"1.0\"/>\n",
              "<path d=\"M 164 65 164 65\" stroke=\"black\" stroke-width=\"1.0\"/>\n",
              "<path d=\"M 20 82 20 82\" stroke=\"black\" stroke-width=\"1.0\"/>\n",
              "<path d=\"M 384 197 384 197\" stroke=\"black\" stroke-width=\"1.0\"/>\n",
              "<path d=\"M 384 278 384 197\" stroke=\"black\" stroke-width=\"1.0\"/>\n",
              "<path d=\"M 384 278 384 278\" stroke=\"black\" stroke-width=\"1.0\"/>\n",
              "<path d=\"M 384 278 359 269\" stroke=\"black\" stroke-width=\"1.0\"/>\n",
              "<path d=\"M 404 101 384 197\" stroke=\"black\" stroke-width=\"1.0\"/>\n",
              "<path d=\"M 404 101 404 101\" stroke=\"black\" stroke-width=\"1.0\"/>\n",
              "<path d=\"M 331 320 331 320\" stroke=\"black\" stroke-width=\"1.0\"/>\n",
              "<path d=\"M 331 320 359 269\" stroke=\"black\" stroke-width=\"1.0\"/>\n",
              "<path d=\"M 420 20 404 101\" stroke=\"black\" stroke-width=\"1.0\"/>\n",
              "<path d=\"M 420 20 420 20\" stroke=\"black\" stroke-width=\"1.0\"/>\n",
              "<path d=\"M 359 269 384 197\" stroke=\"black\" stroke-width=\"1.0\"/>\n",
              "<path d=\"M 162 136 164 65\" stroke=\"black\" stroke-width=\"1.0\"/>\n",
              "<path d=\"M 162 136 162 136\" stroke=\"black\" stroke-width=\"1.0\"/>\n",
              "<circle cx=\"359\" cy=\"269\" r=\"7.0\" style=\"fill:blue;stroke:black;stroke-width:1.0\"/>\n",
              "<circle cx=\"420\" cy=\"20\" r=\"7.0\" style=\"fill:red;stroke:black;stroke-width:1.0\"/>\n",
              "<circle cx=\"331\" cy=\"320\" r=\"7.0\" style=\"fill:purple;stroke:black;stroke-width:1.0\"/>\n",
              "<circle cx=\"404\" cy=\"101\" r=\"7.0\" style=\"fill:red;stroke:black;stroke-width:1.0\"/>\n",
              "<circle cx=\"384\" cy=\"278\" r=\"7.0\" style=\"fill:blue;stroke:black;stroke-width:1.0\"/>\n",
              "<circle cx=\"384\" cy=\"197\" r=\"7.0\" style=\"fill:blue;stroke:black;stroke-width:1.0\"/>\n",
              "<circle cx=\"20\" cy=\"82\" r=\"7.0\" style=\"fill:green;stroke:black;stroke-width:1.0\"/>\n",
              "<circle cx=\"164\" cy=\"65\" r=\"7.0\" style=\"fill:orange;stroke:black;stroke-width:1.0\"/>\n",
              "<circle cx=\"20\" cy=\"153\" r=\"7.0\" style=\"fill:green;stroke:black;stroke-width:1.0\"/>\n",
              "<circle cx=\"162\" cy=\"136\" r=\"7.0\" style=\"fill:orange;stroke:black;stroke-width:1.0\"/>\n",
              "</svg>"
            ],
            "text/plain": [
              "<IPython.core.display.SVG object>"
            ]
          },
          "execution_count": 66,
          "metadata": {},
          "output_type": "execute_result"
        }
      ],
      "source": [
        "image_louvain = svg_graph(adjacence_louvain,labels=labels_louvain)\n",
        "SVG(image_louvain)"
      ]
    },
    {
      "cell_type": "markdown",
      "metadata": {
        "id": "vESZHnaji6-a"
      },
      "source": [
        "2. Clustering spectral\n",
        "\n",
        "\n",
        "L'algorithme de Clustering spectral est un algorithme de clustering de graphe utilisant la méthode des k-means.\n",
        "\n",
        "Cette méthode des k-means a été vue en cours, mais ne peut pas s'appliquer directement à un graphe, qui, contrairement à un nuage de points par exemple, n'a pas de portée géométrique.\n",
        "\n",
        "(1) Pour appliquer la méthode des k-means, on considère alors la matrice de Laplace. Pour rappel, cette matrice est définie par :\n",
        "$$ L = D-A \\\\ ~\\mathrm{où} ~A ~\\mathrm{est ~la ~matrice ~d'adjacence, ~et } ~D ~\\mathrm{est ~une~ matrice~ diagonale~ où ~chaque ~élément~ de~ la~ diagonale~ est ~la ~somme ~des ~éléments ~de ~la~ ligne~ de}~ A ~\\mathrm{correspondante}$$\n",
        "\n",
        "(2) Une fois cette matrice calculée, on détermine les vecteurs propres de cette matrice. On sélectionne alors les k vecteurs propres (où k est le nombre de clusters voulus) correspondants aux k premières valeurs propres (rangées dans par ordre croissant).\n",
        "\n",
        "(3) Enfin, il suffit d'appliquer l'algorithme des k-means à ces k vecteurs propres.\n",
        "\n",
        "\n",
        "On remarquera que dans cet algorithme, contrairement aux deux autres algorithmes présentés, on a pas besoin de spécifier le nombre de clusters voulus.\n",
        "\n",
        "\n",
        "Pour plus d'information, veuillez vous référer à la page Wikipédia correspondante : https://en.wikipedia.org/wiki/Spectral_clustering"
      ]
    },
    {
      "cell_type": "code",
      "execution_count": null,
      "metadata": {
        "id": "LK5DCPzni6-c",
        "outputId": "ea8115b4-305e-4491-91c1-823c5ccbbfe5"
      },
      "outputs": [
        {
          "name": "stdout",
          "output_type": "stream",
          "text": [
            "[0 2 1 0 0 3 0 1 1 2]\n"
          ]
        },
        {
          "name": "stderr",
          "output_type": "stream",
          "text": [
            "C:\\Users\\Florent\\AppData\\Roaming\\Python\\Python36\\site-packages\\sknetwork\\utils\\check.py:314: Warning: The dimension of the embedding cannot exceed 9.Changed accordingly.\n",
            "  \"Changed accordingly.\".format(n_min)))\n"
          ]
        }
      ],
      "source": [
        "# la méthode KMeans correspond bien à du clustering spectral, et non à le méthode des k-means,\n",
        "# qui n'a pas de sens pour un graphe\n",
        "from sknetwork.clustering import KMeans\n",
        "\n",
        "adjacence_spectral = adjacence.copy()\n",
        "\n",
        "kmeans = KMeans(n_clusters=4)\n",
        "\n",
        "# kmeans.fit_transform fit la matrice d'adjacence avec la méthode de clustering spectral\n",
        "# et renvoie les labels de clustering correspondants\n",
        "labels_spectral = kmeans.fit_transform(adjacence_spectral)\n",
        "\n",
        "print(labels_spectral)"
      ]
    },
    {
      "cell_type": "markdown",
      "metadata": {
        "id": "FAh2ye8Ci6-d"
      },
      "source": [
        "Affichage du graphe avec les clusters obtenus par l'algorithme de clustering spectral :"
      ]
    },
    {
      "cell_type": "code",
      "execution_count": null,
      "metadata": {
        "id": "KXNL97IEi6-d",
        "outputId": "6fd06d00-723c-4bfe-d5de-74ef0e481810"
      },
      "outputs": [
        {
          "data": {
            "image/svg+xml": [
              "<svg height=\"340\" width=\"440\" xmlns=\"http://www.w3.org/2000/svg\">\n",
              "<path d=\"M 293 128 293 128\" stroke=\"black\" stroke-width=\"1.0\"/>\n",
              "<path d=\"M 335 110 319 66\" stroke=\"black\" stroke-width=\"1.0\"/>\n",
              "<path d=\"M 420 257 420 257\" stroke=\"black\" stroke-width=\"1.0\"/>\n",
              "<path d=\"M 420 257 382 225\" stroke=\"black\" stroke-width=\"1.0\"/>\n",
              "<path d=\"M 382 225 382 225\" stroke=\"black\" stroke-width=\"1.0\"/>\n",
              "<path d=\"M 253 20 253 20\" stroke=\"black\" stroke-width=\"1.0\"/>\n",
              "<path d=\"M 253 20 276 66\" stroke=\"black\" stroke-width=\"1.0\"/>\n",
              "<path d=\"M 20 320 20 320\" stroke=\"black\" stroke-width=\"1.0\"/>\n",
              "<path d=\"M 335 110 320 156\" stroke=\"black\" stroke-width=\"1.0\"/>\n",
              "<path d=\"M 320 156 320 156\" stroke=\"black\" stroke-width=\"1.0\"/>\n",
              "<path d=\"M 337 182 382 225\" stroke=\"black\" stroke-width=\"1.0\"/>\n",
              "<path d=\"M 337 182 320 156\" stroke=\"black\" stroke-width=\"1.0\"/>\n",
              "<path d=\"M 337 182 337 182\" stroke=\"black\" stroke-width=\"1.0\"/>\n",
              "<path d=\"M 337 182 293 128\" stroke=\"black\" stroke-width=\"1.0\"/>\n",
              "<path d=\"M 319 66 276 66\" stroke=\"black\" stroke-width=\"1.0\"/>\n",
              "<path d=\"M 319 66 319 66\" stroke=\"black\" stroke-width=\"1.0\"/>\n",
              "<path d=\"M 293 128 276 66\" stroke=\"black\" stroke-width=\"1.0\"/>\n",
              "<path d=\"M 276 66 276 66\" stroke=\"black\" stroke-width=\"1.0\"/>\n",
              "<path d=\"M 335 110 335 110\" stroke=\"black\" stroke-width=\"1.0\"/>\n",
              "<circle cx=\"293\" cy=\"128\" r=\"7.0\" style=\"fill:blue;stroke:black;stroke-width:1.0\"/>\n",
              "<circle cx=\"319\" cy=\"66\" r=\"7.0\" style=\"fill:green;stroke:black;stroke-width:1.0\"/>\n",
              "<circle cx=\"337\" cy=\"182\" r=\"7.0\" style=\"fill:red;stroke:black;stroke-width:1.0\"/>\n",
              "<circle cx=\"276\" cy=\"66\" r=\"7.0\" style=\"fill:blue;stroke:black;stroke-width:1.0\"/>\n",
              "<circle cx=\"320\" cy=\"156\" r=\"7.0\" style=\"fill:blue;stroke:black;stroke-width:1.0\"/>\n",
              "<circle cx=\"20\" cy=\"320\" r=\"7.0\" style=\"fill:orange;stroke:black;stroke-width:1.0\"/>\n",
              "<circle cx=\"253\" cy=\"20\" r=\"7.0\" style=\"fill:blue;stroke:black;stroke-width:1.0\"/>\n",
              "<circle cx=\"382\" cy=\"225\" r=\"7.0\" style=\"fill:red;stroke:black;stroke-width:1.0\"/>\n",
              "<circle cx=\"420\" cy=\"257\" r=\"7.0\" style=\"fill:red;stroke:black;stroke-width:1.0\"/>\n",
              "<circle cx=\"335\" cy=\"110\" r=\"7.0\" style=\"fill:green;stroke:black;stroke-width:1.0\"/>\n",
              "</svg>"
            ],
            "text/plain": [
              "<IPython.core.display.SVG object>"
            ]
          },
          "execution_count": 85,
          "metadata": {},
          "output_type": "execute_result"
        }
      ],
      "source": [
        "image_spectral = svg_graph(adjacence_spectral,labels=labels_spectral)\n",
        "SVG(image_spectral)"
      ]
    },
    {
      "cell_type": "markdown",
      "metadata": {
        "id": "_5YZuDrki6-e"
      },
      "source": [
        "3. Clustering par propagation d'étiquette (\"label propagation\")\n",
        "\n",
        "L'algorithme de Clustering par \"label propagation\" est un algorithme itératif de clustering de graphe.\n",
        "\n",
        "Cet algorithme consiste à assigner une \"étiquette\" aux différents noeuds, puis, pour chaque noeud, à changer les différentes \"étiquettes\" en étudiant celles du voisinage de ce noeud.\n",
        "\n",
        "Vous trouverez ci-dessous les étapes de cet algorithme. Par la suite, on notera $ t $ l'itération de l'algorithme et $C_x(t) $ l'étiquette du noeud $ x $ à l'itération $ t $.\n",
        "\n",
        "(1) On initialise tout d'abord les labels de chaque noeuds en leur donnant une valeur différente : $$ \\forall x, C_x(0) = x .$$\n",
        "\n",
        "(2) On fixe $ t = 1$\n",
        "\n",
        "(3) On considère ensuite un ordre aléatoire $ X $ des noeuds du graphe.\n",
        "\n",
        "(4) Pour chaque noeud $ x $ dans l'ordre défini par $ X $, on met à jour le label du noeud $ x $. $ C_x(t) $ correspond alors au label le plus fréquent dans les voisins de $ x $. En cas d'égalité entre plusieurs labels, on en choisit un aléatoirement.\n",
        "\n",
        "(5) Enfin, si chaque noeud possède une étiquette que le nombre maximum de ses voisins possède, alors l'algorithme s'arrête. Sinon, $ t = t+1$ et on retourne en (3).\n",
        "\n",
        "$ \\\\ $\n",
        "\n",
        "Pour plus d'information, veuillez consulter le document suivant : https://arxiv.org/pdf/0709.2938.pdf"
      ]
    },
    {
      "cell_type": "code",
      "execution_count": null,
      "metadata": {
        "id": "bnSGxzVWi6-f",
        "outputId": "e922ca07-d81b-479f-fd01-c10ec40de2bf"
      },
      "outputs": [
        {
          "name": "stdout",
          "output_type": "stream",
          "text": [
            "[0 1 0 2 3 4 2 5 5 1]\n"
          ]
        }
      ],
      "source": [
        "from sknetwork.clustering import PropagationClustering\n",
        "\n",
        "propagation = PropagationClustering(n_iter=-1)\n",
        "\n",
        "adjacence_propagation = adjacence.copy()\n",
        "\n",
        "# propagation.fit_transform fit la matrice d'adjacence avec la méthode de propagation\n",
        "# et renvoie les labels de clustering correspondants\n",
        "labels_propagation = propagation.fit_transform(adjacence_propagation)\n",
        "\n",
        "print(labels_propagation)"
      ]
    },
    {
      "cell_type": "markdown",
      "metadata": {
        "id": "XiPobA0_i6-g"
      },
      "source": [
        "Affichage du graphe avec les clusters obtenus par l'algorithme de propagation :"
      ]
    },
    {
      "cell_type": "code",
      "execution_count": null,
      "metadata": {
        "id": "uRJOAOcai6-g",
        "outputId": "cf2decb5-f274-43fd-b7a7-64167efcc33d"
      },
      "outputs": [
        {
          "data": {
            "image/svg+xml": [
              "<svg height=\"340\" width=\"440\" xmlns=\"http://www.w3.org/2000/svg\">\n",
              "<path d=\"M 298 110 298 110\" stroke=\"black\" stroke-width=\"1.0\"/>\n",
              "<path d=\"M 20 125 133 146\" stroke=\"black\" stroke-width=\"1.0\"/>\n",
              "<path d=\"M 300 20 300 20\" stroke=\"black\" stroke-width=\"1.0\"/>\n",
              "<path d=\"M 300 20 258 46\" stroke=\"black\" stroke-width=\"1.0\"/>\n",
              "<path d=\"M 258 46 258 46\" stroke=\"black\" stroke-width=\"1.0\"/>\n",
              "<path d=\"M 420 163 420 163\" stroke=\"black\" stroke-width=\"1.0\"/>\n",
              "<path d=\"M 420 163 304 142\" stroke=\"black\" stroke-width=\"1.0\"/>\n",
              "<path d=\"M 81 320 81 320\" stroke=\"black\" stroke-width=\"1.0\"/>\n",
              "<path d=\"M 20 125 62 97\" stroke=\"black\" stroke-width=\"1.0\"/>\n",
              "<path d=\"M 62 97 62 97\" stroke=\"black\" stroke-width=\"1.0\"/>\n",
              "<path d=\"M 213 80 258 46\" stroke=\"black\" stroke-width=\"1.0\"/>\n",
              "<path d=\"M 213 80 62 97\" stroke=\"black\" stroke-width=\"1.0\"/>\n",
              "<path d=\"M 213 80 213 80\" stroke=\"black\" stroke-width=\"1.0\"/>\n",
              "<path d=\"M 213 80 298 110\" stroke=\"black\" stroke-width=\"1.0\"/>\n",
              "<path d=\"M 133 146 304 142\" stroke=\"black\" stroke-width=\"1.0\"/>\n",
              "<path d=\"M 133 146 133 146\" stroke=\"black\" stroke-width=\"1.0\"/>\n",
              "<path d=\"M 298 110 304 142\" stroke=\"black\" stroke-width=\"1.0\"/>\n",
              "<path d=\"M 304 142 304 142\" stroke=\"black\" stroke-width=\"1.0\"/>\n",
              "<path d=\"M 20 125 20 125\" stroke=\"black\" stroke-width=\"1.0\"/>\n",
              "<circle cx=\"298\" cy=\"110\" r=\"7.0\" style=\"fill:blue;stroke:black;stroke-width:1.0\"/>\n",
              "<circle cx=\"133\" cy=\"146\" r=\"7.0\" style=\"fill:red;stroke:black;stroke-width:1.0\"/>\n",
              "<circle cx=\"213\" cy=\"80\" r=\"7.0\" style=\"fill:blue;stroke:black;stroke-width:1.0\"/>\n",
              "<circle cx=\"304\" cy=\"142\" r=\"7.0\" style=\"fill:green;stroke:black;stroke-width:1.0\"/>\n",
              "<circle cx=\"62\" cy=\"97\" r=\"7.0\" style=\"fill:orange;stroke:black;stroke-width:1.0\"/>\n",
              "<circle cx=\"81\" cy=\"320\" r=\"7.0\" style=\"fill:purple;stroke:black;stroke-width:1.0\"/>\n",
              "<circle cx=\"420\" cy=\"163\" r=\"7.0\" style=\"fill:green;stroke:black;stroke-width:1.0\"/>\n",
              "<circle cx=\"258\" cy=\"46\" r=\"7.0\" style=\"fill:yellow;stroke:black;stroke-width:1.0\"/>\n",
              "<circle cx=\"300\" cy=\"20\" r=\"7.0\" style=\"fill:yellow;stroke:black;stroke-width:1.0\"/>\n",
              "<circle cx=\"20\" cy=\"125\" r=\"7.0\" style=\"fill:red;stroke:black;stroke-width:1.0\"/>\n",
              "</svg>"
            ],
            "text/plain": [
              "<IPython.core.display.SVG object>"
            ]
          },
          "execution_count": 95,
          "metadata": {},
          "output_type": "execute_result"
        }
      ],
      "source": [
        "image_propagation = svg_graph(adjacence_propagation,labels=labels_propagation)\n",
        "SVG(image_propagation)"
      ]
    }
  ],
  "metadata": {
    "colab": {
      "provenance": []
    },
    "kernelspec": {
      "display_name": "Python 3",
      "language": "python",
      "name": "python3"
    },
    "language_info": {
      "codemirror_mode": {
        "name": "ipython",
        "version": 3
      },
      "file_extension": ".py",
      "mimetype": "text/x-python",
      "name": "python",
      "nbconvert_exporter": "python",
      "pygments_lexer": "ipython3",
      "version": "3.6.2"
    }
  },
  "nbformat": 4,
  "nbformat_minor": 0
}