{
 "cells": [
  {
   "cell_type": "code",
   "execution_count": 1,
   "metadata": {
    "colab": {
     "base_uri": "https://localhost:8080/"
    },
    "id": "Z16kMkpAXCET",
    "outputId": "284d98a2-843a-4da4-861d-138ac09742f5"
   },
   "outputs": [
    {
     "name": "stdout",
     "output_type": "stream",
     "text": [
      "Collecting scikit-network\n",
      "  Downloading scikit_network-0.28.2-cp310-cp310-manylinux_2_17_x86_64.manylinux2014_x86_64.whl (8.6 MB)\n",
      "\u001b[2K     \u001b[90m━━━━━━━━━━━━━━━━━━━━━━━━━━━━━━━━━━━━━━━━\u001b[0m \u001b[32m8.6/8.6 MB\u001b[0m \u001b[31m18.6 MB/s\u001b[0m eta \u001b[36m0:00:00\u001b[0m00:01\u001b[0m00:01\u001b[0m\n",
      "\u001b[?25hRequirement already satisfied: numpy>=1.21.0 in /opt/mamba/lib/python3.10/site-packages (from scikit-network) (1.23.5)\n",
      "Requirement already satisfied: scipy>=1.7.3 in /opt/mamba/lib/python3.10/site-packages (from scikit-network) (1.9.3)\n",
      "Installing collected packages: scikit-network\n",
      "Successfully installed scikit-network-0.28.2\n"
     ]
    }
   ],
   "source": [
    "# module scikit-learn spécialisé dans l'analyse de graphe\n",
    "!pip install scikit-network"
   ]
  },
  {
   "cell_type": "markdown",
   "metadata": {
    "id": "Enz0TShTOokT"
   },
   "source": [
    "### Import des packages nécessaires au clustering :"
   ]
  },
  {
   "cell_type": "code",
   "execution_count": 2,
   "metadata": {
    "id": "78BIYvIUOvva",
    "tags": []
   },
   "outputs": [],
   "source": [
    "# permet de manipuler des matrices creuses, beaucoup plus efficace en complexité\n",
    "from scipy import sparse\n",
    "\n",
    "import numpy as np\n",
    "\n",
    "import random\n",
    "\n",
    "#le package de scikit-network spécialisé dans le clustering de graphes\n",
    "import sknetwork.clustering\n",
    "\n",
    "# méthode permettant de créer un graphe \"visuel\" à partir d'une matrice d'adjacence\n",
    "from sknetwork.visualization import svg_graph\n",
    "\n",
    "# méthode permettant d'afficher les graphes obtenus avec svg_graph\n",
    "from IPython.display import SVG"
   ]
  },
  {
   "cell_type": "markdown",
   "metadata": {
    "id": "uRyDjilwPmH2"
   },
   "source": [
    "### Import du graphe des profils Twitter sous la forme d'une matrice d'adjacence (scipy sparse matrix)"
   ]
  },
  {
   "cell_type": "code",
   "execution_count": 3,
   "metadata": {
    "id": "8oiJMpPdP8Ik",
    "tags": []
   },
   "outputs": [],
   "source": [
    "adjacence = np.eye(11)\n",
    "random.seed = 10\n",
    "for i in range(10) :\n",
    "    adjacence[random.randint(0,9),random.randint(0,9)] = 1\n",
    "adjacence = sparse.csr_matrix(adjacence)"
   ]
  },
  {
   "cell_type": "markdown",
   "metadata": {
    "id": "MaAAWC0Ki6-K"
   },
   "source": [
    "### Visualisation du graphe :"
   ]
  },
  {
   "cell_type": "code",
   "execution_count": 4,
   "metadata": {
    "id": "yZIP6YE0i6-M",
    "outputId": "cb05818a-1d27-4478-b69e-82c329771a3f"
   },
   "outputs": [
    {
     "data": {
      "image/svg+xml": [
       "<svg xmlns=\"http://www.w3.org/2000/svg\" width=\"440\" height=\"340\">\n",
       "<defs><marker id=\"arrow-black\" markerWidth=\"10\" markerHeight=\"10\" refX=\"9\" refY=\"3\" orient=\"auto\">\n",
       "<path d=\"M0,0 L0,6 L9,3 z\" fill=\"black\"/></marker></defs>\n",
       "<path stroke-width=\"1.0\" stroke=\"black\" d=\"M 389 244 358 255\" marker-end=\"url(#arrow-black)\"/>\n",
       "<path stroke-width=\"1.0\" stroke=\"black\" d=\"M 351 219 339 191\" marker-end=\"url(#arrow-black)\"/>\n",
       "<path stroke-width=\"1.0\" stroke=\"black\" d=\"M 347 291 352 263\" marker-end=\"url(#arrow-black)\"/>\n",
       "<path stroke-width=\"1.0\" stroke=\"black\" d=\"M 347 291 349 314\" marker-end=\"url(#arrow-black)\"/>\n",
       "<path stroke-width=\"1.0\" stroke=\"black\" d=\"M 327 276 342 287\" marker-end=\"url(#arrow-black)\"/>\n",
       "<path stroke-width=\"1.0\" stroke=\"black\" d=\"M 327 276 347 261\" marker-end=\"url(#arrow-black)\"/>\n",
       "<path stroke-width=\"1.0\" stroke=\"black\" d=\"M 390 221 389 238\" marker-end=\"url(#arrow-black)\"/>\n",
       "<path stroke-width=\"1.0\" stroke=\"black\" d=\"M 390 221 357 219\" marker-end=\"url(#arrow-black)\"/>\n",
       "<path stroke-width=\"1.0\" stroke=\"black\" d=\"M 337 185 329 164\" marker-end=\"url(#arrow-black)\"/>\n",
       "<path stroke-width=\"1.0\" stroke=\"black\" d=\"M 352 257 351 225\" marker-end=\"url(#arrow-black)\"/>\n",
       "<circle cx=\"349\" cy=\"320\" r=\"7.0\" style=\"fill:gray;stroke:black;stroke-width:1.0\"/>\n",
       "<circle cx=\"352\" cy=\"257\" r=\"7.0\" style=\"fill:gray;stroke:black;stroke-width:1.0\"/>\n",
       "<circle cx=\"337\" cy=\"185\" r=\"7.0\" style=\"fill:gray;stroke:black;stroke-width:1.0\"/>\n",
       "<circle cx=\"390\" cy=\"221\" r=\"7.0\" style=\"fill:gray;stroke:black;stroke-width:1.0\"/>\n",
       "<circle cx=\"327\" cy=\"276\" r=\"7.0\" style=\"fill:gray;stroke:black;stroke-width:1.0\"/>\n",
       "<circle cx=\"347\" cy=\"291\" r=\"7.0\" style=\"fill:gray;stroke:black;stroke-width:1.0\"/>\n",
       "<circle cx=\"327\" cy=\"158\" r=\"7.0\" style=\"fill:gray;stroke:black;stroke-width:1.0\"/>\n",
       "<circle cx=\"20\" cy=\"131\" r=\"7.0\" style=\"fill:gray;stroke:black;stroke-width:1.0\"/>\n",
       "<circle cx=\"351\" cy=\"219\" r=\"7.0\" style=\"fill:gray;stroke:black;stroke-width:1.0\"/>\n",
       "<circle cx=\"389\" cy=\"244\" r=\"7.0\" style=\"fill:gray;stroke:black;stroke-width:1.0\"/>\n",
       "<circle cx=\"420\" cy=\"20\" r=\"7.0\" style=\"fill:gray;stroke:black;stroke-width:1.0\"/>\n",
       "</svg>"
      ],
      "text/plain": [
       "<IPython.core.display.SVG object>"
      ]
     },
     "execution_count": 4,
     "metadata": {},
     "output_type": "execute_result"
    }
   ],
   "source": [
    "# Pour afficher le graphe, la matrice d'adjacence doit nécessairement être une\n",
    "# sparse matrix de scipy\n",
    "image = svg_graph(adjacence)\n",
    "SVG(image)"
   ]
  },
  {
   "cell_type": "markdown",
   "metadata": {
    "id": "AboQAVTwSks1"
   },
   "source": [
    "# 1.   L'algorithme de Louvain\n",
    "\n",
    "L'algorithme de Louvain est un algorithme itératif de clustering de graphe.\n",
    "\n",
    "Le but de l'algorithme est de choisir le partitionnement de graphe qui maximise une certaine fonction de gain Q appelée modularité.\n",
    "\n",
    "Cet algorithme est composé de deux phases.\n",
    "\n",
    "(1) Dans la première phase, on assigne une communauté à chaque noeud du graphe. Puis, on parcourt chaque noeud et on le met dans la communauté qui augmente le plus la fonction de gain Q. La première phase s'arrête lorsqu'aucun mouvement d'un individu ne permet d'augmenter Q.\n",
    "\n",
    "(2) Dans la deuxième phase, on construit un nouveau réseau dans lequel les noeuds correspondent aux communautés construites précédemment.\n",
    "\n",
    "Une fois ceci fait, on réitère ces deux phases sur ce nouveau réseau, puis on arrête l'algorithme lorsqu'on ne peut plus augmenter Q.\n",
    "\n",
    "$ \\\\ $\n",
    "\n",
    "Pour plus d'information, veuillez lire le document suivant : https://arxiv.org/pdf/0803.0476v2.pdf"
   ]
  },
  {
   "cell_type": "code",
   "execution_count": 5,
   "metadata": {
    "colab": {
     "base_uri": "https://localhost:8080/",
     "height": 294
    },
    "id": "h5j-avWXWArb",
    "outputId": "b1f603b2-32a9-40ea-8a14-2d0e4225a4c8"
   },
   "outputs": [
    {
     "name": "stdout",
     "output_type": "stream",
     "text": [
      "[0 3 1 2 0 0 1 4 2 3 5]\n"
     ]
    }
   ],
   "source": [
    "from sknetwork.clustering import Louvain\n",
    "\n",
    "adjacence_louvain = adjacence.copy()\n",
    "\n",
    "louvain = Louvain(random_state=0)\n",
    "\n",
    "# louvain.fit_transform fit la matrice d'adjacence avec la méthode de Louvain et renvoie\n",
    "# les labels de clustering correspondants\n",
    "labels_louvain = louvain.fit_transform(adjacence_louvain)\n",
    "\n",
    "print(labels_louvain)"
   ]
  },
  {
   "cell_type": "markdown",
   "metadata": {
    "id": "jnCc_84Hi6-X"
   },
   "source": [
    "### Affichage du graphe avec les clusters obtenus par l'algorithme de Louvain :"
   ]
  },
  {
   "cell_type": "code",
   "execution_count": 6,
   "metadata": {
    "id": "_9MtrkUMi6-Z",
    "outputId": "2a660fe8-603c-473a-ab98-2490b05e5e54"
   },
   "outputs": [
    {
     "data": {
      "image/svg+xml": [
       "<svg xmlns=\"http://www.w3.org/2000/svg\" width=\"440\" height=\"340\">\n",
       "<defs><marker id=\"arrow-black\" markerWidth=\"10\" markerHeight=\"10\" refX=\"9\" refY=\"3\" orient=\"auto\">\n",
       "<path d=\"M0,0 L0,6 L9,3 z\" fill=\"black\"/></marker></defs>\n",
       "<path stroke-width=\"1.0\" stroke=\"black\" d=\"M 184 88 202 107\" marker-end=\"url(#arrow-black)\"/>\n",
       "<path stroke-width=\"1.0\" stroke=\"black\" d=\"M 224 72 249 48\" marker-end=\"url(#arrow-black)\"/>\n",
       "<path stroke-width=\"1.0\" stroke=\"black\" d=\"M 195 151 205 118\" marker-end=\"url(#arrow-black)\"/>\n",
       "<path stroke-width=\"1.0\" stroke=\"black\" d=\"M 195 151 185 177\" marker-end=\"url(#arrow-black)\"/>\n",
       "<path stroke-width=\"1.0\" stroke=\"black\" d=\"M 215 140 201 148\" marker-end=\"url(#arrow-black)\"/>\n",
       "<path stroke-width=\"1.0\" stroke=\"black\" d=\"M 215 140 208 118\" marker-end=\"url(#arrow-black)\"/>\n",
       "<path stroke-width=\"1.0\" stroke=\"black\" d=\"M 195 63 186 82\" marker-end=\"url(#arrow-black)\"/>\n",
       "<path stroke-width=\"1.0\" stroke=\"black\" d=\"M 195 63 218 70\" marker-end=\"url(#arrow-black)\"/>\n",
       "<path stroke-width=\"1.0\" stroke=\"black\" d=\"M 253 43 271 25\" marker-end=\"url(#arrow-black)\"/>\n",
       "<path stroke-width=\"1.0\" stroke=\"black\" d=\"M 206 112 222 78\" marker-end=\"url(#arrow-black)\"/>\n",
       "<circle cx=\"183\" cy=\"183\" r=\"7.0\" style=\"fill:blue;stroke:black;stroke-width:1.0\"/>\n",
       "<circle cx=\"206\" cy=\"112\" r=\"7.0\" style=\"fill:orange;stroke:black;stroke-width:1.0\"/>\n",
       "<circle cx=\"253\" cy=\"43\" r=\"7.0\" style=\"fill:red;stroke:black;stroke-width:1.0\"/>\n",
       "<circle cx=\"195\" cy=\"63\" r=\"7.0\" style=\"fill:green;stroke:black;stroke-width:1.0\"/>\n",
       "<circle cx=\"215\" cy=\"140\" r=\"7.0\" style=\"fill:blue;stroke:black;stroke-width:1.0\"/>\n",
       "<circle cx=\"195\" cy=\"151\" r=\"7.0\" style=\"fill:blue;stroke:black;stroke-width:1.0\"/>\n",
       "<circle cx=\"275\" cy=\"20\" r=\"7.0\" style=\"fill:red;stroke:black;stroke-width:1.0\"/>\n",
       "<circle cx=\"420\" cy=\"269\" r=\"7.0\" style=\"fill:purple;stroke:black;stroke-width:1.0\"/>\n",
       "<circle cx=\"224\" cy=\"72\" r=\"7.0\" style=\"fill:green;stroke:black;stroke-width:1.0\"/>\n",
       "<circle cx=\"184\" cy=\"88\" r=\"7.0\" style=\"fill:orange;stroke:black;stroke-width:1.0\"/>\n",
       "<circle cx=\"20\" cy=\"320\" r=\"7.0\" style=\"fill:yellow;stroke:black;stroke-width:1.0\"/>\n",
       "</svg>"
      ],
      "text/plain": [
       "<IPython.core.display.SVG object>"
      ]
     },
     "execution_count": 6,
     "metadata": {},
     "output_type": "execute_result"
    }
   ],
   "source": [
    "image_louvain = svg_graph(adjacence_louvain,labels=labels_louvain)\n",
    "SVG(image_louvain)"
   ]
  },
  {
   "cell_type": "markdown",
   "metadata": {
    "id": "vESZHnaji6-a"
   },
   "source": [
    "# 2. Clustering spectral\n",
    "\n",
    "\n",
    "L'algorithme de Clustering spectral est un algorithme de clustering de graphe utilisant la méthode des k-means.\n",
    "\n",
    "Cette méthode des k-means a été vue en cours, mais ne peut pas s'appliquer directement à un graphe, qui, contrairement à un nuage de points par exemple, n'a pas de portée géométrique.\n",
    "\n",
    "(1) Pour appliquer la méthode des k-means, on considère alors la matrice de Laplace. Pour rappel, cette matrice est définie par :\n",
    "$$ L = D-A $$\n",
    "où $A$ est la matrice d'adjacence, et $D$ est une matrice diagonale où chaque élément de la diagonale est la somme des éléments de la ligne de $A$ correspondante\n",
    "\n",
    "(2) Une fois cette matrice calculée, on détermine les vecteurs propres de cette matrice. On sélectionne alors les k vecteurs propres (où k est le nombre de clusters voulus) correspondants aux k premières valeurs propres (rangées dans par ordre croissant).\n",
    "\n",
    "(3) Enfin, il suffit d'appliquer l'algorithme des k-means à ces k vecteurs propres.\n",
    "\n",
    "\n",
    "On remarquera que dans cet algorithme, contrairement aux deux autres algorithmes présentés, on a pas besoin de spécifier le nombre de clusters voulus.\n",
    "\n",
    "\n",
    "$ \\\\ $\n",
    "\n",
    "Pour plus d'information, veuillez vous référer à la page Wikipédia correspondante : https://en.wikipedia.org/wiki/Spectral_clustering"
   ]
  },
  {
   "cell_type": "code",
   "execution_count": 7,
   "metadata": {
    "id": "LK5DCPzni6-c",
    "outputId": "ea8115b4-305e-4491-91c1-823c5ccbbfe5"
   },
   "outputs": [
    {
     "name": "stdout",
     "output_type": "stream",
     "text": [
      "[0 0 1 0 0 3 0 0 2 0 0]\n"
     ]
    }
   ],
   "source": [
    "# la méthode KMeans correspond bien à du clustering spectral, et non à le méthode des k-means,\n",
    "# qui n'a pas de sens pour un graphe\n",
    "from sknetwork.clustering import KMeans\n",
    "\n",
    "adjacence_spectral = adjacence.copy()\n",
    "\n",
    "kmeans = KMeans(n_clusters=4)\n",
    "\n",
    "# kmeans.fit_transform fit la matrice d'adjacence avec la méthode de clustering spectral\n",
    "# et renvoie les labels de clustering correspondants\n",
    "labels_spectral = kmeans.fit_transform(adjacence_spectral)\n",
    "\n",
    "print(labels_spectral)"
   ]
  },
  {
   "cell_type": "markdown",
   "metadata": {
    "id": "FAh2ye8Ci6-d"
   },
   "source": [
    "### Affichage du graphe avec les clusters obtenus par l'algorithme de clustering spectral :"
   ]
  },
  {
   "cell_type": "code",
   "execution_count": 8,
   "metadata": {
    "id": "KXNL97IEi6-d",
    "outputId": "6fd06d00-723c-4bfe-d5de-74ef0e481810"
   },
   "outputs": [
    {
     "data": {
      "image/svg+xml": [
       "<svg xmlns=\"http://www.w3.org/2000/svg\" width=\"440\" height=\"340\">\n",
       "<defs><marker id=\"arrow-black\" markerWidth=\"10\" markerHeight=\"10\" refX=\"9\" refY=\"3\" orient=\"auto\">\n",
       "<path d=\"M0,0 L0,6 L9,3 z\" fill=\"black\"/></marker></defs>\n",
       "<path stroke-width=\"1.0\" stroke=\"black\" d=\"M 267 320 303 304\" marker-end=\"url(#arrow-black)\"/>\n",
       "<path stroke-width=\"1.0\" stroke=\"black\" d=\"M 251 282 221 257\" marker-end=\"url(#arrow-black)\"/>\n",
       "<path stroke-width=\"1.0\" stroke=\"black\" d=\"M 369 298 315 302\" marker-end=\"url(#arrow-black)\"/>\n",
       "<path stroke-width=\"1.0\" stroke=\"black\" d=\"M 369 298 414 292\" marker-end=\"url(#arrow-black)\"/>\n",
       "<path stroke-width=\"1.0\" stroke=\"black\" d=\"M 349 315 364 302\" marker-end=\"url(#arrow-black)\"/>\n",
       "<path stroke-width=\"1.0\" stroke=\"black\" d=\"M 349 315 315 304\" marker-end=\"url(#arrow-black)\"/>\n",
       "<path stroke-width=\"1.0\" stroke=\"black\" d=\"M 230 308 261 318\" marker-end=\"url(#arrow-black)\"/>\n",
       "<path stroke-width=\"1.0\" stroke=\"black\" d=\"M 230 308 247 287\" marker-end=\"url(#arrow-black)\"/>\n",
       "<path stroke-width=\"1.0\" stroke=\"black\" d=\"M 216 253 194 232\" marker-end=\"url(#arrow-black)\"/>\n",
       "<path stroke-width=\"1.0\" stroke=\"black\" d=\"M 309 302 257 284\" marker-end=\"url(#arrow-black)\"/>\n",
       "<circle cx=\"420\" cy=\"291\" r=\"7.0\" style=\"fill:blue;stroke:black;stroke-width:1.0\"/>\n",
       "<circle cx=\"309\" cy=\"302\" r=\"7.0\" style=\"fill:blue;stroke:black;stroke-width:1.0\"/>\n",
       "<circle cx=\"216\" cy=\"253\" r=\"7.0\" style=\"fill:red;stroke:black;stroke-width:1.0\"/>\n",
       "<circle cx=\"230\" cy=\"308\" r=\"7.0\" style=\"fill:blue;stroke:black;stroke-width:1.0\"/>\n",
       "<circle cx=\"349\" cy=\"315\" r=\"7.0\" style=\"fill:blue;stroke:black;stroke-width:1.0\"/>\n",
       "<circle cx=\"369\" cy=\"298\" r=\"7.0\" style=\"fill:orange;stroke:black;stroke-width:1.0\"/>\n",
       "<circle cx=\"189\" cy=\"228\" r=\"7.0\" style=\"fill:blue;stroke:black;stroke-width:1.0\"/>\n",
       "<circle cx=\"228\" cy=\"20\" r=\"7.0\" style=\"fill:blue;stroke:black;stroke-width:1.0\"/>\n",
       "<circle cx=\"251\" cy=\"282\" r=\"7.0\" style=\"fill:green;stroke:black;stroke-width:1.0\"/>\n",
       "<circle cx=\"267\" cy=\"320\" r=\"7.0\" style=\"fill:blue;stroke:black;stroke-width:1.0\"/>\n",
       "<circle cx=\"20\" cy=\"74\" r=\"7.0\" style=\"fill:blue;stroke:black;stroke-width:1.0\"/>\n",
       "</svg>"
      ],
      "text/plain": [
       "<IPython.core.display.SVG object>"
      ]
     },
     "execution_count": 8,
     "metadata": {},
     "output_type": "execute_result"
    }
   ],
   "source": [
    "image_spectral = svg_graph(adjacence_spectral,labels=labels_spectral)\n",
    "SVG(image_spectral)"
   ]
  },
  {
   "cell_type": "markdown",
   "metadata": {
    "id": "_5YZuDrki6-e"
   },
   "source": [
    "# 3. Clustering par propagation d'étiquette (\"label propagation\")\n",
    "\n",
    "L'algorithme de Clustering par \"label propagation\" est un algorithme itératif de clustering de graphe.\n",
    "\n",
    "Cet algorithme consiste à assigner une \"étiquette\" aux différents noeuds, puis, pour chaque noeud, à changer les différentes \"étiquettes\" en étudiant celles du voisinage de ce noeud.\n",
    "\n",
    "Vous trouverez ci-dessous les étapes de cet algorithme. Par la suite, on notera $ t $ l'itération de l'algorithme et $C_x(t) $ l'étiquette du noeud $ x $ à l'itération $ t $.\n",
    "\n",
    "(1) On initialise tout d'abord les labels de chaque noeuds en leur donnant une valeur différente : $$ \\forall x, C_x(0) = x .$$\n",
    "\n",
    "(2) On fixe $ t = 1$\n",
    "\n",
    "(3) On considère ensuite un ordre aléatoire $ X $ des noeuds du graphe.\n",
    "\n",
    "(4) Pour chaque noeud $ x $ dans l'ordre défini par $ X $, on met à jour le label du noeud $ x $. $ C_x(t) $ correspond alors au label le plus fréquent dans les voisins de $ x $. En cas d'égalité entre plusieurs labels, on en choisit un aléatoirement.\n",
    "\n",
    "(5) Enfin, si chaque noeud possède une étiquette que le nombre maximum de ses voisins possède, alors l'algorithme s'arrête. Sinon, $ t = t+1$ et on retourne en (3).\n",
    "\n",
    "$ \\\\ $\n",
    "\n",
    "Pour plus d'information, veuillez consulter le document suivant : https://arxiv.org/pdf/0709.2938.pdf"
   ]
  },
  {
   "cell_type": "code",
   "execution_count": 9,
   "metadata": {
    "id": "bnSGxzVWi6-f",
    "outputId": "e922ca07-d81b-479f-fd01-c10ec40de2bf"
   },
   "outputs": [
    {
     "name": "stdout",
     "output_type": "stream",
     "text": [
      "[0 1 2 1 0 0 3 4 2 1 5]\n"
     ]
    }
   ],
   "source": [
    "from sknetwork.clustering import PropagationClustering\n",
    "\n",
    "propagation = PropagationClustering(n_iter=-1)\n",
    "\n",
    "adjacence_propagation = adjacence.copy()\n",
    "\n",
    "# propagation.fit_transform fit la matrice d'adjacence avec la méthode de propagation\n",
    "# et renvoie les labels de clustering correspondants\n",
    "labels_propagation = propagation.fit_transform(adjacence_propagation)\n",
    "\n",
    "print(labels_propagation)"
   ]
  },
  {
   "cell_type": "markdown",
   "metadata": {
    "id": "XiPobA0_i6-g"
   },
   "source": [
    "### Affichage du graphe avec les clusters obtenus par l'algorithme de propagation :"
   ]
  },
  {
   "cell_type": "code",
   "execution_count": 10,
   "metadata": {
    "id": "uRJOAOcai6-g",
    "outputId": "cf2decb5-f274-43fd-b7a7-64167efcc33d"
   },
   "outputs": [
    {
     "data": {
      "image/svg+xml": [
       "<svg xmlns=\"http://www.w3.org/2000/svg\" width=\"440\" height=\"340\">\n",
       "<defs><marker id=\"arrow-black\" markerWidth=\"10\" markerHeight=\"10\" refX=\"9\" refY=\"3\" orient=\"auto\">\n",
       "<path d=\"M0,0 L0,6 L9,3 z\" fill=\"black\"/></marker></defs>\n",
       "<path stroke-width=\"1.0\" stroke=\"black\" d=\"M 91 181 67 197\" marker-end=\"url(#arrow-black)\"/>\n",
       "<path stroke-width=\"1.0\" stroke=\"black\" d=\"M 73 243 48 285\" marker-end=\"url(#arrow-black)\"/>\n",
       "<path stroke-width=\"1.0\" stroke=\"black\" d=\"M 39 218 57 204\" marker-end=\"url(#arrow-black)\"/>\n",
       "<path stroke-width=\"1.0\" stroke=\"black\" d=\"M 39 218 46 249\" marker-end=\"url(#arrow-black)\"/>\n",
       "<path stroke-width=\"1.0\" stroke=\"black\" d=\"M 33 186 38 212\" marker-end=\"url(#arrow-black)\"/>\n",
       "<path stroke-width=\"1.0\" stroke=\"black\" d=\"M 33 186 56 198\" marker-end=\"url(#arrow-black)\"/>\n",
       "<path stroke-width=\"1.0\" stroke=\"black\" d=\"M 100 214 92 187\" marker-end=\"url(#arrow-black)\"/>\n",
       "<path stroke-width=\"1.0\" stroke=\"black\" d=\"M 100 214 77 238\" marker-end=\"url(#arrow-black)\"/>\n",
       "<path stroke-width=\"1.0\" stroke=\"black\" d=\"M 45 290 24 315\" marker-end=\"url(#arrow-black)\"/>\n",
       "<path stroke-width=\"1.0\" stroke=\"black\" d=\"M 62 200 72 237\" marker-end=\"url(#arrow-black)\"/>\n",
       "<circle cx=\"47\" cy=\"255\" r=\"7.0\" style=\"fill:blue;stroke:black;stroke-width:1.0\"/>\n",
       "<circle cx=\"62\" cy=\"200\" r=\"7.0\" style=\"fill:red;stroke:black;stroke-width:1.0\"/>\n",
       "<circle cx=\"45\" cy=\"290\" r=\"7.0\" style=\"fill:green;stroke:black;stroke-width:1.0\"/>\n",
       "<circle cx=\"100\" cy=\"214\" r=\"7.0\" style=\"fill:red;stroke:black;stroke-width:1.0\"/>\n",
       "<circle cx=\"33\" cy=\"186\" r=\"7.0\" style=\"fill:blue;stroke:black;stroke-width:1.0\"/>\n",
       "<circle cx=\"39\" cy=\"218\" r=\"7.0\" style=\"fill:blue;stroke:black;stroke-width:1.0\"/>\n",
       "<circle cx=\"20\" cy=\"320\" r=\"7.0\" style=\"fill:orange;stroke:black;stroke-width:1.0\"/>\n",
       "<circle cx=\"265\" cy=\"20\" r=\"7.0\" style=\"fill:purple;stroke:black;stroke-width:1.0\"/>\n",
       "<circle cx=\"73\" cy=\"243\" r=\"7.0\" style=\"fill:green;stroke:black;stroke-width:1.0\"/>\n",
       "<circle cx=\"91\" cy=\"181\" r=\"7.0\" style=\"fill:red;stroke:black;stroke-width:1.0\"/>\n",
       "<circle cx=\"420\" cy=\"169\" r=\"7.0\" style=\"fill:yellow;stroke:black;stroke-width:1.0\"/>\n",
       "</svg>"
      ],
      "text/plain": [
       "<IPython.core.display.SVG object>"
      ]
     },
     "execution_count": 10,
     "metadata": {},
     "output_type": "execute_result"
    }
   ],
   "source": [
    "image_propagation = svg_graph(adjacence_propagation,labels=labels_propagation)\n",
    "SVG(image_propagation)"
   ]
  },
  {
   "cell_type": "markdown",
   "metadata": {},
   "source": [
    "# 4. Analyse des clusters\n",
    "Après avoir sélectionné la méthode de clustering la plus efficace, nous allons analyser le vocabulaire utilisé dans les tweets de chaque cluster.\n",
    "Avant toute chose, il est nécessaire de nettoyer les tweets, c'est-à-dire de supprimer la ponctuation, les majuscules, les caractères spéciaux, les emojis, etc.\n",
    "On va également créer une liste de stopwords à supprimer.\n",
    "La fonction suivante prend en argument un texte et renvoie le texte nettoyé."
   ]
  },
  {
   "cell_type": "code",
   "execution_count": 12,
   "metadata": {},
   "outputs": [
    {
     "name": "stdout",
     "output_type": "stream",
     "text": [
      "Collecting demoji\n",
      "  Downloading demoji-1.1.0-py3-none-any.whl (42 kB)\n",
      "\u001b[2K     \u001b[90m━━━━━━━━━━━━━━━━━━━━━━━━━━━━━━━━━━━━━━━━\u001b[0m \u001b[32m42.9/42.9 kB\u001b[0m \u001b[31m7.6 MB/s\u001b[0m eta \u001b[36m0:00:00\u001b[0m\n",
      "\u001b[?25hInstalling collected packages: demoji\n",
      "Successfully installed demoji-1.1.0\n"
     ]
    }
   ],
   "source": [
    "!pip install demoji"
   ]
  },
  {
   "cell_type": "code",
   "execution_count": 19,
   "metadata": {},
   "outputs": [
    {
     "name": "stderr",
     "output_type": "stream",
     "text": [
      "[nltk_data] Downloading package stopwords to /home/onyxia/nltk_data...\n",
      "[nltk_data]   Package stopwords is already up-to-date!\n"
     ]
    }
   ],
   "source": [
    "import string\n",
    "import demoji\n",
    "import re\n",
    "import nltk\n",
    "from nltk.corpus import stopwords\n",
    "nltk.download('stopwords')\n",
    "from nltk.tokenize import word_tokenize"
   ]
  },
  {
   "cell_type": "code",
   "execution_count": 25,
   "metadata": {},
   "outputs": [],
   "source": [
    "#rajouter les mots qui apparaissent très souvent et qui ne sont pas utiles pour l'analyse\n",
    "stop_words_context = [\"france\", \"pologne\", \"but\"]\n",
    "stop_words = set(stopwords.words('french'))\n",
    "stop_words = list(stop_words) + stop_words_context\n",
    "\n",
    "def rm_stopwords(text):\n",
    "    return [w for w in text.split() if w not in stop_words]"
   ]
  },
  {
   "cell_type": "code",
   "execution_count": 26,
   "metadata": {},
   "outputs": [],
   "source": [
    "def clean(text):\n",
    "    #tout mettre en minuscules\n",
    "    text = text.lower()\n",
    "    #suppression de la ponctuation\n",
    "    punct = string.punctuation\n",
    "    text = text.translate(str.maketrans(\", \", punct))\n",
    "    #suppression des chiffres (pour une analyse de vocabulaire, ils ne sont pas nécessaires)\n",
    "    text = ''.join([i for i in text if not i.isdigit()])\n",
    "    #suppression des emojis\n",
    "    for item in demoji.findall(text):\n",
    "        text =text.replace(item,\"\")\n",
    "    #suppression des mentions\n",
    "    text = re.sub(\"@[A-Za-z0-9_]+\",\"\", text)\n",
    "    #suppression des hashtags\n",
    "    text = re.sub(\"#[A-Za-z0-9_]+\",\"\", text)\n",
    "    #suppression des stopwords\n",
    "    text = rm_stopwords(text)\n",
    "    return text"
   ]
  },
  {
   "cell_type": "code",
   "execution_count": null,
   "metadata": {},
   "outputs": [],
   "source": []
  }
 ],
 "metadata": {
  "colab": {
   "provenance": []
  },
  "kernelspec": {
   "display_name": "Python 3 (ipykernel)",
   "language": "python",
   "name": "python3"
  },
  "language_info": {
   "codemirror_mode": {
    "name": "ipython",
    "version": 3
   },
   "file_extension": ".py",
   "mimetype": "text/x-python",
   "name": "python",
   "nbconvert_exporter": "python",
   "pygments_lexer": "ipython3",
   "version": "3.10.4"
  }
 },
 "nbformat": 4,
 "nbformat_minor": 4
}
