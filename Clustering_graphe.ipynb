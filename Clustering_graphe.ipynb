{
 "cells": [
  {
   "cell_type": "markdown",
   "metadata": {},
   "source": [
    "# Création des graphes, mise en place des algorithmes de clustering et visualisation des résultats obtenus\n",
    "\n",
    "Pour mettre en place les algorithmes de clustering, veuillez utiliser la grande base de données, à savoir dictionnaire_following-v2.json\n",
    "\n",
    "Pour visualiser les résultats de clustering, veuillez utiliser la petite base de données, à savoir dictionnaire_following-petit.json"
   ]
  },
  {
   "cell_type": "code",
   "execution_count": null,
   "metadata": {
    "colab": {
     "base_uri": "https://localhost:8080/"
    },
    "collapsed": true,
    "id": "Z16kMkpAXCET",
    "outputId": "284d98a2-843a-4da4-861d-138ac09742f5"
   },
   "outputs": [],
   "source": [
    "# module scikit-learn spécialisé dans l'analyse de graphe\n",
    "!pip install scikit-network\n",
    "!pip install pyvis"
   ]
  },
  {
   "cell_type": "markdown",
   "metadata": {
    "id": "Enz0TShTOokT"
   },
   "source": [
    "### Import des packages nécessaires au clustering :"
   ]
  },
  {
   "cell_type": "code",
   "execution_count": 1,
   "metadata": {
    "collapsed": true,
    "id": "78BIYvIUOvva"
   },
   "outputs": [],
   "source": [
    "# permet de manipuler des matrices creuses, beaucoup plus efficace en complexité\n",
    "from scipy import sparse\n",
    "\n",
    "import numpy as np\n",
    "\n",
    "import random\n",
    "\n",
    "#le package de scikit-network spécialisé dans le clustering de graphes\n",
    "import sknetwork.clustering\n",
    "\n",
    "# méthode permettant de créer un graphe \"visuel\" à partir d'une matrice d'adjacence\n",
    "from sknetwork.visualization import svg_graph\n",
    "\n",
    "# méthode permettant d'afficher les graphes obtenus avec svg_graph\n",
    "from IPython.display import SVG\n",
    "\n",
    "# module permettant d'afficher des graphes interactifs\n",
    "from pyvis.network import Network\n",
    "\n",
    "# package nécessaire à l'ouverture des connections déterminées auparavant\n",
    "import json"
   ]
  },
  {
   "cell_type": "markdown",
   "metadata": {},
   "source": [
    "### Import des followings d'utilisateurs de Twitter sous la forme d'un dictionnaire"
   ]
  },
  {
   "cell_type": "code",
   "execution_count": 2,
   "metadata": {
    "collapsed": true
   },
   "outputs": [],
   "source": [
    "# cf commentaire en haut du notebook\n",
    "with open('dictionnaire_following-v2.json', 'r') as fp:\n",
    "    dictionnaire = json.load(fp)"
   ]
  },
  {
   "cell_type": "markdown",
   "metadata": {},
   "source": [
    "### Toutes les fonctions permettant de créer le graphe (liste d'adjacence et matrice d'adjacence) à partir de la requête obtenue"
   ]
  },
  {
   "cell_type": "code",
   "execution_count": 3,
   "metadata": {
    "collapsed": true
   },
   "outputs": [],
   "source": [
    "def get_liste_voisins(dictionnaire) :\n",
    "    '''\n",
    "    Renvoie la liste des voisins de chaque noeud\n",
    "    -------------\n",
    "    Entrée : dictionnaire : dict : le dictionnaire issu de la requête\n",
    "    -------------\n",
    "    Sortie : int list list : pour chaque id (première dimension) la liste des ids de tous ses voisins\n",
    "    \n",
    "    '''\n",
    "    res = []\n",
    "    keys = dictionnaire.keys()\n",
    "    \n",
    "    # on parcourt les utilisateurs considérés\n",
    "    for key in keys :\n",
    "        \n",
    "        # on va append res_key à res\n",
    "        # res_key : la liste des following de l'utilisateur\n",
    "        res_key = []\n",
    "        \n",
    "        # la liste de tous les following de l'utilisateur\n",
    "        following = dictionnaire[key]\n",
    "        \n",
    "        # on parcourt les following de l'utilisateur\n",
    "        for id_following in following :\n",
    "            \n",
    "            # parmi tous les following de l'utilisateur, il y en a beaucoup qui ne vont\n",
    "            # pas apparaître dans le dictionnaire, mais seul ceux-ci nous intéressent\n",
    "            if id_following in keys :\n",
    "                res_key.append(int(id_following))\n",
    "                \n",
    "        res.append(res_key)\n",
    "        \n",
    "    return res\n",
    "\n",
    "\n",
    "def get_liste_adjacence(dictionnaire) :\n",
    "    '''\n",
    "    Renvoie la liste d'adjacence du graphe obtenu à partir de la requête\n",
    "    -------------\n",
    "    Entrée : dictionnaire : dict : le dictionnaire issu de la requête\n",
    "    -------------\n",
    "    Sortie : int*int list : la liste d'adjacence avec les ids (int) des utilisateurs\n",
    "    '''\n",
    "    liste_voisins = get_liste_voisins(dictionnaire)\n",
    "    \n",
    "    keys = list(dictionnaire.keys())\n",
    "    \n",
    "    res = []\n",
    "    for i,voisins in enumerate(liste_voisins) :\n",
    "        for voisin in voisins :\n",
    "            res.append((int(keys[i]),voisin))\n",
    "    \n",
    "    return res\n",
    "\n",
    "\n",
    "def get_numero (dictionnaire) :\n",
    "    '''\n",
    "    Cette fonction va permettre d'assigner à chaque id un indice utilisable\n",
    "    comme indexation pour un tableau numpy\n",
    "    -------------\n",
    "    Entrée : dictionnaire : dict : le dictionnaire issu de la requête\n",
    "    -------------\n",
    "    Sortie : dict : dictionnaire où les clés sont les ids et renvoie à un entier\n",
    "    '''\n",
    "    keys = list(dictionnaire.keys())\n",
    "    res = {}\n",
    "    for i,key in enumerate(keys) : \n",
    "        res[key] = i\n",
    "    return res\n",
    "\n",
    "\n",
    "def liste_adjacence2matrice_adjacence(dictionnaire,liste_adjacence) :\n",
    "    '''\n",
    "    Renvoie la matrice d'adjacence du graphe\n",
    "    -------------\n",
    "    Entrée : \n",
    "        dictionnaire : dict : le dictionnaire issu de la requête\n",
    "        liste_adjacence : int*int list : la liste d'adjacence avec les ids (int) des utilisateurs\n",
    "    -------------\n",
    "    Sortie : scipy sparse matrix (2) : matrice d'adjacence (creuse)\n",
    "    '''\n",
    "    numero = get_numero(dictionnaire)\n",
    "    \n",
    "    n = len(dictionnaire)\n",
    "    res = np.zeros((n,n))\n",
    "    \n",
    "    for (i,j) in liste_adjacence :\n",
    "        res[numero[str(i)],numero[str(j)]] = 1\n",
    "    \n",
    "    return sparse.csr_matrix(res)"
   ]
  },
  {
   "cell_type": "code",
   "execution_count": 4,
   "metadata": {
    "collapsed": true
   },
   "outputs": [],
   "source": [
    "liste_adjacence = get_liste_adjacence(dictionnaire)\n",
    "adjacence = liste_adjacence2matrice_adjacence(dictionnaire,liste_adjacence)\n",
    "noeuds = [int(key) for key in dictionnaire.keys()]"
   ]
  },
  {
   "cell_type": "markdown",
   "metadata": {},
   "source": [
    "### On crée deux fonctions permettant d'affecter des couleurs aléatoirement suivant les labels\n",
    "scikit-network permet de faire cela, mais pas pyvis"
   ]
  },
  {
   "cell_type": "code",
   "execution_count": 5,
   "metadata": {
    "collapsed": true
   },
   "outputs": [],
   "source": [
    "def random_color () :\n",
    "    '''\n",
    "    Entrée : None\n",
    "    ----------------------\n",
    "    \n",
    "    Sortie : str : code HEX d'une couleur choisie aléatoirement\n",
    "    \n",
    "    '''\n",
    "    return (\"#%06x\" % random.randint(0, 0xFFFFFF))"
   ]
  },
  {
   "cell_type": "code",
   "execution_count": 6,
   "metadata": {
    "collapsed": true
   },
   "outputs": [],
   "source": [
    "def random_color_label(labels) :\n",
    "    '''\n",
    "    Entrée : labels : int list : la liste des labels des noeuds (des entiers)\n",
    "    ----------------------------\n",
    "    \n",
    "    Sortie : str list : couleur aléatoire pour chaque label\n",
    "    '''\n",
    "    \n",
    "    # label est une liste d'entier naturel\n",
    "    nombre_label = max(labels)+1\n",
    "    \n",
    "    colors = [random_color() for i in range(nombre_label)]\n",
    "    \n",
    "    return [colors[label] for label in labels]"
   ]
  },
  {
   "cell_type": "markdown",
   "metadata": {
    "id": "MaAAWC0Ki6-K"
   },
   "source": [
    "### Visualisation du graphe avec scikit-network :"
   ]
  },
  {
   "cell_type": "code",
   "execution_count": null,
   "metadata": {
    "collapsed": true,
    "id": "yZIP6YE0i6-M",
    "outputId": "cb05818a-1d27-4478-b69e-82c329771a3f"
   },
   "outputs": [],
   "source": [
    "# Pour afficher le graphe avec scikit-network, la matrice d'adjacence doit nécessairement être une\n",
    "# sparse matrix de scipy\n",
    "image = svg_graph(adjacence,node_size=9.,display_node_weight=True)\n",
    "SVG(image)"
   ]
  },
  {
   "cell_type": "markdown",
   "metadata": {},
   "source": [
    "### Visualisation du graphe avec pyvis"
   ]
  },
  {
   "cell_type": "code",
   "execution_count": null,
   "metadata": {
    "collapsed": true
   },
   "outputs": [],
   "source": [
    "graphe = Network(notebook=True)\n",
    "graphe.add_nodes(noeuds)\n",
    "graphe.add_edges(liste_adjacence)\n",
    "graphe.show('exemple-pyvis.html')"
   ]
  },
  {
   "cell_type": "markdown",
   "metadata": {
    "id": "AboQAVTwSks1"
   },
   "source": [
    "# 1.   L'algorithme de Louvain\n",
    "\n",
    "## 1.1 Présentation\n",
    "\n",
    "L'algorithme de Louvain est un algorithme itératif de clustering de graphe.\n",
    "\n",
    "Le but de l'algorithme est de choisir le partitionnement de graphe qui maximise une certaine fonction de gain Q appelée modularité.\n",
    "\n",
    "Cet algorithme est composé de deux phases.\n",
    "\n",
    "(1) Dans la première phase, on assigne une communauté à chaque noeud du graphe. Puis, on parcourt chaque noeud et on le met dans la communauté qui augmente le plus la fonction de gain Q. La première phase s'arrête lorsqu'aucun mouvement d'un individu ne permet d'augmenter Q.\n",
    "\n",
    "(2) Dans la deuxième phase, on construit un nouveau réseau dans lequel les noeuds correspondent aux communautés construites précédemment.\n",
    "\n",
    "Une fois ceci fait, on réitère ces deux phases sur ce nouveau réseau, puis on arrête l'algorithme lorsqu'on ne peut plus augmenter Q.\n",
    "\n",
    "$ \\\\ $\n",
    "\n",
    "Pour plus d'information, veuillez lire le document suivant : https://arxiv.org/pdf/0803.0476v2.pdf\n",
    "\n",
    "## 1.2 Création du clustering"
   ]
  },
  {
   "cell_type": "code",
   "execution_count": 7,
   "metadata": {
    "colab": {
     "base_uri": "https://localhost:8080/",
     "height": 294
    },
    "collapsed": true,
    "id": "h5j-avWXWArb",
    "outputId": "b1f603b2-32a9-40ea-8a14-2d0e4225a4c8"
   },
   "outputs": [],
   "source": [
    "from sknetwork.clustering import Louvain\n",
    "\n",
    "adjacence_louvain = adjacence.copy()\n",
    "\n",
    "louvain = Louvain(random_state=0)\n",
    "\n",
    "# louvain.fit_transform fit la matrice d'adjacence avec la méthode de Louvain et renvoie\n",
    "# les labels de clustering correspondants\n",
    "labels_louvain = louvain.fit_transform(adjacence_louvain)\n",
    "\n",
    "np.savetxt('labels_louvain.txt',labels_louvain)"
   ]
  },
  {
   "cell_type": "markdown",
   "metadata": {},
   "source": [
    "## 1.3 Affichage des clusters obtenus\n",
    "\n",
    "### 1.3.1 Affichage avec scikit-network"
   ]
  },
  {
   "cell_type": "code",
   "execution_count": null,
   "metadata": {
    "collapsed": true,
    "id": "_9MtrkUMi6-Z",
    "outputId": "2a660fe8-603c-473a-ab98-2490b05e5e54"
   },
   "outputs": [],
   "source": [
    "image_louvain = svg_graph(adjacence_louvain,labels=labels_louvain,node_size=9.,display_node_weight=False)\n",
    "SVG(image_louvain)"
   ]
  },
  {
   "cell_type": "markdown",
   "metadata": {},
   "source": [
    "### 1.3.2 Affichage avec pyvis"
   ]
  },
  {
   "cell_type": "code",
   "execution_count": null,
   "metadata": {
    "collapsed": true,
    "scrolled": false
   },
   "outputs": [],
   "source": [
    "couleurs_louvain = random_color_label(labels_louvain)\n",
    "\n",
    "# les labels utilisé avec pyvis sont des chaînes de caractères\n",
    "labels_louvain_str = [str(label) for label in labels_louvain]\n",
    "\n",
    "net = Network(notebook=True)\n",
    "\n",
    "net.add_nodes(noeuds, \n",
    "              label=labels_louvain_str,\n",
    "              color=couleurs_louvain)\n",
    "\n",
    "net.add_edges(liste_adjacence)\n",
    "\n",
    "net.show('louvain.html')"
   ]
  },
  {
   "cell_type": "markdown",
   "metadata": {
    "id": "vESZHnaji6-a"
   },
   "source": [
    "# 2. Clustering spectral\n",
    "\n",
    "## 2.1 Présentation\n",
    "\n",
    "L'algorithme de Clustering spectral est un algorithme de clustering de graphe utilisant la méthode des k-means.\n",
    "\n",
    "Cette méthode des k-means a été vue en cours, mais ne peut pas s'appliquer directement à un graphe, qui, contrairement à un nuage de points par exemple, n'a pas de portée géométrique.\n",
    "\n",
    "(1) Pour appliquer la méthode des k-means, on considère alors la matrice de Laplace. Pour rappel, cette matrice est définie par :\n",
    "$$ L = D-A $$\n",
    "où $A$ est la matrice d'adjacence, et $D$ est une matrice diagonale où chaque élément de la diagonale est la somme des éléments de la ligne de $A$ correspondante\n",
    "\n",
    "(2) Une fois cette matrice calculée, on détermine les vecteurs propres de cette matrice. On sélectionne alors les k vecteurs propres (où k est le nombre de clusters voulus) correspondants aux k premières valeurs propres (rangées dans par ordre croissant).\n",
    "\n",
    "(3) Enfin, il suffit d'appliquer l'algorithme des k-means à ces k vecteurs propres.\n",
    "\n",
    "\n",
    "On remarquera que dans cet algorithme, contrairement aux deux autres algorithmes présentés, on a pas besoin de spécifier le nombre de clusters voulus.\n",
    "\n",
    "\n",
    "$ \\\\ $\n",
    "\n",
    "Pour plus d'information, veuillez vous référer à la page Wikipédia correspondante : https://en.wikipedia.org/wiki/Spectral_clustering\n",
    "\n",
    "## 2.2 Création du clustering"
   ]
  },
  {
   "cell_type": "code",
   "execution_count": 8,
   "metadata": {
    "collapsed": true,
    "id": "LK5DCPzni6-c",
    "outputId": "ea8115b4-305e-4491-91c1-823c5ccbbfe5"
   },
   "outputs": [],
   "source": [
    "# la méthode KMeans correspond bien à du clustering spectral, et non à le méthode des k-means,\n",
    "# qui n'a pas de sens pour un graphe\n",
    "from sknetwork.clustering import KMeans\n",
    "\n",
    "adjacence_spectral = adjacence.copy()\n",
    "\n",
    "kmeans = KMeans(n_clusters=4)\n",
    "\n",
    "# kmeans.fit_transform fit la matrice d'adjacence avec la méthode de clustering spectral\n",
    "# et renvoie les labels de clustering correspondants\n",
    "labels_spectral = kmeans.fit_transform(adjacence_spectral)\n",
    "\n",
    "np.savetxt('labels_spectral.txt',labels_spectral)"
   ]
  },
  {
   "cell_type": "markdown",
   "metadata": {
    "id": "FAh2ye8Ci6-d"
   },
   "source": [
    "## 2.3 Affichage des clusters obtenus\n",
    "\n",
    "### 2.3.1 Affichage avec scikit-network"
   ]
  },
  {
   "cell_type": "code",
   "execution_count": null,
   "metadata": {
    "collapsed": true,
    "id": "KXNL97IEi6-d",
    "outputId": "6fd06d00-723c-4bfe-d5de-74ef0e481810"
   },
   "outputs": [],
   "source": [
    "image_spectral = svg_graph(adjacence_spectral,labels=labels_spectral,node_size=9.,display_node_weight=False)\n",
    "SVG(image_spectral)"
   ]
  },
  {
   "cell_type": "markdown",
   "metadata": {},
   "source": [
    "### 1.3.2 Affichage avec pyvis"
   ]
  },
  {
   "cell_type": "code",
   "execution_count": null,
   "metadata": {
    "collapsed": true
   },
   "outputs": [],
   "source": [
    "couleurs_spectral = random_color_label(labels_spectral)\n",
    "\n",
    "# les labels utilisé avec pyvis sont des chaînes de caractères\n",
    "labels_spectral_str = [str(label) for label in labels_spectral]\n",
    "\n",
    "net = Network(notebook=True)\n",
    "\n",
    "net.add_nodes(noeuds, \n",
    "              label=labels_spectral_str,\n",
    "              color=couleurs_spectral)\n",
    "\n",
    "net.add_edges(liste_adjacence)\n",
    "\n",
    "net.show('spectral.html')"
   ]
  },
  {
   "cell_type": "markdown",
   "metadata": {
    "id": "_5YZuDrki6-e"
   },
   "source": [
    "# 3. Clustering par propagation d'étiquette (\"label propagation\")\n",
    "\n",
    "## 3.1 Présentation\n",
    "\n",
    "L'algorithme de Clustering par \"label propagation\" est un algorithme itératif de clustering de graphe.\n",
    "\n",
    "Cet algorithme consiste à assigner une \"étiquette\" aux différents noeuds, puis, pour chaque noeud, à changer les différentes \"étiquettes\" en étudiant celles du voisinage de ce noeud.\n",
    "\n",
    "Vous trouverez ci-dessous les étapes de cet algorithme. Par la suite, on notera $ t $ l'itération de l'algorithme et $C_x(t) $ l'étiquette du noeud $ x $ à l'itération $ t $.\n",
    "\n",
    "(1) On initialise tout d'abord les labels de chaque noeuds en leur donnant une valeur différente : $$ \\forall x, C_x(0) = x .$$\n",
    "\n",
    "(2) On fixe $ t = 1$\n",
    "\n",
    "(3) On considère ensuite un ordre aléatoire $ X $ des noeuds du graphe.\n",
    "\n",
    "(4) Pour chaque noeud $ x $ dans l'ordre défini par $ X $, on met à jour le label du noeud $ x $. $ C_x(t) $ correspond alors au label le plus fréquent dans les voisins de $ x $. En cas d'égalité entre plusieurs labels, on en choisit un aléatoirement.\n",
    "\n",
    "(5) Enfin, si chaque noeud possède une étiquette que le nombre maximum de ses voisins possède, alors l'algorithme s'arrête. Sinon, $ t = t+1$ et on retourne en (3).\n",
    "\n",
    "$ \\\\ $\n",
    "\n",
    "Pour plus d'information, veuillez consulter le document suivant : https://arxiv.org/pdf/0709.2938.pdf\n",
    "\n",
    "## 3.2 Création du clustering"
   ]
  },
  {
   "cell_type": "code",
   "execution_count": 9,
   "metadata": {
    "collapsed": true,
    "id": "bnSGxzVWi6-f",
    "outputId": "e922ca07-d81b-479f-fd01-c10ec40de2bf"
   },
   "outputs": [],
   "source": [
    "from sknetwork.clustering import PropagationClustering\n",
    "\n",
    "propagation = PropagationClustering(n_iter=-1)\n",
    "\n",
    "adjacence_propagation = adjacence.copy()\n",
    "\n",
    "# propagation.fit_transform fit la matrice d'adjacence avec la méthode de propagation\n",
    "# et renvoie les labels de clustering correspondants\n",
    "labels_propagation = propagation.fit_transform(adjacence_propagation)\n",
    "\n",
    "np.savetxt('labels_propagation.txt',labels_propagation)"
   ]
  },
  {
   "cell_type": "markdown",
   "metadata": {
    "id": "XiPobA0_i6-g"
   },
   "source": [
    "## 3.3 Affichage des clusters obtenus\n",
    "\n",
    "### 3.3.1 Affichage avec scikit-network"
   ]
  },
  {
   "cell_type": "code",
   "execution_count": null,
   "metadata": {
    "collapsed": true,
    "id": "uRJOAOcai6-g",
    "outputId": "cf2decb5-f274-43fd-b7a7-64167efcc33d"
   },
   "outputs": [],
   "source": [
    "image_propagation = svg_graph(adjacence_propagation,labels=labels_propagation,node_size=9.,display_node_weight=False)\n",
    "SVG(image_propagation)"
   ]
  },
  {
   "cell_type": "markdown",
   "metadata": {},
   "source": [
    "### 3.3.2 Affichage avec pyvis"
   ]
  },
  {
   "cell_type": "code",
   "execution_count": null,
   "metadata": {
    "collapsed": true
   },
   "outputs": [],
   "source": [
    "couleurs_propagation = random_color_label(labels_propagation)\n",
    "\n",
    "# les labels utilisé avec pyvis sont des chaînes de caractères\n",
    "labels_propagation_str = [str(label) for label in labels_spectral]\n",
    "\n",
    "net = Network(notebook=True)\n",
    "\n",
    "net.add_nodes(noeuds, \n",
    "              label=labels_propagation_str,\n",
    "              color=couleurs_propagation)\n",
    "\n",
    "net.add_edges(liste_adjacence)\n",
    "\n",
    "net.show('propagation.html')"
   ]
  }
 ],
 "metadata": {
  "colab": {
   "provenance": []
  },
  "kernelspec": {
   "display_name": "Python 3",
   "language": "python",
   "name": "python3"
  },
  "language_info": {
   "codemirror_mode": {
    "name": "ipython",
    "version": 3
   },
   "file_extension": ".py",
   "mimetype": "text/x-python",
   "name": "python",
   "nbconvert_exporter": "python",
   "pygments_lexer": "ipython3",
   "version": "3.6.2"
  }
 },
 "nbformat": 4,
 "nbformat_minor": 1
}
