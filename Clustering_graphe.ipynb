{
 "cells": [
  {
   "cell_type": "code",
   "execution_count": 14,
   "metadata": {
    "colab": {
     "base_uri": "https://localhost:8080/"
    },
    "id": "Z16kMkpAXCET",
    "outputId": "284d98a2-843a-4da4-861d-138ac09742f5"
   },
   "outputs": [
    {
     "name": "stdout",
     "output_type": "stream",
     "text": [
      "Defaulting to user installation because normal site-packages is not writeable\n",
      "Requirement already satisfied: scikit-network in c:\\users\\florent\\appdata\\roaming\\python\\python36\\site-packages (0.22.0)\n",
      "Requirement already satisfied: numpy>=1.18.3 in c:\\users\\florent\\appdata\\roaming\\python\\python36\\site-packages (from scikit-network) (1.19.5)\n",
      "Requirement already satisfied: scipy>=1.4.1 in c:\\users\\florent\\appdata\\roaming\\python\\python36\\site-packages (from scikit-network) (1.5.4)\n"
     ]
    }
   ],
   "source": [
    "# module scikit-learn spécialisé dans l'analyse de graphe\n",
    "!pip install scikit-network"
   ]
  },
  {
   "cell_type": "markdown",
   "metadata": {
    "id": "Enz0TShTOokT"
   },
   "source": [
    "### Import des packages nécessaires au clustering :"
   ]
  },
  {
   "cell_type": "code",
   "execution_count": 15,
   "metadata": {
    "collapsed": true,
    "id": "78BIYvIUOvva"
   },
   "outputs": [],
   "source": [
    "# permet de manipuler des matrices creuses, beaucoup plus efficace en complexité\n",
    "from scipy import sparse\n",
    "\n",
    "import numpy as np\n",
    "\n",
    "import random\n",
    "\n",
    "#le package de scikit-network spécialisé dans le clustering de graphes\n",
    "import sknetwork.clustering\n",
    "\n",
    "# méthode permettant de créer un graphe \"visuel\" à partir d'une matrice d'adjacence\n",
    "from sknetwork.visualization import svg_graph\n",
    "\n",
    "# méthode permettant d'afficher les graphes obtenus avec svg_graph\n",
    "from IPython.display import SVG"
   ]
  },
  {
   "cell_type": "markdown",
   "metadata": {
    "id": "uRyDjilwPmH2"
   },
   "source": [
    "### Import du graphe des profils Twitter sous la forme d'une matrice d'adjacence (scipy sparse matrix)"
   ]
  },
  {
   "cell_type": "code",
   "execution_count": 16,
   "metadata": {
    "collapsed": true,
    "id": "8oiJMpPdP8Ik"
   },
   "outputs": [],
   "source": [
    "adjacence = np.eye(11)\n",
    "random.seed = 10\n",
    "for i in range(10) :\n",
    "    adjacence[random.randint(0,9),random.randint(0,9)] = 1\n",
    "adjacence = sparse.csr_matrix(adjacence)"
   ]
  },
  {
   "cell_type": "markdown",
   "metadata": {
    "id": "MaAAWC0Ki6-K"
   },
   "source": [
    "### Visualisation du graphe :"
   ]
  },
  {
   "cell_type": "code",
   "execution_count": 17,
   "metadata": {
    "id": "yZIP6YE0i6-M",
    "outputId": "cb05818a-1d27-4478-b69e-82c329771a3f"
   },
   "outputs": [
    {
     "data": {
      "image/svg+xml": [
       "<svg height=\"340\" width=\"440\" xmlns=\"http://www.w3.org/2000/svg\">\n",
       "<path d=\"M 406 153 406 153\" stroke=\"black\" stroke-width=\"1.0\"/>\n",
       "<path d=\"M 209 28 184 36\" stroke=\"black\" stroke-width=\"1.0\"/>\n",
       "<path d=\"M 209 28 209 28\" stroke=\"black\" stroke-width=\"1.0\"/>\n",
       "<path d=\"M 209 28 233 20\" stroke=\"black\" stroke-width=\"1.0\"/>\n",
       "<path d=\"M 359 175 359 175\" stroke=\"black\" stroke-width=\"1.0\"/>\n",
       "<path d=\"M 359 175 371 154\" stroke=\"black\" stroke-width=\"1.0\"/>\n",
       "<path d=\"M 20 150 20 150\" stroke=\"black\" stroke-width=\"1.0\"/>\n",
       "<path d=\"M 391 136 391 136\" stroke=\"black\" stroke-width=\"1.0\"/>\n",
       "<path d=\"M 184 36 184 36\" stroke=\"black\" stroke-width=\"1.0\"/>\n",
       "<path d=\"M 391 136 420 137\" stroke=\"black\" stroke-width=\"1.0\"/>\n",
       "<path d=\"M 338 150 338 150\" stroke=\"black\" stroke-width=\"1.0\"/>\n",
       "<path d=\"M 338 150 371 154\" stroke=\"black\" stroke-width=\"1.0\"/>\n",
       "<path d=\"M 233 20 233 20\" stroke=\"black\" stroke-width=\"1.0\"/>\n",
       "<path d=\"M 420 137 420 137\" stroke=\"black\" stroke-width=\"1.0\"/>\n",
       "<path d=\"M 420 137 406 153\" stroke=\"black\" stroke-width=\"1.0\"/>\n",
       "<path d=\"M 371 154 371 154\" stroke=\"black\" stroke-width=\"1.0\"/>\n",
       "<path d=\"M 406 153 371 154\" stroke=\"black\" stroke-width=\"1.0\"/>\n",
       "<path d=\"M 391 136 371 154\" stroke=\"black\" stroke-width=\"1.0\"/>\n",
       "<path d=\"M 408 320 408 320\" stroke=\"black\" stroke-width=\"1.0\"/>\n",
       "<circle cx=\"406\" cy=\"153\" r=\"7.0\" style=\"fill:gray;stroke:black;stroke-width:1.0\"/>\n",
       "<circle cx=\"371\" cy=\"154\" r=\"7.0\" style=\"fill:gray;stroke:black;stroke-width:1.0\"/>\n",
       "<circle cx=\"420\" cy=\"137\" r=\"7.0\" style=\"fill:gray;stroke:black;stroke-width:1.0\"/>\n",
       "<circle cx=\"233\" cy=\"20\" r=\"7.0\" style=\"fill:gray;stroke:black;stroke-width:1.0\"/>\n",
       "<circle cx=\"338\" cy=\"150\" r=\"7.0\" style=\"fill:gray;stroke:black;stroke-width:1.0\"/>\n",
       "<circle cx=\"391\" cy=\"136\" r=\"7.0\" style=\"fill:gray;stroke:black;stroke-width:1.0\"/>\n",
       "<circle cx=\"20\" cy=\"150\" r=\"7.0\" style=\"fill:gray;stroke:black;stroke-width:1.0\"/>\n",
       "<circle cx=\"359\" cy=\"175\" r=\"7.0\" style=\"fill:gray;stroke:black;stroke-width:1.0\"/>\n",
       "<circle cx=\"209\" cy=\"28\" r=\"7.0\" style=\"fill:gray;stroke:black;stroke-width:1.0\"/>\n",
       "<circle cx=\"184\" cy=\"36\" r=\"7.0\" style=\"fill:gray;stroke:black;stroke-width:1.0\"/>\n",
       "<circle cx=\"408\" cy=\"320\" r=\"7.0\" style=\"fill:gray;stroke:black;stroke-width:1.0\"/>\n",
       "</svg>"
      ],
      "text/plain": [
       "<IPython.core.display.SVG object>"
      ]
     },
     "execution_count": 17,
     "metadata": {},
     "output_type": "execute_result"
    }
   ],
   "source": [
    "# Pour afficher le graphe, la matrice d'adjacence doit nécessairement être une\n",
    "# sparse matrix de scipy\n",
    "image = svg_graph(adjacence)\n",
    "SVG(image)"
   ]
  },
  {
   "cell_type": "markdown",
   "metadata": {
    "id": "AboQAVTwSks1"
   },
   "source": [
    "# 1.   L'algorithme de Louvain\n",
    "\n",
    "L'algorithme de Louvain est un algorithme itératif de clustering de graphe.\n",
    "\n",
    "Le but de l'algorithme est de choisir le partitionnement de graphe qui maximise une certaine fonction de gain Q appelée modularité.\n",
    "\n",
    "Cet algorithme est composé de deux phases.\n",
    "\n",
    "(1) Dans la première phase, on assigne une communauté à chaque noeud du graphe. Puis, on parcourt chaque noeud et on le met dans la communauté qui augmente le plus la fonction de gain Q. La première phase s'arrête lorsqu'aucun mouvement d'un individu ne permet d'augmenter Q.\n",
    "\n",
    "(2) Dans la deuxième phase, on construit un nouveau réseau dans lequel les noeuds correspondent aux communautés construites précédemment.\n",
    "\n",
    "Une fois ceci fait, on réitère ces deux phases sur ce nouveau réseau, puis on arrête l'algorithme lorsqu'on ne peut plus augmenter Q.\n",
    "\n",
    "$ \\\\ $\n",
    "\n",
    "Pour plus d'information, veuillez lire le document suivant : https://arxiv.org/pdf/0803.0476v2.pdf"
   ]
  },
  {
   "cell_type": "code",
   "execution_count": 18,
   "metadata": {
    "colab": {
     "base_uri": "https://localhost:8080/",
     "height": 294
    },
    "id": "h5j-avWXWArb",
    "outputId": "b1f603b2-32a9-40ea-8a14-2d0e4225a4c8"
   },
   "outputs": [
    {
     "name": "stdout",
     "output_type": "stream",
     "text": [
      "[1 0 1 2 0 1 3 0 2 2 4]\n"
     ]
    }
   ],
   "source": [
    "from sknetwork.clustering import Louvain\n",
    "\n",
    "adjacence_louvain = adjacence.copy()\n",
    "\n",
    "louvain = Louvain(random_state=0)\n",
    "\n",
    "# louvain.fit_transform fit la matrice d'adjacence avec la méthode de Louvain et renvoie\n",
    "# les labels de clustering correspondants\n",
    "labels_louvain = louvain.fit_transform(adjacence_louvain)\n",
    "\n",
    "print(labels_louvain)"
   ]
  },
  {
   "cell_type": "markdown",
   "metadata": {
    "id": "jnCc_84Hi6-X"
   },
   "source": [
    "### Affichage du graphe avec les clusters obtenus par l'algorithme de Louvain :"
   ]
  },
  {
   "cell_type": "code",
   "execution_count": 19,
   "metadata": {
    "id": "_9MtrkUMi6-Z",
    "outputId": "2a660fe8-603c-473a-ab98-2490b05e5e54"
   },
   "outputs": [
    {
     "data": {
      "image/svg+xml": [
       "<svg height=\"340\" width=\"440\" xmlns=\"http://www.w3.org/2000/svg\">\n",
       "<path d=\"M 288 188 288 188\" stroke=\"black\" stroke-width=\"1.0\"/>\n",
       "<path d=\"M 410 34 420 49\" stroke=\"black\" stroke-width=\"1.0\"/>\n",
       "<path d=\"M 410 34 410 34\" stroke=\"black\" stroke-width=\"1.0\"/>\n",
       "<path d=\"M 410 34 401 20\" stroke=\"black\" stroke-width=\"1.0\"/>\n",
       "<path d=\"M 224 184 224 184\" stroke=\"black\" stroke-width=\"1.0\"/>\n",
       "<path d=\"M 224 184 255 189\" stroke=\"black\" stroke-width=\"1.0\"/>\n",
       "<path d=\"M 385 320 385 320\" stroke=\"black\" stroke-width=\"1.0\"/>\n",
       "<path d=\"M 274 173 274 173\" stroke=\"black\" stroke-width=\"1.0\"/>\n",
       "<path d=\"M 420 49 420 49\" stroke=\"black\" stroke-width=\"1.0\"/>\n",
       "<path d=\"M 274 173 301 174\" stroke=\"black\" stroke-width=\"1.0\"/>\n",
       "<path d=\"M 244 207 244 207\" stroke=\"black\" stroke-width=\"1.0\"/>\n",
       "<path d=\"M 244 207 255 189\" stroke=\"black\" stroke-width=\"1.0\"/>\n",
       "<path d=\"M 401 20 401 20\" stroke=\"black\" stroke-width=\"1.0\"/>\n",
       "<path d=\"M 301 174 301 174\" stroke=\"black\" stroke-width=\"1.0\"/>\n",
       "<path d=\"M 301 174 288 188\" stroke=\"black\" stroke-width=\"1.0\"/>\n",
       "<path d=\"M 255 189 255 189\" stroke=\"black\" stroke-width=\"1.0\"/>\n",
       "<path d=\"M 288 188 255 189\" stroke=\"black\" stroke-width=\"1.0\"/>\n",
       "<path d=\"M 274 173 255 189\" stroke=\"black\" stroke-width=\"1.0\"/>\n",
       "<path d=\"M 20 154 20 154\" stroke=\"black\" stroke-width=\"1.0\"/>\n",
       "<circle cx=\"288\" cy=\"188\" r=\"7.0\" style=\"fill:red;stroke:black;stroke-width:1.0\"/>\n",
       "<circle cx=\"255\" cy=\"189\" r=\"7.0\" style=\"fill:blue;stroke:black;stroke-width:1.0\"/>\n",
       "<circle cx=\"301\" cy=\"174\" r=\"7.0\" style=\"fill:red;stroke:black;stroke-width:1.0\"/>\n",
       "<circle cx=\"401\" cy=\"20\" r=\"7.0\" style=\"fill:green;stroke:black;stroke-width:1.0\"/>\n",
       "<circle cx=\"244\" cy=\"207\" r=\"7.0\" style=\"fill:blue;stroke:black;stroke-width:1.0\"/>\n",
       "<circle cx=\"274\" cy=\"173\" r=\"7.0\" style=\"fill:red;stroke:black;stroke-width:1.0\"/>\n",
       "<circle cx=\"385\" cy=\"320\" r=\"7.0\" style=\"fill:orange;stroke:black;stroke-width:1.0\"/>\n",
       "<circle cx=\"224\" cy=\"184\" r=\"7.0\" style=\"fill:blue;stroke:black;stroke-width:1.0\"/>\n",
       "<circle cx=\"410\" cy=\"34\" r=\"7.0\" style=\"fill:green;stroke:black;stroke-width:1.0\"/>\n",
       "<circle cx=\"420\" cy=\"49\" r=\"7.0\" style=\"fill:green;stroke:black;stroke-width:1.0\"/>\n",
       "<circle cx=\"20\" cy=\"154\" r=\"7.0\" style=\"fill:purple;stroke:black;stroke-width:1.0\"/>\n",
       "</svg>"
      ],
      "text/plain": [
       "<IPython.core.display.SVG object>"
      ]
     },
     "execution_count": 19,
     "metadata": {},
     "output_type": "execute_result"
    }
   ],
   "source": [
    "image_louvain = svg_graph(adjacence_louvain,labels=labels_louvain)\n",
    "SVG(image_louvain)"
   ]
  },
  {
   "cell_type": "markdown",
   "metadata": {
    "id": "vESZHnaji6-a"
   },
   "source": [
    "# 2. Clustering spectral\n",
    "\n",
    "\n",
    "L'algorithme de Clustering spectral est un algorithme de clustering de graphe utilisant la méthode des k-means.\n",
    "\n",
    "Cette méthode des k-means a été vue en cours, mais ne peut pas s'appliquer directement à un graphe, qui, contrairement à un nuage de points par exemple, n'a pas de portée géométrique.\n",
    "\n",
    "(1) Pour appliquer la méthode des k-means, on considère alors la matrice de Laplace. Pour rappel, cette matrice est définie par :\n",
    "$$ L = D-A $$\n",
    "où $A$ est la matrice d'adjacence, et $D$ est une matrice diagonale où chaque élément de la diagonale est la somme des éléments de la ligne de $A$ correspondante\n",
    "\n",
    "(2) Une fois cette matrice calculée, on détermine les vecteurs propres de cette matrice. On sélectionne alors les k vecteurs propres (où k est le nombre de clusters voulus) correspondants aux k premières valeurs propres (rangées dans par ordre croissant).\n",
    "\n",
    "(3) Enfin, il suffit d'appliquer l'algorithme des k-means à ces k vecteurs propres.\n",
    "\n",
    "\n",
    "On remarquera que dans cet algorithme, contrairement aux deux autres algorithmes présentés, on a pas besoin de spécifier le nombre de clusters voulus.\n",
    "\n",
    "\n",
    "$ \\\\ $\n",
    "\n",
    "Pour plus d'information, veuillez vous référer à la page Wikipédia correspondante : https://en.wikipedia.org/wiki/Spectral_clustering"
   ]
  },
  {
   "cell_type": "code",
   "execution_count": 20,
   "metadata": {
    "id": "LK5DCPzni6-c",
    "outputId": "ea8115b4-305e-4491-91c1-823c5ccbbfe5"
   },
   "outputs": [
    {
     "name": "stdout",
     "output_type": "stream",
     "text": [
      "[0 0 1 2 0 0 0 1 2 3 1]\n"
     ]
    }
   ],
   "source": [
    "# la méthode KMeans correspond bien à du clustering spectral, et non à le méthode des k-means,\n",
    "# qui n'a pas de sens pour un graphe\n",
    "from sknetwork.clustering import KMeans\n",
    "\n",
    "adjacence_spectral = adjacence.copy()\n",
    "\n",
    "kmeans = KMeans(n_clusters=4)\n",
    "\n",
    "# kmeans.fit_transform fit la matrice d'adjacence avec la méthode de clustering spectral\n",
    "# et renvoie les labels de clustering correspondants\n",
    "labels_spectral = kmeans.fit_transform(adjacence_spectral)\n",
    "\n",
    "print(labels_spectral)"
   ]
  },
  {
   "cell_type": "markdown",
   "metadata": {
    "id": "FAh2ye8Ci6-d"
   },
   "source": [
    "### Affichage du graphe avec les clusters obtenus par l'algorithme de clustering spectral :"
   ]
  },
  {
   "cell_type": "code",
   "execution_count": 21,
   "metadata": {
    "id": "KXNL97IEi6-d",
    "outputId": "6fd06d00-723c-4bfe-d5de-74ef0e481810"
   },
   "outputs": [
    {
     "data": {
      "image/svg+xml": [
       "<svg height=\"340\" width=\"440\" xmlns=\"http://www.w3.org/2000/svg\">\n",
       "<path d=\"M 374 244 374 244\" stroke=\"black\" stroke-width=\"1.0\"/>\n",
       "<path d=\"M 81 299 85 278\" stroke=\"black\" stroke-width=\"1.0\"/>\n",
       "<path d=\"M 81 299 81 299\" stroke=\"black\" stroke-width=\"1.0\"/>\n",
       "<path d=\"M 81 299 77 320\" stroke=\"black\" stroke-width=\"1.0\"/>\n",
       "<path d=\"M 323 224 323 224\" stroke=\"black\" stroke-width=\"1.0\"/>\n",
       "<path d=\"M 323 224 358 221\" stroke=\"black\" stroke-width=\"1.0\"/>\n",
       "<path d=\"M 20 101 20 101\" stroke=\"black\" stroke-width=\"1.0\"/>\n",
       "<path d=\"M 392 225 392 225\" stroke=\"black\" stroke-width=\"1.0\"/>\n",
       "<path d=\"M 85 278 85 278\" stroke=\"black\" stroke-width=\"1.0\"/>\n",
       "<path d=\"M 392 225 403 245\" stroke=\"black\" stroke-width=\"1.0\"/>\n",
       "<path d=\"M 350 196 350 196\" stroke=\"black\" stroke-width=\"1.0\"/>\n",
       "<path d=\"M 350 196 358 221\" stroke=\"black\" stroke-width=\"1.0\"/>\n",
       "<path d=\"M 77 320 77 320\" stroke=\"black\" stroke-width=\"1.0\"/>\n",
       "<path d=\"M 403 245 403 245\" stroke=\"black\" stroke-width=\"1.0\"/>\n",
       "<path d=\"M 403 245 374 244\" stroke=\"black\" stroke-width=\"1.0\"/>\n",
       "<path d=\"M 358 221 358 221\" stroke=\"black\" stroke-width=\"1.0\"/>\n",
       "<path d=\"M 374 244 358 221\" stroke=\"black\" stroke-width=\"1.0\"/>\n",
       "<path d=\"M 392 225 358 221\" stroke=\"black\" stroke-width=\"1.0\"/>\n",
       "<path d=\"M 420 20 420 20\" stroke=\"black\" stroke-width=\"1.0\"/>\n",
       "<circle cx=\"374\" cy=\"244\" r=\"7.0\" style=\"fill:blue;stroke:black;stroke-width:1.0\"/>\n",
       "<circle cx=\"358\" cy=\"221\" r=\"7.0\" style=\"fill:blue;stroke:black;stroke-width:1.0\"/>\n",
       "<circle cx=\"403\" cy=\"245\" r=\"7.0\" style=\"fill:red;stroke:black;stroke-width:1.0\"/>\n",
       "<circle cx=\"77\" cy=\"320\" r=\"7.0\" style=\"fill:green;stroke:black;stroke-width:1.0\"/>\n",
       "<circle cx=\"350\" cy=\"196\" r=\"7.0\" style=\"fill:blue;stroke:black;stroke-width:1.0\"/>\n",
       "<circle cx=\"392\" cy=\"225\" r=\"7.0\" style=\"fill:blue;stroke:black;stroke-width:1.0\"/>\n",
       "<circle cx=\"20\" cy=\"101\" r=\"7.0\" style=\"fill:blue;stroke:black;stroke-width:1.0\"/>\n",
       "<circle cx=\"323\" cy=\"224\" r=\"7.0\" style=\"fill:red;stroke:black;stroke-width:1.0\"/>\n",
       "<circle cx=\"81\" cy=\"299\" r=\"7.0\" style=\"fill:green;stroke:black;stroke-width:1.0\"/>\n",
       "<circle cx=\"85\" cy=\"278\" r=\"7.0\" style=\"fill:orange;stroke:black;stroke-width:1.0\"/>\n",
       "<circle cx=\"420\" cy=\"20\" r=\"7.0\" style=\"fill:red;stroke:black;stroke-width:1.0\"/>\n",
       "</svg>"
      ],
      "text/plain": [
       "<IPython.core.display.SVG object>"
      ]
     },
     "execution_count": 21,
     "metadata": {},
     "output_type": "execute_result"
    }
   ],
   "source": [
    "image_spectral = svg_graph(adjacence_spectral,labels=labels_spectral)\n",
    "SVG(image_spectral)"
   ]
  },
  {
   "cell_type": "markdown",
   "metadata": {
    "id": "_5YZuDrki6-e"
   },
   "source": [
    "# 3. Clustering par propagation d'étiquette (\"label propagation\")\n",
    "\n",
    "L'algorithme de Clustering par \"label propagation\" est un algorithme itératif de clustering de graphe.\n",
    "\n",
    "Cet algorithme consiste à assigner une \"étiquette\" aux différents noeuds, puis, pour chaque noeud, à changer les différentes \"étiquettes\" en étudiant celles du voisinage de ce noeud.\n",
    "\n",
    "Vous trouverez ci-dessous les étapes de cet algorithme. Par la suite, on notera $ t $ l'itération de l'algorithme et $C_x(t) $ l'étiquette du noeud $ x $ à l'itération $ t $.\n",
    "\n",
    "(1) On initialise tout d'abord les labels de chaque noeuds en leur donnant une valeur différente : $$ \\forall x, C_x(0) = x .$$\n",
    "\n",
    "(2) On fixe $ t = 1$\n",
    "\n",
    "(3) On considère ensuite un ordre aléatoire $ X $ des noeuds du graphe.\n",
    "\n",
    "(4) Pour chaque noeud $ x $ dans l'ordre défini par $ X $, on met à jour le label du noeud $ x $. $ C_x(t) $ correspond alors au label le plus fréquent dans les voisins de $ x $. En cas d'égalité entre plusieurs labels, on en choisit un aléatoirement.\n",
    "\n",
    "(5) Enfin, si chaque noeud possède une étiquette que le nombre maximum de ses voisins possède, alors l'algorithme s'arrête. Sinon, $ t = t+1$ et on retourne en (3).\n",
    "\n",
    "$ \\\\ $\n",
    "\n",
    "Pour plus d'information, veuillez consulter le document suivant : https://arxiv.org/pdf/0709.2938.pdf"
   ]
  },
  {
   "cell_type": "code",
   "execution_count": 22,
   "metadata": {
    "id": "bnSGxzVWi6-f",
    "outputId": "e922ca07-d81b-479f-fd01-c10ec40de2bf"
   },
   "outputs": [
    {
     "name": "stdout",
     "output_type": "stream",
     "text": [
      "[0 1 0 2 1 0 3 1 2 4 5]\n"
     ]
    }
   ],
   "source": [
    "from sknetwork.clustering import PropagationClustering\n",
    "\n",
    "propagation = PropagationClustering(n_iter=-1)\n",
    "\n",
    "adjacence_propagation = adjacence.copy()\n",
    "\n",
    "# propagation.fit_transform fit la matrice d'adjacence avec la méthode de propagation\n",
    "# et renvoie les labels de clustering correspondants\n",
    "labels_propagation = propagation.fit_transform(adjacence_propagation)\n",
    "\n",
    "print(labels_propagation)"
   ]
  },
  {
   "cell_type": "markdown",
   "metadata": {
    "id": "XiPobA0_i6-g"
   },
   "source": [
    "### Affichage du graphe avec les clusters obtenus par l'algorithme de propagation :"
   ]
  },
  {
   "cell_type": "code",
   "execution_count": 23,
   "metadata": {
    "id": "uRJOAOcai6-g",
    "outputId": "cf2decb5-f274-43fd-b7a7-64167efcc33d"
   },
   "outputs": [
    {
     "data": {
      "image/svg+xml": [
       "<svg height=\"340\" width=\"440\" xmlns=\"http://www.w3.org/2000/svg\">\n",
       "<path d=\"M 124 88 124 88\" stroke=\"black\" stroke-width=\"1.0\"/>\n",
       "<path d=\"M 401 39 383 20\" stroke=\"black\" stroke-width=\"1.0\"/>\n",
       "<path d=\"M 401 39 401 39\" stroke=\"black\" stroke-width=\"1.0\"/>\n",
       "<path d=\"M 401 39 420 58\" stroke=\"black\" stroke-width=\"1.0\"/>\n",
       "<path d=\"M 65 66 65 66\" stroke=\"black\" stroke-width=\"1.0\"/>\n",
       "<path d=\"M 65 66 84 91\" stroke=\"black\" stroke-width=\"1.0\"/>\n",
       "<path d=\"M 20 320 20 320\" stroke=\"black\" stroke-width=\"1.0\"/>\n",
       "<path d=\"M 112 112 112 112\" stroke=\"black\" stroke-width=\"1.0\"/>\n",
       "<path d=\"M 383 20 383 20\" stroke=\"black\" stroke-width=\"1.0\"/>\n",
       "<path d=\"M 112 112 145 107\" stroke=\"black\" stroke-width=\"1.0\"/>\n",
       "<path d=\"M 48 102 48 102\" stroke=\"black\" stroke-width=\"1.0\"/>\n",
       "<path d=\"M 48 102 84 91\" stroke=\"black\" stroke-width=\"1.0\"/>\n",
       "<path d=\"M 420 58 420 58\" stroke=\"black\" stroke-width=\"1.0\"/>\n",
       "<path d=\"M 145 107 145 107\" stroke=\"black\" stroke-width=\"1.0\"/>\n",
       "<path d=\"M 145 107 124 88\" stroke=\"black\" stroke-width=\"1.0\"/>\n",
       "<path d=\"M 84 91 84 91\" stroke=\"black\" stroke-width=\"1.0\"/>\n",
       "<path d=\"M 124 88 84 91\" stroke=\"black\" stroke-width=\"1.0\"/>\n",
       "<path d=\"M 112 112 84 91\" stroke=\"black\" stroke-width=\"1.0\"/>\n",
       "<path d=\"M 309 295 309 295\" stroke=\"black\" stroke-width=\"1.0\"/>\n",
       "<circle cx=\"124\" cy=\"88\" r=\"7.0\" style=\"fill:blue;stroke:black;stroke-width:1.0\"/>\n",
       "<circle cx=\"84\" cy=\"91\" r=\"7.0\" style=\"fill:red;stroke:black;stroke-width:1.0\"/>\n",
       "<circle cx=\"145\" cy=\"107\" r=\"7.0\" style=\"fill:blue;stroke:black;stroke-width:1.0\"/>\n",
       "<circle cx=\"420\" cy=\"58\" r=\"7.0\" style=\"fill:green;stroke:black;stroke-width:1.0\"/>\n",
       "<circle cx=\"48\" cy=\"102\" r=\"7.0\" style=\"fill:red;stroke:black;stroke-width:1.0\"/>\n",
       "<circle cx=\"112\" cy=\"112\" r=\"7.0\" style=\"fill:blue;stroke:black;stroke-width:1.0\"/>\n",
       "<circle cx=\"20\" cy=\"320\" r=\"7.0\" style=\"fill:orange;stroke:black;stroke-width:1.0\"/>\n",
       "<circle cx=\"65\" cy=\"66\" r=\"7.0\" style=\"fill:red;stroke:black;stroke-width:1.0\"/>\n",
       "<circle cx=\"401\" cy=\"39\" r=\"7.0\" style=\"fill:green;stroke:black;stroke-width:1.0\"/>\n",
       "<circle cx=\"383\" cy=\"20\" r=\"7.0\" style=\"fill:purple;stroke:black;stroke-width:1.0\"/>\n",
       "<circle cx=\"309\" cy=\"295\" r=\"7.0\" style=\"fill:yellow;stroke:black;stroke-width:1.0\"/>\n",
       "</svg>"
      ],
      "text/plain": [
       "<IPython.core.display.SVG object>"
      ]
     },
     "execution_count": 23,
     "metadata": {},
     "output_type": "execute_result"
    }
   ],
   "source": [
    "image_propagation = svg_graph(adjacence_propagation,labels=labels_propagation)\n",
    "SVG(image_propagation)"
   ]
  }
 ],
 "metadata": {
  "colab": {
   "provenance": []
  },
  "kernelspec": {
   "display_name": "Python 3",
   "language": "python",
   "name": "python3"
  },
  "language_info": {
   "codemirror_mode": {
    "name": "ipython",
    "version": 3
   },
   "file_extension": ".py",
   "mimetype": "text/x-python",
   "name": "python",
   "nbconvert_exporter": "python",
   "pygments_lexer": "ipython3",
   "version": "3.6.2"
  }
 },
 "nbformat": 4,
 "nbformat_minor": 1
}
