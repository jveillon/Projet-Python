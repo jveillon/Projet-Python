{
 "cells": [
  {
   "cell_type": "markdown",
   "metadata": {},
   "source": [
    "# Création de la base de données de following en utilisant l'api V2 de Twitter\n",
    "\n",
    "Ce Notebook correspond à l'ancienne version de la création du ditionnaire des relations Twitter, ayant été obtenues uniquement avec l'API V2 de Twitter"
   ]
  },
  {
   "cell_type": "code",
   "execution_count": null,
   "metadata": {},
   "outputs": [],
   "source": [
    "!pip install twitter==2.0a2"
   ]
  },
  {
   "cell_type": "markdown",
   "metadata": {},
   "source": [
    "### Import des packages"
   ]
  },
  {
   "cell_type": "code",
   "execution_count": null,
   "metadata": {
    "collapsed": true,
    "jupyter": {
     "outputs_hidden": true
    }
   },
   "outputs": [],
   "source": [
    "import twitter\n",
    "import json\n",
    "import time\n",
    "from twitter import OAuth2\n",
    "from urllib.request import urlopen"
   ]
  },
  {
   "cell_type": "markdown",
   "metadata": {},
   "source": [
    "### On récupère la liste des ids à partir de laquelle on va construire le graphe"
   ]
  },
  {
   "cell_type": "code",
   "execution_count": null,
   "metadata": {
    "collapsed": true,
    "jupyter": {
     "outputs_hidden": true
    }
   },
   "outputs": [],
   "source": [
    "# l'url change régulièrement, il faut donc aller à l'adresse suivante :\n",
    "# https://github.com/jveillon/Projet-Python/raw/FixedScrapping/users.json \n",
    "# et rentrer l'url obtenu (contenant un token)\n",
    "url = pass\n",
    "\n",
    "response = urlopen(url)\n",
    "\n",
    "data_json = json.loads(response.read())\n",
    "\n",
    "ids = data_json['id']\n",
    "liste_id = [ids[str(i)] for i in range(len(ids))]"
   ]
  },
  {
   "cell_type": "markdown",
   "metadata": {},
   "source": [
    "### Les requêtes obtenues vont être stockées dans un dictionnaire : dictionnaire_following"
   ]
  },
  {
   "cell_type": "code",
   "execution_count": null,
   "metadata": {
    "collapsed": true,
    "jupyter": {
     "outputs_hidden": true
    }
   },
   "outputs": [],
   "source": [
    "dictionnaire_following = {}\n",
    "n_requete = len(liste_id)"
   ]
  },
  {
   "cell_type": "markdown",
   "metadata": {},
   "source": [
    "### Fonction permettant de construire le dictionnaire"
   ]
  },
  {
   "cell_type": "code",
   "execution_count": null,
   "metadata": {
    "collapsed": true,
    "jupyter": {
     "outputs_hidden": true
    }
   },
   "outputs": [],
   "source": [
    "def construction_dictionnaire(bearer,i) :\n",
    "    '''\n",
    "    Le but de cette fonction est de construire dictionnaire_following en utilisant plusieurs bearer différents, car\n",
    "    chaque bearer est limité en termes de nombre de requêtes toutes les 15 minutes\n",
    "    \n",
    "    Entrée :\n",
    "    \n",
    "    bearer : str\n",
    "    i : int : indice dans la boucle, pour pouvoir construire le dictionnaire sur de nouveaux utilisateurs\n",
    "    --------------------\n",
    "    Sortie :\n",
    "    \n",
    "    None\n",
    "    --------------------\n",
    "    Modifie par effet de bord dictionnaire_following\n",
    "    \n",
    "    '''\n",
    "    # avec un compte, on ne peut faire que 15 demandes de listes de followers toutes les 15 minutes\n",
    "    for j in range (i,i+15) :\n",
    "        \n",
    "        auth = OAuth2(bearer_token=bearer)\n",
    "        api = twitter.Twitter(auth=auth,api_version=\"2\",format=\"\")\n",
    "        \n",
    "        id_user = liste_id[j]\n",
    "        \n",
    "        # la requête permettant d'accéder aux followings\n",
    "        following_dict = api.users._id.following(_id= id_user,max_results=1000)\n",
    "        \n",
    "        # on doit vérifier que la requête obtenue est bien conforme\n",
    "        # il peut arriver que le dictionnaire renvoyé en requête n'est pas bon \n",
    "        # (c'est le cas de l'id n°92 par exemple)\n",
    "        if 'data' in following_dict.keys() :\n",
    "            following = following_dict['data']\n",
    "            # la liste des following de l'id en question\n",
    "            ids_following = [following[k]['id'] for k in range(len(following))]\n",
    "            dictionnaire_following.update({id_user : ids_following})"
   ]
  },
  {
   "cell_type": "markdown",
   "metadata": {},
   "source": [
    "### Les différents bearers utilisés"
   ]
  },
  {
   "cell_type": "code",
   "execution_count": null,
   "metadata": {
    "tags": []
   },
   "outputs": [],
   "source": [
    "# la liste des bearers (str)\n",
    "bearers = []"
   ]
  },
  {
   "cell_type": "markdown",
   "metadata": {},
   "source": [
    "### Création du dictionnaire"
   ]
  },
  {
   "cell_type": "code",
   "execution_count": null,
   "metadata": {},
   "outputs": [],
   "source": [
    "i = 0\n",
    "continuer = True\n",
    "\n",
    "while True :\n",
    "        \n",
    "    for bearer in bearers :\n",
    "        print(i)\n",
    "        if i >= n_requete - 15 :\n",
    "            continuer = False\n",
    "            break\n",
    "        construction_dictionnaire(bearer,i)\n",
    "        i += 15\n",
    "    \n",
    "    # on sauvegarde le dictionnaire mis à jour\n",
    "    with open('dictionnaire_following-v2.json', 'w') as fp:\n",
    "        json.dump(dictionnaire_following, fp)\n",
    "    \n",
    "    if not(continuer) : break\n",
    "\n",
    "    # on doit attendre 15 minutes avant de pouvoir faire de nouvelles requêtes\n",
    "    time.sleep(900)"
   ]
  }
 ],
 "metadata": {
  "kernelspec": {
   "display_name": "Python 3 (ipykernel)",
   "language": "python",
   "name": "python3"
  },
  "language_info": {
   "codemirror_mode": {
    "name": "ipython",
    "version": 3
   },
   "file_extension": ".py",
   "mimetype": "text/x-python",
   "name": "python",
   "nbconvert_exporter": "python",
   "pygments_lexer": "ipython3",
   "version": "3.10.4"
  }
 },
 "nbformat": 4,
 "nbformat_minor": 4
}
